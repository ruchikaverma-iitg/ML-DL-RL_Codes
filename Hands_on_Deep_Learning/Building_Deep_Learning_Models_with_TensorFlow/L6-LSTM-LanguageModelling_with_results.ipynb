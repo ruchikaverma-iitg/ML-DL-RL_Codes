{
 "cells": [
  {
   "cell_type": "markdown",
   "metadata": {},
   "source": [
    "<h2>Applying Recurrent Neural Networks/LSTM for Language Modeling</h2>\n",
    "\n",
    "In this notebook, we will go over the topic of Language Modelling, and create a Recurrent Neural Network model based on the Long Short-Term Memory unit to train and benchmark on the Penn Treebank dataset. By the end of this notebook, you should be able to understand how TensorFlow builds and executes a RNN model for Language Modelling.\n"
   ]
  },
  {
   "cell_type": "markdown",
   "metadata": {},
   "source": [
    "<h2>The Objective</h2>\n",
    "\n",
    "By now, you should have an understanding of how Recurrent Networks work -- a specialized model to process sequential data by keeping track of the \"state\" or context. In this notebook, we go over a TensorFlow code snippet for creating a model focused on <b>Language Modelling</b> -- a very relevant task that is the cornerstone of many different linguistic problems such as <b>Speech Recognition, Machine Translation and Image Captioning</b>. For this, we will be using the Penn Treebank dataset, which is an often-used dataset for benchmarking Language Modelling models.\n"
   ]
  },
  {
   "cell_type": "markdown",
   "metadata": {},
   "source": [
    "Table of Contents\n",
    "- language_modelling\n",
    "- treebank_dataset\n",
    "- word_embedding\n",
    "- building_lstm_model\n",
    "- LSTM"
   ]
  },
  {
   "cell_type": "markdown",
   "metadata": {
    "button": false,
    "new_sheet": false,
    "run_control": {
     "read_only": false
    }
   },
   "source": [
    "* * *\n"
   ]
  },
  {
   "cell_type": "markdown",
   "metadata": {},
   "source": [
    "<a id=\"language_modelling\"></a>\n",
    "\n",
    "<h2>What exactly is Language Modelling?</h2>\n",
    "\n",
    "Language Modelling, to put it simply, <b>is the task of assigning probabilities to sequences of words</b>. This means that, given a context of one or a sequence of words in the language the model was trained on, the model should provide the next most probable words or sequence of words that follows from the given sequence of words the sentence. Language Modelling is one of the most important tasks in Natural Language Processing.\n",
    "\n",
    "<img src=\"https://ibm.box.com/shared/static/1d1i5gub6wljby2vani2vzxp0xsph702.png\" width=\"1080\">\n",
    "<center><i>Example of a sentence being predicted</i></center>\n",
    "<br><br>\n",
    "In this example, one can see the predictions for the next word of a sentence, given the context \"This is an\". As you can see, this boils down to a sequential data analysis task -- you are given a word or a sequence of words (the input data), and, given the context (the state), you need to find out what is the next word (the prediction). This kind of analysis is very important for language-related tasks such as <b>Speech Recognition, Machine Translation, Image Captioning, Text Correction</b> and many other very relevant problems. \n",
    "\n",
    "<img src=\"https://ibm.box.com/shared/static/az39idf9ipfdpc5ugifpgxnydelhyf3i.png\" width=\"1080\">\n",
    "<center><i>The above example is a schema of an RNN in execution</i></center>\n",
    "<br><br>\n",
    "As the above image shows, Recurrent Network models fit this problem like a glove. Alongside LSTM and its capacity to maintain the model's state for over one thousand time steps, we have all the tools we need to undertake this problem. The goal for this notebook is to create a model that can reach <b>low levels of perplexity</b> on our desired dataset.\n",
    "\n",
    "For Language Modelling problems, <b>perplexity</b> is the way to gauge efficiency. Perplexity is simply a measure of how well a probabilistic model is able to predict its sample. A higher-level way to explain this would be saying that <b>low perplexity means a higher degree of trust in the predictions the model makes</b>. Therefore, the lower perplexity is, the better.\n"
   ]
  },
  {
   "cell_type": "markdown",
   "metadata": {},
   "source": [
    "<a id=\"treebank_dataset\"></a>\n",
    "\n",
    "<h2>The Penn Treebank dataset</h2>\n",
    "\n",
    "Historically, datasets big enough for Natural Language Processing are hard to come by. This is in part due to the necessity of the sentences to be broken down and tagged with a certain degree of correctness -- or else the models trained on it won't be able to be correct at all. This means that we need a <b>large amount of data, annotated by or at least corrected by humans</b>. This is, of course, not an easy task at all.\n",
    "\n",
    "The Penn Treebank, or PTB for short, is a dataset maintained by the University of Pennsylvania. It is <i>huge</i> -- there are over <b>four million and eight hundred thousand</b> annotated words in it, all corrected by humans. It is composed of many different sources, from abstracts of Department of Energy papers to texts from the Library of America. Since it is verifiably correct and of such a huge size, the Penn Treebank is commonly used as a benchmark dataset for Language Modelling.\n",
    "\n",
    "The dataset is divided in different kinds of annotations, such as Piece-of-Speech, Syntactic and Semantic skeletons. For this example, we will simply use a sample of clean, non-annotated words (with the exception of one tag --<code>&lt;unk></code>\n",
    ", which is used for rare words such as uncommon proper nouns) for our model. This means that we just want to predict what the next words would be, not what they mean in context or their classes on a given sentence.\n",
    "\n",
    "<center>Example of text from the dataset we are going to use, <b>ptb.train</b></center>\n",
    "<br><br>\n",
    "\n",
    "<div class=\"alert alert-block alert-info\" style=\"margin-top: 20px\">\n",
    "    <center>the percentage of lung cancer deaths among the workers at the west <code>&lt;unk&gt;</code> mass. paper factory appears to be the highest for any asbestos workers studied in western industrialized countries he said \n",
    " the plant which is owned by <code>&lt;unk&gt;</code> & <code>&lt;unk&gt;</code> co. was under contract with <code>&lt;unk&gt;</code> to make the cigarette filters \n",
    " the finding probably will support those who argue that the U.S. should regulate the class of asbestos including <code>&lt;unk&gt;</code> more <code>&lt;unk&gt;</code> than the common kind of asbestos <code>&lt;unk&gt;</code> found in most schools and other buildings dr. <code>&lt;unk&gt;</code> said</center>\n",
    "</div>\n"
   ]
  },
  {
   "cell_type": "markdown",
   "metadata": {
    "button": false,
    "new_sheet": false,
    "run_control": {
     "read_only": false
    }
   },
   "source": [
    "<a id=\"word_embedding\"></a>\n",
    "\n",
    "<h2>Word Embeddings</h2><br/>\n",
    "\n",
    "For better processing, in this example, we will make use of <a href=\"https://www.tensorflow.org/tutorials/word2vec/\"><b>word embeddings</b></a>, which is <b>a way of representing sentence structures or words as n-dimensional vectors (where n is a reasonably high number, such as 200 or 500) of real numbers</b>. Basically, we will assign each word a randomly-initialized vector, and input those into the network to be processed. After a number of iterations, these vectors are expected to assume values that help the network to correctly predict what it needs to -- in our case, the probable next word in the sentence. This is shown to be a very effective task in Natural Language Processing, and is a commonplace practice.\n",
    "<br><br>\n",
    "<font size=\"4\"><strong>\n",
    "$$Vec(\"Example\") = [0.02, 0.00, 0.00, 0.92, 0.30, \\ldots]$$\n",
    "</strong></font>\n",
    "<br>\n",
    "Word Embedding tends to group up similarly used words <i>reasonably</i> close together in the vectorial space. For example, if we use T-SNE (a dimensional reduction visualization algorithm) to flatten the dimensions of our vectors into a 2-dimensional space and plot these words in a 2-dimensional space, we might see something like this:\n",
    "\n",
    "<img src=\"https://ibm.box.com/shared/static/bqhc5dg879gcoabzhxra1w8rkg3od1cu.png\" width=\"800\">\n",
    "<center><i>T-SNE Mockup with clusters marked for easier visualization</i></center>\n",
    "<br><br>\n",
    "As you can see, words that are frequently used together, in place of each other, or in the same places as them tend to be grouped together -- being closer together the higher they are correlated. For example, \"None\" is pretty semantically close to \"Zero\", while a phrase that uses \"Italy\", you could probably also fit \"Germany\" in it, with little damage to the sentence structure. The vectorial \"closeness\" for similar words like this is a great indicator of a well-built model.\n",
    "\n",
    "<hr>\n",
    " \n"
   ]
  },
  {
   "cell_type": "markdown",
   "metadata": {
    "button": false,
    "new_sheet": false,
    "run_control": {
     "read_only": false
    }
   },
   "source": [
    "We need to import the necessary modules for our code. We need <b><code>numpy</code></b> and <b><code>tensorflow</code></b>, obviously. Additionally, we can import directly the <b><code>tensorflow.models.rnn</code></b> model, which includes the function for building RNNs, and <b><code>tensorflow.models.rnn.ptb.reader</code></b> which is the helper module for getting the input data from the dataset we just downloaded."
   ]
  },
  {
   "cell_type": "code",
   "execution_count": 1,
   "metadata": {
    "tags": []
   },
   "outputs": [],
   "source": [
    "# !pip install tensorflow==2.2.0rc0\n",
    "# !pip install numpy\n"
   ]
  },
  {
   "cell_type": "code",
   "execution_count": 2,
   "metadata": {},
   "outputs": [],
   "source": [
    "import time\n",
    "import numpy as np\n",
    "import tensorflow as tf\n",
    "# if not tf.__version__ == '2.2.0-rc0':\n",
    "#     print(tf.__version__)\n",
    "#     raise ValueError('please upgrade to TensorFlow 2.2.0-rc0, or restart your Kernel (Kernel->Restart & Clear Output)')"
   ]
  },
  {
   "cell_type": "code",
   "execution_count": 3,
   "metadata": {
    "button": false,
    "new_sheet": false,
    "run_control": {
     "read_only": false
    },
    "tags": []
   },
   "outputs": [],
   "source": [
    "# !mkdir data\n",
    "# !mkdir data/ptb\n",
    "# !wget -q -O data/ptb/reader.py https://cf-courses-data.s3.us.cloud-object-storage.appdomain.cloud/IBMDeveloperSkillsNetwork-DL0120EN-SkillsNetwork/labs/Week3/data/ptb/reader.py\n",
    "# !cp data/ptb/reader.py . \n",
    "\n"
   ]
  },
  {
   "cell_type": "code",
   "execution_count": 4,
   "metadata": {
    "tags": []
   },
   "outputs": [],
   "source": [
    "import os\n",
    "os.chdir('./data/ptb')\n",
    "import reader\n",
    "os.chdir('D:\\Personal improvisation\\e-learning\\Coursera Courses\\Building Deep Learning Models with TensorFlow')\n"
   ]
  },
  {
   "cell_type": "code",
   "execution_count": 5,
   "metadata": {
    "button": false,
    "new_sheet": false,
    "run_control": {
     "read_only": false
    },
    "tags": []
   },
   "outputs": [],
   "source": [
    "# !wget http://www.fit.vutbr.cz/~imikolov/rnnlm/simple-examples.tgz \n",
    "# !tar xzf simple-examples.tgz -C data/"
   ]
  },
  {
   "cell_type": "markdown",
   "metadata": {
    "button": false,
    "new_sheet": false,
    "run_control": {
     "read_only": false
    }
   },
   "source": [
    "Additionally, for the sake of making it easy to play around with the model's hyperparameters, we can declare them beforehand. Feel free to change these -- you will see a difference in performance each time you change those!  \n"
   ]
  },
  {
   "cell_type": "code",
   "execution_count": 6,
   "metadata": {
    "button": false,
    "new_sheet": false,
    "run_control": {
     "read_only": false
    }
   },
   "outputs": [],
   "source": [
    "#Initial weight scale\n",
    "init_scale = 0.1\n",
    "#Initial learning rate\n",
    "learning_rate = 1.0\n",
    "#Maximum permissible norm for the gradient (For gradient clipping -- another measure against Exploding Gradients)\n",
    "max_grad_norm = 5\n",
    "#The number of layers in our model\n",
    "num_layers = 2\n",
    "#The total number of recurrence steps, also known as the number of layers when our RNN is \"unfolded\"\n",
    "num_steps = 20\n",
    "#The number of processing units (neurons) in the hidden layers\n",
    "hidden_size_l1 = 256\n",
    "hidden_size_l2 = 128\n",
    "#The maximum number of epochs trained with the initial learning rate\n",
    "max_epoch_decay_lr = 4\n",
    "#The total number of epochs in training\n",
    "max_epoch = 15\n",
    "#The probability for keeping data in the Dropout Layer (This is an optimization, but is outside our scope for this notebook!)\n",
    "#At 1, we ignore the Dropout Layer wrapping.\n",
    "keep_prob = 1\n",
    "#The decay for the learning rate\n",
    "decay = 0.5\n",
    "#The size for each batch of data\n",
    "batch_size = 30\n",
    "#The size of our vocabulary\n",
    "vocab_size = 10000\n",
    "embeding_vector_size= 200\n",
    "#Training flag to separate training from testing\n",
    "is_training = 1\n",
    "#Data directory for our dataset\n",
    "data_dir = \"./data/simple-examples/data/\""
   ]
  },
  {
   "cell_type": "markdown",
   "metadata": {
    "button": false,
    "new_sheet": false,
    "run_control": {
     "read_only": false
    }
   },
   "source": [
    "Some clarifications for LSTM architecture based on the arguments:\n",
    "\n",
    "Network structure:\n",
    "\n",
    "<ul>\n",
    "    <li>In this network, the number of LSTM cells are 2. To give the model more expressive power, we can add multiple layers of LSTMs to process the data. The output of the first layer will become the input of the second and so on.\n",
    "    </li>\n",
    "    <li>The recurrence steps is 20, that is, when our RNN is \"Unfolded\", the recurrence step is 20.</li>   \n",
    "    <li>the structure is like:\n",
    "        <ul>\n",
    "            <li>200 input units -> [200x200] Weight -> 200 Hidden units (first layer) -> [200x200] Weight matrix  -> 200 Hidden units (second layer) ->  [200] weight Matrix -> 200 unit output</li>\n",
    "        </ul>\n",
    "    </li>\n",
    "</ul>\n",
    "<br>\n",
    "\n",
    "Input layer: \n",
    "\n",
    "<ul>\n",
    "    <li>The network has 200 input units.</li>\n",
    "    <li>Suppose each word is represented by an embedding vector of dimensionality e=200. The input layer of each cell will have 200 linear units. These e=200 linear units are connected to each of the h=200 LSTM units in the hidden layer (assuming there is only one hidden layer, though our case has 2 layers).\n",
    "    </li>\n",
    "    <li>The input shape is [batch_size, num_steps], that is [30x20]. It will turn into [30x20x200] after embedding, and then 20x[30x200]\n",
    "    </li>\n",
    "</ul>\n",
    "<br>\n",
    "\n",
    "Hidden layer:\n",
    "\n",
    "<ul>\n",
    "    <li>Each LSTM has 200 hidden units which is equivalent to the dimensionality of the embedding words and output.</li>\n",
    "</ul>\n",
    "<br>\n"
   ]
  },
  {
   "cell_type": "markdown",
   "metadata": {
    "button": false,
    "new_sheet": false,
    "run_control": {
     "read_only": false
    }
   },
   "source": [
    "There is a lot to be done and a ton of information to process at the same time, so go over this code slowly. It may seem complex at first, but if you try to apply what you just learned about language modelling to the code you see, you should be able to understand it.\n",
    "\n",
    "This code is adapted from the <a href=\"https://github.com/tensorflow/models\">PTBModel</a> example bundled with the TensorFlow source code.\n",
    "\n",
    "<h3>Training data</h3>\n",
    "The story starts from data:\n",
    "<ul>\n",
    "    <li>Train data is a list of words, of size 929589, represented by numbers, e.g. [9971, 9972, 9974, 9975,...]</li>\n",
    "    <li>We read data as mini-batch of size b=30. Assume the size of each sentence is 20 words (num_steps = 20). Then it will take $$floor(\\frac{N}{b \\times h})+1=1548$$ iterations for the learner to go through all sentences once. Where N is the size of the list of words, b is batch size, and h is size of each sentence. So, the number of iterators is 1548\n",
    "    </li>\n",
    "    <li>Each batch data is read from train dataset of size 600, and shape of [30x20]</li>\n",
    "</ul>\n"
   ]
  },
  {
   "cell_type": "code",
   "execution_count": 7,
   "metadata": {
    "button": false,
    "new_sheet": false,
    "run_control": {
     "read_only": false
    }
   },
   "outputs": [],
   "source": [
    "# Reads the data and separates it into training data, validation data and testing data\n",
    "raw_data = reader.ptb_raw_data(data_dir)\n",
    "train_data, valid_data, test_data, vocab, word_to_id = raw_data"
   ]
  },
  {
   "cell_type": "code",
   "execution_count": 8,
   "metadata": {},
   "outputs": [
    {
     "name": "stdout",
     "output_type": "stream",
     "text": [
      "929589\n",
      "73760\n",
      "82430\n",
      "10000\n"
     ]
    }
   ],
   "source": [
    "print(len(train_data))\n",
    "print(len(valid_data))\n",
    "print(len(test_data))\n",
    "print(vocab)"
   ]
  },
  {
   "cell_type": "code",
   "execution_count": 9,
   "metadata": {},
   "outputs": [
    {
     "data": {
      "text/plain": [
       "[9970, 9971, 9972, 9974, 9975, 9976, 9980, 9981, 9982, 9983]"
      ]
     },
     "execution_count": 9,
     "metadata": {},
     "output_type": "execute_result"
    }
   ],
   "source": [
    "train_data[:10]"
   ]
  },
  {
   "cell_type": "code",
   "execution_count": 10,
   "metadata": {
    "tags": []
   },
   "outputs": [
    {
     "name": "stdout",
     "output_type": "stream",
     "text": [
      "['aer', 'banknote', 'berlitz', 'calloway', 'centrust', 'cluett', 'fromstein', 'gitano', 'guterman', 'hydro-quebec', 'ipo', 'kia', 'memotec', 'mlx', 'nahb', 'punts', 'rake', 'regatta', 'rubens', 'sim', 'snack-food', 'ssangyong', 'swapo', 'wachter', '<eos>', 'pierre', '<unk>', 'N', 'years', 'old', 'will', 'join', 'the', 'board', 'as', 'a', 'nonexecutive', 'director', 'nov.', 'N', '<eos>', 'mr.', '<unk>', 'is', 'chairman', 'of', '<unk>', 'n.v.', 'the', 'dutch', 'publishing', 'group', '<eos>', 'rudolph', '<unk>', 'N', 'years', 'old', 'and', 'former', 'chairman', 'of', 'consolidated', 'gold', 'fields', 'plc', 'was', 'named', 'a', 'nonexecutive', 'director', 'of', 'this', 'british', 'industrial', 'conglomerate', '<eos>', 'a', 'form', 'of', 'asbestos', 'once', 'used', 'to', 'make', 'kent', 'cigarette', 'filters', 'has', 'caused', 'a', 'high', 'percentage', 'of', 'cancer', 'deaths', 'among', 'a', 'group', 'of']\n"
     ]
    }
   ],
   "source": [
    "def id_to_word(id_list):\n",
    "    line = []\n",
    "    for w in id_list:\n",
    "        for word, wid in word_to_id.items():\n",
    "            if wid == w:\n",
    "                line.append(word)\n",
    "    return line            \n",
    "                \n",
    "\n",
    "print(id_to_word(train_data[0:100]))"
   ]
  },
  {
   "cell_type": "markdown",
   "metadata": {
    "button": false,
    "new_sheet": false,
    "run_control": {
     "read_only": false
    }
   },
   "source": [
    "Lets just read one mini-batch now and feed our network:\n"
   ]
  },
  {
   "cell_type": "code",
   "execution_count": 11,
   "metadata": {
    "button": false,
    "new_sheet": false,
    "run_control": {
     "read_only": false
    }
   },
   "outputs": [],
   "source": [
    "itera = reader.ptb_iterator(train_data, batch_size, num_steps)\n",
    "first_touple = itera.__next__()\n",
    "_input_data = first_touple[0]\n",
    "_targets = first_touple[1]"
   ]
  },
  {
   "cell_type": "code",
   "execution_count": 12,
   "metadata": {
    "button": false,
    "new_sheet": false,
    "run_control": {
     "read_only": false
    }
   },
   "outputs": [
    {
     "data": {
      "text/plain": [
       "(30, 20)"
      ]
     },
     "execution_count": 12,
     "metadata": {},
     "output_type": "execute_result"
    }
   ],
   "source": [
    "_input_data.shape"
   ]
  },
  {
   "cell_type": "code",
   "execution_count": 13,
   "metadata": {},
   "outputs": [
    {
     "data": {
      "text/plain": [
       "(30, 20)"
      ]
     },
     "execution_count": 13,
     "metadata": {},
     "output_type": "execute_result"
    }
   ],
   "source": [
    "_targets.shape"
   ]
  },
  {
   "cell_type": "markdown",
   "metadata": {
    "button": false,
    "new_sheet": false,
    "run_control": {
     "read_only": false
    }
   },
   "source": [
    "Lets look at 3 sentences of our input x:\n"
   ]
  },
  {
   "cell_type": "code",
   "execution_count": 14,
   "metadata": {
    "button": false,
    "new_sheet": false,
    "run_control": {
     "read_only": false
    }
   },
   "outputs": [
    {
     "data": {
      "text/plain": [
       "array([[9970, 9971, 9972, 9974, 9975, 9976, 9980, 9981, 9982, 9983, 9984,\n",
       "        9986, 9987, 9988, 9989, 9991, 9992, 9993, 9994, 9995],\n",
       "       [2654,    6,  334, 2886,    4,    1,  233,  711,  834,   11,  130,\n",
       "         123,    7,  514,    2,   63,   10,  514,    8,  605],\n",
       "       [   0, 1071,    4,    0,  185,   24,  368,   20,   31, 3109,  954,\n",
       "          12,    3,   21,    2, 2915,    2,   12,    3,   21]])"
      ]
     },
     "execution_count": 14,
     "metadata": {},
     "output_type": "execute_result"
    }
   ],
   "source": [
    "_input_data[0:3]"
   ]
  },
  {
   "cell_type": "code",
   "execution_count": 15,
   "metadata": {},
   "outputs": [
    {
     "name": "stdout",
     "output_type": "stream",
     "text": [
      "['aer', 'banknote', 'berlitz', 'calloway', 'centrust', 'cluett', 'fromstein', 'gitano', 'guterman', 'hydro-quebec', 'ipo', 'kia', 'memotec', 'mlx', 'nahb', 'punts', 'rake', 'regatta', 'rubens', 'sim']\n"
     ]
    }
   ],
   "source": [
    "print(id_to_word(_input_data[0,:]))"
   ]
  },
  {
   "cell_type": "markdown",
   "metadata": {
    "button": false,
    "new_sheet": false,
    "run_control": {
     "read_only": false
    }
   },
   "source": [
    "<h3>Embeddings</h3>\n",
    "We have to convert the words in our dataset to vectors of numbers. The traditional approach is to use one-hot encoding method that is usually used for converting categorical values to numerical values. However, One-hot encoded vectors are high-dimensional, sparse and in a big dataset, computationally inefficient. So, we use word2vec approach. It is, in fact, a layer in our LSTM network, where the word IDs will be represented as a dense representation before feeding to the LSTM. \n",
    "\n",
    "The embedded vectors also get updated during the training process of the deep neural network.\n",
    "We create the embeddings for our input data. <b>embedding_vocab</b> is matrix of [10000x200] for all 10000 unique words.\n"
   ]
  },
  {
   "cell_type": "markdown",
   "metadata": {
    "button": false,
    "new_sheet": false,
    "run_control": {
     "read_only": false
    }
   },
   "source": [
    "<b>embedding_lookup()</b> finds the embedded values for our batch of 30x20 words. It  goes to each row of <code>input_data</code>, and for each word in the row/sentence, finds the correspond vector in <code>embedding_dic<code>. <br>\n",
    "It creates a [30x20x200] tensor, so, the first element of <b>inputs</b> (the first sentence), is a matrix of 20x200, which each row of it, is vector representing a word in the sentence.\n"
   ]
  },
  {
   "cell_type": "code",
   "execution_count": 16,
   "metadata": {},
   "outputs": [],
   "source": [
    "embedding_layer = tf.keras.layers.Embedding(vocab_size, embeding_vector_size,batch_input_shape=(batch_size, num_steps),trainable=True,name=\"embedding_vocab\")  "
   ]
  },
  {
   "cell_type": "code",
   "execution_count": 17,
   "metadata": {},
   "outputs": [
    {
     "data": {
      "text/plain": [
       "<tf.Tensor: shape=(30, 20, 200), dtype=float32, numpy=\n",
       "array([[[ 0.02073332,  0.01391501,  0.0068989 , ..., -0.0268466 ,\n",
       "         -0.02611628, -0.01538682],\n",
       "        [ 0.02992186,  0.0472826 ,  0.03092963, ...,  0.02016283,\n",
       "         -0.02951902,  0.00816523],\n",
       "        [ 0.02579371, -0.01112077,  0.02183416, ..., -0.03316098,\n",
       "         -0.0366235 ,  0.03597846],\n",
       "        ...,\n",
       "        [ 0.00857311,  0.00535937, -0.01794014, ..., -0.04603929,\n",
       "         -0.0332533 ,  0.02138685],\n",
       "        [ 0.04172038,  0.00315932,  0.01789918, ...,  0.01402781,\n",
       "         -0.02871952, -0.01192153],\n",
       "        [ 0.03370485, -0.03566261,  0.00668439, ..., -0.02793514,\n",
       "          0.03716068,  0.00064049]],\n",
       "\n",
       "       [[ 0.0466049 , -0.04515506,  0.02120772, ..., -0.02084134,\n",
       "         -0.04254404, -0.01935965],\n",
       "        [-0.00910529, -0.04283824,  0.02363202, ..., -0.0080791 ,\n",
       "          0.01898619, -0.01311362],\n",
       "        [-0.03968007, -0.03711839,  0.01200967, ...,  0.03565982,\n",
       "         -0.02672721, -0.02919849],\n",
       "        ...,\n",
       "        [ 0.02803214,  0.04387509,  0.04826753, ..., -0.00956137,\n",
       "         -0.00691017, -0.00153857],\n",
       "        [ 0.03716171,  0.01066339,  0.00246244, ...,  0.03713748,\n",
       "          0.04917027,  0.0368441 ],\n",
       "        [ 0.04350611, -0.00929476, -0.02685541, ...,  0.00112134,\n",
       "         -0.03297551, -0.01679406]],\n",
       "\n",
       "       [[ 0.01928208, -0.00734658,  0.00341532, ...,  0.02234242,\n",
       "         -0.04521596, -0.01878164],\n",
       "        [ 0.04908546,  0.03114552, -0.03817786, ..., -0.04464161,\n",
       "          0.0047202 ,  0.01489469],\n",
       "        [-0.03672637,  0.03865672, -0.04131614, ...,  0.01705149,\n",
       "          0.03357304,  0.02054462],\n",
       "        ...,\n",
       "        [ 0.03242275,  0.04275635, -0.04866957, ...,  0.03491993,\n",
       "          0.02917875, -0.03751113],\n",
       "        [-0.02958396, -0.0235293 , -0.02789546, ..., -0.0465893 ,\n",
       "         -0.01190003,  0.02882634],\n",
       "        [ 0.00245856,  0.02996765,  0.03274762, ..., -0.043403  ,\n",
       "          0.0333231 ,  0.0286304 ]],\n",
       "\n",
       "       ...,\n",
       "\n",
       "       [[ 0.02342347,  0.03579475,  0.02484545, ..., -0.02883193,\n",
       "         -0.03377155,  0.04091122],\n",
       "        [-0.01336186, -0.03036361,  0.01941079, ..., -0.02242447,\n",
       "         -0.0106426 ,  0.04487822],\n",
       "        [-0.03400613, -0.00246991,  0.04212619, ..., -0.03441222,\n",
       "          0.03756567,  0.02479663],\n",
       "        ...,\n",
       "        [-0.02898318, -0.03908423, -0.03120413, ...,  0.04624044,\n",
       "         -0.03765584, -0.02829678],\n",
       "        [ 0.0184607 ,  0.00836157,  0.04985673, ...,  0.00069531,\n",
       "         -0.00929962,  0.00292964],\n",
       "        [-0.01114089,  0.04595688, -0.03972733, ...,  0.00983994,\n",
       "         -0.02490987,  0.03944243]],\n",
       "\n",
       "       [[-0.04663602, -0.02408116,  0.01495608, ...,  0.0201414 ,\n",
       "         -0.04656954,  0.02660917],\n",
       "        [-0.00785436,  0.02981175,  0.01566744, ..., -0.04077432,\n",
       "          0.03153794,  0.03074546],\n",
       "        [-0.03672637,  0.03865672, -0.04131614, ...,  0.01705149,\n",
       "          0.03357304,  0.02054462],\n",
       "        ...,\n",
       "        [ 0.01481603,  0.01705562, -0.04668682, ...,  0.0356178 ,\n",
       "          0.01433469,  0.02384535],\n",
       "        [-0.00910529, -0.04283824,  0.02363202, ..., -0.0080791 ,\n",
       "          0.01898619, -0.01311362],\n",
       "        [-0.04313656, -0.0210516 ,  0.01165647, ...,  0.04615996,\n",
       "         -0.03427814,  0.02995459]],\n",
       "\n",
       "       [[-0.0019321 ,  0.01716205, -0.0452999 , ..., -0.03212372,\n",
       "         -0.03382973,  0.02099199],\n",
       "        [ 0.03460964,  0.03745306,  0.038454  , ...,  0.03434253,\n",
       "          0.01585943,  0.01190947],\n",
       "        [ 0.03541083,  0.03032264,  0.01959599, ...,  0.01234181,\n",
       "          0.04860412, -0.00111159],\n",
       "        ...,\n",
       "        [-0.03511236,  0.04513961, -0.03569745, ..., -0.00030663,\n",
       "          0.04331838,  0.00740441],\n",
       "        [-0.03902406,  0.01599092, -0.02928324, ..., -0.01610184,\n",
       "         -0.0259038 , -0.01971042],\n",
       "        [-0.00601109, -0.03832407,  0.01605849, ...,  0.04766594,\n",
       "          0.01125028, -0.02035899]]], dtype=float32)>"
      ]
     },
     "execution_count": 17,
     "metadata": {},
     "output_type": "execute_result"
    }
   ],
   "source": [
    "# Define where to get the data for our embeddings from\n",
    "inputs = embedding_layer(_input_data)\n",
    "inputs"
   ]
  },
  {
   "cell_type": "markdown",
   "metadata": {},
   "source": [
    "<h3>Constructing Recurrent Neural Networks</h3>\n"
   ]
  },
  {
   "cell_type": "markdown",
   "metadata": {
    "button": false,
    "new_sheet": false,
    "run_control": {
     "read_only": false
    }
   },
   "source": [
    "In this step, we create the stacked LSTM using <b>tf.keras.layers.StackedRNNCells</b>, which is a 2 layer LSTM network:\n"
   ]
  },
  {
   "cell_type": "code",
   "execution_count": 18,
   "metadata": {},
   "outputs": [],
   "source": [
    "lstm_cell_l1 = tf.keras.layers.LSTMCell(hidden_size_l1)\n",
    "lstm_cell_l2 = tf.keras.layers.LSTMCell(hidden_size_l2)"
   ]
  },
  {
   "cell_type": "code",
   "execution_count": 19,
   "metadata": {
    "button": false,
    "new_sheet": false,
    "run_control": {
     "read_only": false
    }
   },
   "outputs": [],
   "source": [
    "stacked_lstm = tf.keras.layers.StackedRNNCells([lstm_cell_l1, lstm_cell_l2])"
   ]
  },
  {
   "cell_type": "markdown",
   "metadata": {},
   "source": [
    "<b>tf.keras.layers.RNN</b> creates a recurrent neural network using <b>stacked_lstm</b>. \n",
    "\n",
    "The input should be a Tensor of shape: [batch_size, max_time, embedding_vector_size], in our case it would be (30, 20, 200)\n"
   ]
  },
  {
   "cell_type": "code",
   "execution_count": 20,
   "metadata": {},
   "outputs": [],
   "source": [
    "layer  =  tf.keras.layers.RNN(stacked_lstm,[batch_size, num_steps],return_state=False,stateful=True,trainable=True)"
   ]
  },
  {
   "cell_type": "markdown",
   "metadata": {
    "button": false,
    "new_sheet": false,
    "run_control": {
     "read_only": false
    }
   },
   "source": [
    "Also, we initialize the states of the nework:\n",
    "\n",
    "<h4>_initial_state</h4>\n",
    "\n",
    "For each LSTM, there are 2 state matrices, c_state and m_state.  c_state and m_state represent \"Memory State\" and \"Cell State\". Each hidden layer, has a vector of size 30, which keeps the states. so, for 200 hidden units in each LSTM, we have a matrix of size [30x200]\n"
   ]
  },
  {
   "cell_type": "code",
   "execution_count": 21,
   "metadata": {},
   "outputs": [],
   "source": [
    "init_state = tf.Variable(tf.zeros([batch_size,embeding_vector_size]),trainable=False)"
   ]
  },
  {
   "cell_type": "code",
   "execution_count": 22,
   "metadata": {},
   "outputs": [],
   "source": [
    "layer.inital_state = init_state"
   ]
  },
  {
   "cell_type": "code",
   "execution_count": 23,
   "metadata": {},
   "outputs": [
    {
     "data": {
      "text/plain": [
       "<tf.Variable 'Variable:0' shape=(30, 200) dtype=float32, numpy=\n",
       "array([[0., 0., 0., ..., 0., 0., 0.],\n",
       "       [0., 0., 0., ..., 0., 0., 0.],\n",
       "       [0., 0., 0., ..., 0., 0., 0.],\n",
       "       ...,\n",
       "       [0., 0., 0., ..., 0., 0., 0.],\n",
       "       [0., 0., 0., ..., 0., 0., 0.],\n",
       "       [0., 0., 0., ..., 0., 0., 0.]], dtype=float32)>"
      ]
     },
     "execution_count": 23,
     "metadata": {},
     "output_type": "execute_result"
    }
   ],
   "source": [
    "layer.inital_state"
   ]
  },
  {
   "cell_type": "markdown",
   "metadata": {},
   "source": [
    "so, lets look at the outputs. The output of the stackedLSTM comes from 128 hidden_layer, and in each time step(=20), one of them get activated. we use the linear activation to map the 128 hidden layer to a [30X20 matrix]\n"
   ]
  },
  {
   "cell_type": "code",
   "execution_count": 24,
   "metadata": {},
   "outputs": [],
   "source": [
    "outputs = layer(inputs)"
   ]
  },
  {
   "cell_type": "code",
   "execution_count": 25,
   "metadata": {},
   "outputs": [
    {
     "data": {
      "text/plain": [
       "<tf.Tensor: shape=(30, 20, 128), dtype=float32, numpy=\n",
       "array([[[-2.3411086e-04, -4.1106079e-05,  9.4397599e-04, ...,\n",
       "         -1.6508506e-03, -3.0814050e-04,  5.8615109e-04],\n",
       "        [ 2.4550006e-04,  1.3417797e-03,  2.3860051e-03, ...,\n",
       "         -1.7624373e-03, -1.2640827e-03, -7.0567708e-05],\n",
       "        [-1.5759871e-04,  5.9192604e-04,  2.6270531e-03, ...,\n",
       "         -2.5324421e-03, -2.0722267e-03, -1.4538586e-03],\n",
       "        ...,\n",
       "        [-1.6620124e-03, -4.2411713e-03, -3.1545614e-03, ...,\n",
       "         -2.4748163e-03, -2.6855508e-03, -7.0230849e-04],\n",
       "        [-1.3001470e-03, -3.6190390e-03, -4.4133104e-03, ...,\n",
       "         -1.9761643e-03, -2.4496585e-03,  4.5852078e-04],\n",
       "        [-1.7842930e-03, -1.9585572e-03, -4.6267216e-03, ...,\n",
       "         -3.1142526e-03, -2.2184749e-03,  2.0742316e-03]],\n",
       "\n",
       "       [[ 8.4866758e-04,  8.8244828e-04, -8.3577447e-04, ...,\n",
       "         -1.4738949e-03,  8.7508364e-05,  1.1259447e-03],\n",
       "        [ 3.2710299e-04,  8.1048801e-04, -1.8942547e-03, ...,\n",
       "         -2.3974760e-03, -2.3463796e-04,  1.3106384e-03],\n",
       "        [ 5.4339843e-04, -6.6947869e-06, -1.5551883e-03, ...,\n",
       "         -3.1021866e-03, -1.1399541e-03,  8.1200193e-04],\n",
       "        ...,\n",
       "        [ 5.1235142e-03, -4.0746923e-03,  4.8600459e-03, ...,\n",
       "          5.9657372e-03,  1.5947897e-03,  4.1495236e-03],\n",
       "        [ 5.5318917e-03, -2.4828603e-03,  4.8776115e-03, ...,\n",
       "          5.7204058e-03,  1.8897613e-03,  4.0600640e-03],\n",
       "        [ 5.5459598e-03, -5.8505818e-04,  4.3612425e-03, ...,\n",
       "          4.6402789e-03,  1.5835102e-03,  3.8435529e-03]],\n",
       "\n",
       "       [[-1.6288401e-04, -5.5665657e-04,  6.2285305e-04, ...,\n",
       "         -1.0089002e-03,  9.0307399e-04, -6.6397176e-04],\n",
       "        [-5.6602136e-04, -1.5088498e-03,  1.1382466e-03, ...,\n",
       "         -1.9867611e-03,  1.3507679e-03, -1.0195393e-03],\n",
       "        [-1.8457453e-03, -2.3347347e-03,  9.1243396e-04, ...,\n",
       "         -2.0654735e-03,  1.8979652e-03, -2.7784780e-03],\n",
       "        ...,\n",
       "        [ 2.1968213e-04, -8.9420639e-03,  4.3769102e-03, ...,\n",
       "         -2.2016710e-03, -2.9305420e-03,  3.4856841e-03],\n",
       "        [-8.3038257e-04, -9.0547595e-03,  3.0524479e-03, ...,\n",
       "         -2.8842441e-03, -2.8102512e-03,  3.7316503e-03],\n",
       "        [-2.6348650e-03, -9.3761804e-03,  3.1709343e-03, ...,\n",
       "         -2.6794227e-03, -3.2799903e-03,  4.0772124e-03]],\n",
       "\n",
       "       ...,\n",
       "\n",
       "       [[ 4.3254340e-04, -1.0132522e-04,  2.6737779e-04, ...,\n",
       "          1.1041415e-04, -5.3990673e-04,  2.1689165e-04],\n",
       "        [ 4.6891638e-04, -1.5052647e-03,  1.6102125e-03, ...,\n",
       "         -3.5502733e-05, -1.4702133e-04,  2.6331178e-04],\n",
       "        [ 1.1186793e-03, -2.1107111e-03,  2.9839899e-03, ...,\n",
       "         -6.9450436e-04,  8.9424189e-05,  1.3529012e-04],\n",
       "        ...,\n",
       "        [-2.1847762e-04, -3.3384308e-04,  4.3759178e-03, ...,\n",
       "         -3.6225945e-03, -2.2784998e-03,  1.6142403e-04],\n",
       "        [-1.1373688e-03, -2.2009546e-03,  4.5224386e-03, ...,\n",
       "         -2.8521549e-03, -4.7556194e-03, -1.2139898e-03],\n",
       "        [-3.9073452e-04, -2.6283083e-03,  4.8759407e-03, ...,\n",
       "         -3.5693091e-03, -6.3838577e-03, -1.0440701e-03]],\n",
       "\n",
       "       [[ 9.5029722e-04, -6.3943898e-04, -2.1542453e-04, ...,\n",
       "         -4.0952876e-04, -2.1077287e-05,  1.0434182e-03],\n",
       "        [ 7.3918450e-04, -1.1745690e-03, -5.7470676e-05, ...,\n",
       "         -6.4718112e-04,  1.4654087e-03,  3.0250491e-03],\n",
       "        [-5.1238685e-04, -1.9334927e-03, -6.4519577e-04, ...,\n",
       "         -1.7334291e-04,  2.5555699e-03,  2.3184642e-03],\n",
       "        ...,\n",
       "        [ 3.6325485e-03,  6.2031387e-03,  8.3108488e-03, ...,\n",
       "          2.3464346e-03,  8.3683745e-04, -5.4379518e-04],\n",
       "        [ 3.2818981e-03,  6.6452306e-03,  7.3331487e-03, ...,\n",
       "          1.4464706e-03,  6.5073057e-04, -1.0697597e-03],\n",
       "        [ 1.8736660e-03,  5.4224934e-03,  6.8271216e-03, ...,\n",
       "         -6.1018951e-04,  3.4413688e-04, -1.8924095e-03]],\n",
       "\n",
       "       [[ 3.1449643e-04, -3.7411810e-04,  1.4026146e-03, ...,\n",
       "          1.4115053e-03,  2.0829831e-04,  8.7539939e-04],\n",
       "        [ 5.5640301e-04, -2.2361137e-05,  2.3381368e-03, ...,\n",
       "          2.1467002e-03, -3.1077757e-04, -2.4355784e-04],\n",
       "        [ 3.3119236e-04,  5.8497954e-04,  2.5958705e-03, ...,\n",
       "          2.6379663e-03, -1.0696970e-03, -1.6301775e-03],\n",
       "        ...,\n",
       "        [-4.9803295e-04, -2.2345546e-03, -1.1212393e-03, ...,\n",
       "         -6.2634546e-04, -3.7965726e-03, -4.8584500e-03],\n",
       "        [ 1.0741037e-04, -2.9384319e-03,  6.8675994e-04, ...,\n",
       "         -5.0595705e-04, -3.5101231e-03, -6.1450019e-03],\n",
       "        [ 1.1011849e-03, -3.5874327e-03,  2.5502939e-03, ...,\n",
       "          2.1108710e-04, -2.4475183e-03, -6.3364645e-03]]], dtype=float32)>"
      ]
     },
     "execution_count": 25,
     "metadata": {},
     "output_type": "execute_result"
    }
   ],
   "source": [
    "outputs"
   ]
  },
  {
   "cell_type": "markdown",
   "metadata": {
    "button": false,
    "new_sheet": false,
    "run_control": {
     "read_only": false
    }
   },
   "source": [
    "<h2>Dense layer</h2>\n",
    "We now create densely-connected neural network layer that would reshape the outputs tensor from  [30 x 20 x 128] to [30 x 20 x 10000].\n"
   ]
  },
  {
   "cell_type": "code",
   "execution_count": 26,
   "metadata": {},
   "outputs": [],
   "source": [
    "dense = tf.keras.layers.Dense(vocab_size)"
   ]
  },
  {
   "cell_type": "code",
   "execution_count": 27,
   "metadata": {},
   "outputs": [],
   "source": [
    "logits_outputs  = dense(outputs)"
   ]
  },
  {
   "cell_type": "code",
   "execution_count": 28,
   "metadata": {},
   "outputs": [
    {
     "name": "stdout",
     "output_type": "stream",
     "text": [
      "shape of the output from dense layer:  (30, 20, 10000)\n"
     ]
    }
   ],
   "source": [
    "print(\"shape of the output from dense layer: \", logits_outputs.shape) #(batch_size, sequence_length, vocab_size)"
   ]
  },
  {
   "cell_type": "markdown",
   "metadata": {},
   "source": [
    "<h2>Activation layer</h2>\n",
    "\n",
    "A softmax activation layers is also then applied to derive the probability of the output being in any of the multiclass(10000 in this case) possibilities. \n"
   ]
  },
  {
   "cell_type": "code",
   "execution_count": 29,
   "metadata": {},
   "outputs": [],
   "source": [
    "activation = tf.keras.layers.Activation('softmax')"
   ]
  },
  {
   "cell_type": "code",
   "execution_count": 30,
   "metadata": {},
   "outputs": [],
   "source": [
    "output_words_prob = activation(logits_outputs)"
   ]
  },
  {
   "cell_type": "code",
   "execution_count": 31,
   "metadata": {},
   "outputs": [
    {
     "name": "stdout",
     "output_type": "stream",
     "text": [
      "shape of the output from the activation layer:  (30, 20, 10000)\n"
     ]
    }
   ],
   "source": [
    "print(\"shape of the output from the activation layer: \", output_words_prob.shape) #(batch_size, sequence_length, vocab_size)"
   ]
  },
  {
   "cell_type": "markdown",
   "metadata": {},
   "source": [
    "Lets look at the probability of observing words for t=0 to t=20:\n"
   ]
  },
  {
   "cell_type": "code",
   "execution_count": 32,
   "metadata": {},
   "outputs": [
    {
     "name": "stdout",
     "output_type": "stream",
     "text": [
      "The probability of observing words in t=0 to t=20 tf.Tensor(\n",
      "[[9.99779368e-05 1.00012672e-04 1.00004472e-04 ... 1.00005258e-04\n",
      "  9.99945332e-05 1.00013342e-04]\n",
      " [9.99787590e-05 1.00015226e-04 9.99962722e-05 ... 1.00005498e-04\n",
      "  9.99745171e-05 1.00015444e-04]\n",
      " [9.99790136e-05 1.00014346e-04 1.00011726e-04 ... 1.00022968e-04\n",
      "  9.99866825e-05 1.00011435e-04]\n",
      " ...\n",
      " [1.00019570e-04 9.99719996e-05 9.99738477e-05 ... 9.99892072e-05\n",
      "  1.00086974e-04 9.99877084e-05]\n",
      " [1.00026198e-04 9.99525582e-05 9.99938784e-05 ... 9.99919866e-05\n",
      "  1.00087593e-04 9.99736221e-05]\n",
      " [1.00018762e-04 9.99469121e-05 9.99901022e-05 ... 9.99912081e-05\n",
      "  1.00082791e-04 9.99731637e-05]], shape=(20, 10000), dtype=float32)\n"
     ]
    }
   ],
   "source": [
    "print(\"The probability of observing words in t=0 to t=20\", output_words_prob[0,0:num_steps])"
   ]
  },
  {
   "cell_type": "markdown",
   "metadata": {
    "button": false,
    "new_sheet": false,
    "run_control": {
     "read_only": false
    }
   },
   "source": [
    "<h3>Prediction</h3>\n",
    "What is the word correspond to the probability output? Lets use the maximum probability:\n"
   ]
  },
  {
   "cell_type": "code",
   "execution_count": 33,
   "metadata": {},
   "outputs": [
    {
     "data": {
      "text/plain": [
       "array([8284, 8284, 8284,  478, 5465, 7837, 7837, 7837, 7837, 7837, 7837,\n",
       "       7837, 7837, 5240, 4652, 4652, 4581, 4581, 9401, 9401], dtype=int64)"
      ]
     },
     "execution_count": 33,
     "metadata": {},
     "output_type": "execute_result"
    }
   ],
   "source": [
    "np.argmax(output_words_prob[0,0:num_steps], axis=1)"
   ]
  },
  {
   "cell_type": "markdown",
   "metadata": {
    "button": false,
    "new_sheet": false,
    "run_control": {
     "read_only": false
    }
   },
   "source": [
    "So, what is the ground truth for the first word of first sentence? You can get it from target tensor, if you want to find the embedding vector: \n"
   ]
  },
  {
   "cell_type": "code",
   "execution_count": 34,
   "metadata": {
    "button": false,
    "new_sheet": false,
    "run_control": {
     "read_only": false
    }
   },
   "outputs": [
    {
     "data": {
      "text/plain": [
       "array([9971, 9972, 9974, 9975, 9976, 9980, 9981, 9982, 9983, 9984, 9986,\n",
       "       9987, 9988, 9989, 9991, 9992, 9993, 9994, 9995, 9996])"
      ]
     },
     "execution_count": 34,
     "metadata": {},
     "output_type": "execute_result"
    }
   ],
   "source": [
    "_targets[0]"
   ]
  },
  {
   "cell_type": "markdown",
   "metadata": {
    "button": false,
    "new_sheet": false,
    "run_control": {
     "read_only": false
    }
   },
   "source": [
    "<h4>Objective function</h4>\n",
    "\n",
    "How similar the predicted words are to the target words?\n",
    "\n",
    "Now we have to define our objective function, to calculate the similarity of predicted values to ground truth, and then, penalize the model with the error. Our objective is to minimize loss function, that is, to minimize the average negative log probability of the target words\n",
    "\n",
    "This function is already implemented and available in TensorFlow through _tf.keras.losses.sparse_categorical_crossentropy_. It calculates the categorical cross-entropy loss for <b>logits</b> and the <b>target</b> sequence.  \n",
    "\n",
    "The arguments of this function are:  \n",
    "\n",
    "<ul>\n",
    "    <li>logits: List of 2D Tensors of shape [batch_size x num_decoder_symbols].</li>  \n",
    "    <li>targets: List of 1D batch-sized int32 Tensors of the same length as logits.</li>   \n",
    "</ul>\n"
   ]
  },
  {
   "cell_type": "code",
   "execution_count": 35,
   "metadata": {},
   "outputs": [],
   "source": [
    "def crossentropy(y_true, y_pred):\n",
    "    return tf.keras.losses.sparse_categorical_crossentropy(y_true, y_pred)"
   ]
  },
  {
   "cell_type": "code",
   "execution_count": 36,
   "metadata": {},
   "outputs": [],
   "source": [
    "loss  = crossentropy(_targets, output_words_prob)"
   ]
  },
  {
   "cell_type": "markdown",
   "metadata": {
    "button": false,
    "new_sheet": false,
    "run_control": {
     "read_only": false
    }
   },
   "source": [
    "Lets look at the first 10 values of loss:\n"
   ]
  },
  {
   "cell_type": "code",
   "execution_count": 37,
   "metadata": {},
   "outputs": [
    {
     "data": {
      "text/plain": [
       "<tf.Tensor: shape=(10,), dtype=float32, numpy=\n",
       "array([9.210396 , 9.210252 , 9.210343 , 9.210587 , 9.210242 , 9.209847 ,\n",
       "       9.210616 , 9.2104845, 9.210679 , 9.209888 ], dtype=float32)>"
      ]
     },
     "execution_count": 37,
     "metadata": {},
     "output_type": "execute_result"
    }
   ],
   "source": [
    "loss[0,:10]"
   ]
  },
  {
   "cell_type": "markdown",
   "metadata": {},
   "source": [
    "Now, we define cost as average of the losses:\n"
   ]
  },
  {
   "cell_type": "code",
   "execution_count": 38,
   "metadata": {},
   "outputs": [
    {
     "data": {
      "text/plain": [
       "<tf.Tensor: shape=(), dtype=float32, numpy=184.20667>"
      ]
     },
     "execution_count": 38,
     "metadata": {},
     "output_type": "execute_result"
    }
   ],
   "source": [
    "cost = tf.reduce_sum(loss / batch_size)\n",
    "cost"
   ]
  },
  {
   "cell_type": "markdown",
   "metadata": {
    "button": false,
    "new_sheet": false,
    "run_control": {
     "read_only": false
    }
   },
   "source": [
    "<h3>Training</h3>\n",
    "\n",
    "To do training for our network, we have to take the following steps:\n",
    "\n",
    "<ol>\n",
    "    <li>Define the optimizer.</li>\n",
    "    <li>Assemble layers to build model.</li>\n",
    "    <li>Calculate the gradients based on the loss function.</li>\n",
    "    <li>Apply the optimizer to the variables/gradients tuple.</li>\n",
    "</ol>\n"
   ]
  },
  {
   "cell_type": "markdown",
   "metadata": {
    "button": false,
    "new_sheet": false,
    "run_control": {
     "read_only": false
    }
   },
   "source": [
    "<h4>1. Define Optimizer</h4>\n"
   ]
  },
  {
   "cell_type": "code",
   "execution_count": 39,
   "metadata": {},
   "outputs": [],
   "source": [
    "# Create a variable for the learning rate\n",
    "lr = tf.Variable(0.0, trainable=False)\n",
    "optimizer = tf.keras.optimizers.SGD(lr=lr, clipnorm=max_grad_norm)"
   ]
  },
  {
   "cell_type": "markdown",
   "metadata": {},
   "source": [
    "<h4>2. Assemble layers to build model.</h4>\n"
   ]
  },
  {
   "cell_type": "code",
   "execution_count": 40,
   "metadata": {},
   "outputs": [
    {
     "name": "stdout",
     "output_type": "stream",
     "text": [
      "Model: \"sequential\"\n",
      "_________________________________________________________________\n",
      "Layer (type)                 Output Shape              Param #   \n",
      "=================================================================\n",
      "embedding_vocab (Embedding)  (30, 20, 200)             2000000   \n",
      "_________________________________________________________________\n",
      "rnn (RNN)                    (30, 20, 128)             671088    \n",
      "_________________________________________________________________\n",
      "dense (Dense)                (30, 20, 10000)           1290000   \n",
      "_________________________________________________________________\n",
      "activation (Activation)      (30, 20, 10000)           0         \n",
      "=================================================================\n",
      "Total params: 3,961,088\n",
      "Trainable params: 3,955,088\n",
      "Non-trainable params: 6,000\n",
      "_________________________________________________________________\n"
     ]
    }
   ],
   "source": [
    "model = tf.keras.Sequential()\n",
    "model.add(embedding_layer)\n",
    "model.add(layer)\n",
    "model.add(dense)\n",
    "model.add(activation)\n",
    "model.compile(loss=crossentropy, optimizer=optimizer)\n",
    "model.summary()"
   ]
  },
  {
   "cell_type": "markdown",
   "metadata": {
    "button": false,
    "new_sheet": false,
    "run_control": {
     "read_only": false
    }
   },
   "source": [
    "<h4>2. Trainable Variables</h4>\n"
   ]
  },
  {
   "cell_type": "markdown",
   "metadata": {
    "button": false,
    "new_sheet": false,
    "run_control": {
     "read_only": false
    }
   },
   "source": [
    "Defining a variable, if you passed <i>trainable=True</i>, the variable constructor automatically adds new variables to the graph collection <b>GraphKeys.TRAINABLE_VARIABLES</b>. Now, using <i>tf.trainable_variables()</i> you can get all variables created with <b>trainable=True</b>.\n"
   ]
  },
  {
   "cell_type": "code",
   "execution_count": 41,
   "metadata": {
    "button": false,
    "new_sheet": false,
    "run_control": {
     "read_only": false
    }
   },
   "outputs": [],
   "source": [
    "# Get all TensorFlow variables marked as \"trainable\" (i.e. all of them except _lr, which we just created)\n",
    "tvars = model.trainable_variables"
   ]
  },
  {
   "cell_type": "markdown",
   "metadata": {
    "button": false,
    "new_sheet": false,
    "run_control": {
     "read_only": false
    }
   },
   "source": [
    "Note: we can find the name and scope of all variables:\n"
   ]
  },
  {
   "cell_type": "code",
   "execution_count": 42,
   "metadata": {
    "button": false,
    "new_sheet": false,
    "run_control": {
     "read_only": false
    }
   },
   "outputs": [
    {
     "data": {
      "text/plain": [
       "['embedding_vocab/embeddings:0',\n",
       " 'rnn/stacked_rnn_cells/lstm_cell/kernel:0',\n",
       " 'rnn/stacked_rnn_cells/lstm_cell/recurrent_kernel:0',\n",
       " 'rnn/stacked_rnn_cells/lstm_cell/bias:0',\n",
       " 'rnn/stacked_rnn_cells/lstm_cell_1/kernel:0',\n",
       " 'rnn/stacked_rnn_cells/lstm_cell_1/recurrent_kernel:0',\n",
       " 'rnn/stacked_rnn_cells/lstm_cell_1/bias:0',\n",
       " 'dense/kernel:0',\n",
       " 'dense/bias:0']"
      ]
     },
     "execution_count": 42,
     "metadata": {},
     "output_type": "execute_result"
    }
   ],
   "source": [
    "[v.name for v in tvars] "
   ]
  },
  {
   "cell_type": "markdown",
   "metadata": {
    "button": false,
    "new_sheet": false,
    "run_control": {
     "read_only": false
    }
   },
   "source": [
    "<h4>3. Calculate the gradients based on the loss function</h4>\n"
   ]
  },
  {
   "cell_type": "markdown",
   "metadata": {
    "button": false,
    "new_sheet": false,
    "run_control": {
     "read_only": false
    }
   },
   "source": [
    "**Gradient**: The gradient of a function is the slope of its derivative (line), or in other words, the rate of change of a function. It's a vector (a direction to move) that points in the direction of greatest increase of the function, and calculated by the <b>derivative</b> operation.\n"
   ]
  },
  {
   "cell_type": "markdown",
   "metadata": {},
   "source": [
    "First lets recall the gradient function using an toy example:\n",
    "$$ z = (2x^2 + 3xy)$$\n"
   ]
  },
  {
   "cell_type": "code",
   "execution_count": 43,
   "metadata": {},
   "outputs": [],
   "source": [
    "x = tf.constant(1.0)\n",
    "y =  tf.constant(2.0)\n",
    "with tf.GradientTape(persistent=True) as g:\n",
    "    g.watch(x)\n",
    "    g.watch(y)\n",
    "    func_test = 2 * x * x + 3 * x * y"
   ]
  },
  {
   "cell_type": "markdown",
   "metadata": {},
   "source": [
    "The <b>tf.gradients()</b> function allows you to compute the symbolic gradient of one tensor with respect to one or more other tensors—including variables. <b>tf.gradients(func, xs)</b> constructs symbolic partial derivatives of sum of <b>func</b> w.r.t. <i>x</i> in <b>xs</b>. \n",
    "\n",
    "Now, lets look at the derivitive w.r.t. <b>var_x</b>:\n",
    "$$ (2x^2 + 3xy) = 4x + 3y $$\n"
   ]
  },
  {
   "cell_type": "code",
   "execution_count": 44,
   "metadata": {},
   "outputs": [
    {
     "name": "stdout",
     "output_type": "stream",
     "text": [
      "tf.Tensor(10.0, shape=(), dtype=float32)\n"
     ]
    }
   ],
   "source": [
    "var_grad = g.gradient(func_test, x) # Will compute to 10.0\n",
    "print(var_grad)"
   ]
  },
  {
   "cell_type": "markdown",
   "metadata": {},
   "source": [
    "the derivative w.r.t. <b>var_y</b>:\n",
    "$$ (2x^2 + 3xy) = 3x $$\n"
   ]
  },
  {
   "cell_type": "code",
   "execution_count": 45,
   "metadata": {},
   "outputs": [
    {
     "name": "stdout",
     "output_type": "stream",
     "text": [
      "tf.Tensor(3.0, shape=(), dtype=float32)\n"
     ]
    }
   ],
   "source": [
    "var_grad = g.gradient(func_test, y) # Will compute to 3.0\n",
    "print(var_grad)"
   ]
  },
  {
   "cell_type": "markdown",
   "metadata": {},
   "source": [
    "Now, we can look at gradients w.r.t all variables:\n"
   ]
  },
  {
   "cell_type": "code",
   "execution_count": 46,
   "metadata": {},
   "outputs": [],
   "source": [
    "with tf.GradientTape() as tape:\n",
    "    # Forward pass.\n",
    "    output_words_prob = model(_input_data)\n",
    "    # Loss value for this batch.\n",
    "    loss  = crossentropy(_targets, output_words_prob)\n",
    "    cost = tf.reduce_sum(loss,axis=0) / batch_size"
   ]
  },
  {
   "cell_type": "code",
   "execution_count": 47,
   "metadata": {},
   "outputs": [],
   "source": [
    "# Get gradients of loss wrt the trainable variables.\n",
    "grad_t_list = tape.gradient(cost, tvars)"
   ]
  },
  {
   "cell_type": "code",
   "execution_count": 48,
   "metadata": {},
   "outputs": [
    {
     "name": "stdout",
     "output_type": "stream",
     "text": [
      "[<tensorflow.python.framework.indexed_slices.IndexedSlices object at 0x0000010D570D3C50>, <tf.Tensor: shape=(200, 1024), dtype=float32, numpy=\n",
      "array([[-2.6848411e-07,  1.5984024e-06,  4.7916757e-08, ...,\n",
      "        -4.7375373e-08,  2.5360208e-07,  2.2634615e-07],\n",
      "       [-2.5552578e-07,  4.1364362e-07,  3.7919744e-07, ...,\n",
      "         3.3932844e-07,  7.5762648e-07,  1.3598327e-07],\n",
      "       [ 2.5554581e-07, -1.2454186e-07,  3.7690813e-07, ...,\n",
      "        -5.2195298e-07, -1.2145549e-07, -8.4166368e-07],\n",
      "       ...,\n",
      "       [ 2.2228446e-07, -1.0865198e-06,  1.1333648e-06, ...,\n",
      "         3.2136580e-07,  1.5760455e-07,  6.2444849e-07],\n",
      "       [ 5.4724416e-07, -1.3134101e-07, -1.0128927e-06, ...,\n",
      "         2.7908257e-07,  3.9513353e-07, -1.7031851e-07],\n",
      "       [-2.1189750e-07,  7.1029723e-07, -1.2406786e-06, ...,\n",
      "         1.7464346e-07, -1.6221202e-07,  5.9326720e-07]], dtype=float32)>, <tf.Tensor: shape=(256, 1024), dtype=float32, numpy=\n",
      "array([[ 1.8426400e-07,  1.4061217e-07,  4.2175309e-08, ...,\n",
      "         2.8007292e-08,  1.8029726e-07,  4.2287265e-08],\n",
      "       [-7.6288927e-08,  4.0344864e-07,  6.7375893e-08, ...,\n",
      "         3.4145444e-07, -1.7870697e-08, -5.0571753e-08],\n",
      "       [ 2.8781241e-08, -1.0752103e-07,  1.5200993e-07, ...,\n",
      "        -1.8721617e-07, -1.9681954e-07,  8.8136375e-08],\n",
      "       ...,\n",
      "       [ 1.8920939e-08,  1.4311128e-07,  1.6158251e-07, ...,\n",
      "         3.6213061e-07,  5.1397524e-08, -2.7052124e-08],\n",
      "       [ 4.8153503e-08,  1.9374090e-07, -1.3466007e-08, ...,\n",
      "         1.8400495e-07, -1.8527837e-07, -1.2138544e-07],\n",
      "       [ 1.6013345e-07, -1.6425643e-07, -1.0967311e-07, ...,\n",
      "         2.4067838e-08,  1.5658385e-07, -5.4645011e-07]], dtype=float32)>, <tf.Tensor: shape=(1024,), dtype=float32, numpy=\n",
      "array([-1.2121079e-05, -7.9696081e-05,  2.3874269e-05, ...,\n",
      "       -1.2402682e-05,  1.9649269e-05,  1.0343254e-05], dtype=float32)>, <tf.Tensor: shape=(256, 512), dtype=float32, numpy=\n",
      "array([[ 2.3739111e-07,  6.5694564e-08,  1.5669372e-07, ...,\n",
      "        -7.2738473e-08,  2.1677255e-07,  8.7810051e-08],\n",
      "       [ 2.6442291e-07,  4.9480917e-09,  4.3598399e-07, ...,\n",
      "         3.2220288e-07,  2.3098829e-07,  3.6841129e-07],\n",
      "       [ 9.1632657e-09, -7.4542591e-08,  1.5833238e-07, ...,\n",
      "         7.9993455e-08,  5.1009224e-08,  9.9188675e-08],\n",
      "       ...,\n",
      "       [-2.0416917e-07, -2.7402430e-07,  4.2586610e-08, ...,\n",
      "         8.9498364e-09,  1.5433770e-08,  2.3529887e-07],\n",
      "       [ 1.0172877e-07, -1.1056820e-07,  1.2868503e-07, ...,\n",
      "         2.6796272e-07, -1.1392785e-07,  3.6107792e-07],\n",
      "       [-3.3902217e-07, -8.3545267e-08,  8.0800874e-08, ...,\n",
      "         1.9074088e-07, -2.4772095e-08,  3.7389437e-08]], dtype=float32)>, <tf.Tensor: shape=(128, 512), dtype=float32, numpy=\n",
      "array([[ 4.23070503e-07,  1.04940170e-07, -5.08574161e-08, ...,\n",
      "        -3.35120092e-08,  1.86184650e-07,  9.41739415e-08],\n",
      "       [ 2.33435088e-07, -1.08086404e-07,  5.37602602e-08, ...,\n",
      "         5.15746379e-08,  1.42194722e-07,  1.11267262e-07],\n",
      "       [ 1.49566475e-08,  2.86569815e-07, -2.67935860e-07, ...,\n",
      "        -3.97809039e-08, -8.90313885e-08, -7.36029051e-08],\n",
      "       ...,\n",
      "       [-4.72564210e-10, -3.62187969e-08,  8.87554563e-08, ...,\n",
      "         2.91515249e-07,  5.04381035e-08,  1.45424423e-07],\n",
      "       [-9.72533343e-09,  4.58354066e-09,  1.49051331e-08, ...,\n",
      "        -1.98669753e-07,  8.46143422e-08,  2.50378172e-08],\n",
      "       [ 1.89099495e-07,  3.15642055e-08,  8.31069755e-08, ...,\n",
      "        -3.85025025e-08,  8.20551307e-08,  3.29670939e-07]], dtype=float32)>, <tf.Tensor: shape=(512,), dtype=float32, numpy=\n",
      "array([ 1.02311378e-06,  3.75434756e-05, -5.57490930e-05, -2.10927301e-05,\n",
      "       -1.47972696e-05,  1.57442300e-05,  5.32210397e-05, -5.58666898e-06,\n",
      "        6.53023744e-06, -5.37391634e-06, -7.06480496e-05,  4.66759184e-06,\n",
      "       -3.36199118e-05,  5.59075124e-05, -5.35896925e-06, -4.91235405e-05,\n",
      "       -1.29376158e-05, -4.95515087e-05, -3.09702300e-05,  2.57987849e-05,\n",
      "        5.28044393e-06,  1.01051610e-05, -1.68691695e-05,  2.73488404e-05,\n",
      "       -8.64836693e-07, -3.38543286e-05, -1.87615806e-05, -3.70135749e-05,\n",
      "        5.96531208e-06,  1.89291495e-05, -5.23504496e-05,  1.25861270e-05,\n",
      "       -1.32601126e-05,  2.84019698e-05, -3.38634454e-05, -1.25303777e-05,\n",
      "        1.63653713e-05,  8.82847417e-07, -2.67078394e-05, -5.20100402e-05,\n",
      "        1.23146037e-07,  7.68762220e-07, -6.24891181e-05,  1.36003582e-05,\n",
      "       -2.92684763e-05,  2.19279154e-05,  2.36671676e-05, -3.58545694e-05,\n",
      "        1.31558882e-05,  6.19324783e-06, -2.35969092e-05, -1.79844938e-05,\n",
      "       -2.96161743e-05, -8.60347245e-06,  1.17562355e-04, -2.61280948e-05,\n",
      "        1.78999289e-05, -2.02459632e-05,  1.35543414e-05, -1.63396908e-05,\n",
      "       -7.08399421e-06,  4.77149388e-06,  1.90886185e-05, -1.21608591e-05,\n",
      "        1.08084869e-05,  1.13172555e-05, -1.04421333e-05,  3.76910684e-05,\n",
      "       -3.26705049e-05,  1.11092340e-05,  2.12273881e-05,  2.61997902e-05,\n",
      "        2.20492220e-05, -1.78727496e-05,  1.51583772e-05, -1.65076654e-05,\n",
      "        2.65072663e-06, -2.36093474e-05,  1.63320274e-05,  3.40774113e-06,\n",
      "       -4.40240328e-05, -5.63551512e-05,  3.88357003e-05,  1.35519304e-05,\n",
      "       -1.83849988e-05,  9.39071469e-05,  9.92996661e-07, -2.99103631e-05,\n",
      "       -3.99097917e-05,  1.74257893e-05,  6.51704904e-05,  2.53514481e-05,\n",
      "        6.44987631e-06,  2.53107664e-05,  4.57892675e-05, -4.49181898e-05,\n",
      "       -1.35027640e-05, -5.28238270e-05,  1.59963056e-05,  1.57778013e-05,\n",
      "       -3.13919300e-05, -2.33750598e-05, -6.79683289e-05,  5.03307529e-05,\n",
      "       -2.74492413e-05,  5.14876410e-05, -4.03541271e-05, -4.41990778e-07,\n",
      "       -3.05446811e-05, -3.95610150e-05, -2.52562313e-05,  2.08889833e-05,\n",
      "       -8.05820309e-06, -1.31258130e-05,  3.87894361e-05, -3.02938115e-05,\n",
      "       -3.32218087e-06, -2.47083390e-05, -5.96741702e-05, -3.05908761e-05,\n",
      "        2.07003759e-05,  4.65197172e-06,  2.09633035e-05, -1.28394277e-07,\n",
      "        1.68852675e-05, -1.24553571e-05, -2.46073359e-05, -3.95948009e-05,\n",
      "       -1.26621762e-06,  1.66080499e-05, -6.64727850e-05, -3.16635269e-05,\n",
      "        2.00648174e-07,  3.32674754e-05,  1.18617965e-04,  6.95458766e-06,\n",
      "        6.28731868e-07,  2.35179414e-06, -9.20719322e-05,  2.84099478e-05,\n",
      "       -3.83017759e-05,  9.54377756e-05,  9.69597386e-06, -5.79983316e-05,\n",
      "       -2.28015742e-05, -7.95774686e-05, -5.74075239e-05,  1.13507940e-05,\n",
      "        1.61615462e-05,  6.13011844e-06, -3.91336725e-05,  3.09862553e-05,\n",
      "        2.10952931e-05, -6.77214412e-05, -1.86805300e-05, -4.17475312e-05,\n",
      "        6.07018592e-06,  5.41238041e-05, -7.67482416e-05,  2.43160976e-05,\n",
      "       -2.48381293e-05,  3.38840255e-05, -1.31401957e-05, -3.44492764e-05,\n",
      "        4.79240498e-06,  4.25952294e-06, -4.41367520e-05, -7.06849605e-05,\n",
      "       -1.94496588e-05, -3.81001701e-06, -4.95735658e-05,  8.86919679e-06,\n",
      "       -4.19869757e-05,  3.01494510e-05,  2.44811963e-05, -3.51541930e-05,\n",
      "       -2.00249269e-06,  8.11306563e-06, -6.90559973e-05, -9.14150041e-06,\n",
      "       -4.97921392e-05, -2.96885901e-06,  1.80375602e-04, -3.84621344e-05,\n",
      "        1.73989702e-05, -4.40843942e-05,  2.97279239e-05, -2.15670716e-05,\n",
      "        1.94386485e-06,  2.04992430e-05,  2.53205308e-05,  4.06801337e-06,\n",
      "        4.92809340e-05,  1.76310259e-05, -3.70374582e-05,  6.32505398e-05,\n",
      "       -1.33268895e-05,  2.86617396e-05,  3.66152890e-05,  5.46115371e-05,\n",
      "        5.11904655e-05, -3.53106261e-05,  5.30642465e-05, -1.31447996e-06,\n",
      "        1.20522600e-05, -1.47304945e-05,  9.06860078e-06, -2.24043470e-05,\n",
      "       -6.84398110e-05, -6.74545008e-05,  4.99772650e-05,  3.07288792e-05,\n",
      "       -6.26326218e-05,  1.21698555e-04,  3.51093286e-06, -2.17197448e-05,\n",
      "       -2.29517973e-05,  3.07938753e-05,  9.33933188e-05,  4.26140614e-05,\n",
      "        1.53310830e-05,  1.07581473e-05,  5.81131462e-05, -5.59234031e-05,\n",
      "       -1.85861900e-05, -7.65802251e-05,  7.70671613e-06,  1.17226455e-05,\n",
      "       -4.95814529e-05, -4.68065264e-05, -1.25182167e-04,  4.05287719e-05,\n",
      "       -4.34310277e-05,  6.93763286e-05, -5.40396104e-05,  3.05481226e-05,\n",
      "       -5.07193181e-05, -4.05346145e-05, -1.65021265e-05,  9.72516864e-06,\n",
      "        9.76509455e-06, -1.76010108e-05,  4.05745886e-05, -2.73332989e-05,\n",
      "       -2.20209222e-06, -4.11858855e-05, -8.64261601e-05,  2.88305819e-06,\n",
      "        3.75846175e-05, -2.50552675e-05,  3.37791898e-05,  4.06739900e-06,\n",
      "        5.22645096e-05, -2.24864216e-05, -4.11866349e-05, -4.59254952e-05,\n",
      "        2.68610921e-02, -6.30751066e-03, -2.00541373e-02,  2.68542860e-02,\n",
      "        1.54035082e-02,  3.27802682e-03, -4.81052920e-02,  1.48761924e-02,\n",
      "       -4.81274910e-05,  3.56480516e-02,  4.45248783e-02,  7.75270816e-03,\n",
      "        3.72621641e-02, -1.22424010e-02, -2.75122607e-03, -5.05871372e-03,\n",
      "        1.83595475e-02, -1.54222706e-02, -6.48519630e-03,  1.45275949e-03,\n",
      "       -1.22326333e-02,  1.51508264e-02,  3.05362903e-02, -2.65779570e-02,\n",
      "        4.44109514e-02, -5.28773554e-02,  1.18434783e-02,  1.42276101e-02,\n",
      "        1.89522952e-02, -3.14109474e-02, -5.20442873e-02,  3.77125181e-02,\n",
      "        6.79550786e-03, -1.12114269e-02, -4.38856520e-03,  3.99569310e-02,\n",
      "       -1.08238906e-02, -5.02394661e-02,  1.33217722e-02,  2.37855166e-02,\n",
      "       -1.00605097e-02, -3.63622159e-02,  1.46508832e-02,  1.26584787e-02,\n",
      "        1.97407268e-02, -4.08397103e-03, -1.48937805e-02,  1.78035907e-02,\n",
      "        2.42183842e-02, -2.54634991e-02, -2.54695322e-02,  2.86454558e-02,\n",
      "        2.16718093e-02,  7.95450807e-03,  2.71863546e-02,  2.30491608e-02,\n",
      "        3.62918675e-02,  1.19779892e-02,  3.45373675e-02,  1.30689638e-02,\n",
      "        1.39695201e-02,  2.71418714e-03,  5.26507385e-03,  5.69579117e-02,\n",
      "        2.09788159e-02,  2.09197011e-02, -8.60726088e-03, -3.27655785e-02,\n",
      "       -1.45175448e-02,  2.32444406e-02,  5.94690535e-03, -3.40046808e-02,\n",
      "        2.71090195e-02, -7.71106035e-03, -6.67868033e-02,  4.67763506e-02,\n",
      "       -2.97036394e-03,  3.37431207e-02,  2.70593241e-02, -3.97314206e-02,\n",
      "        2.65547484e-02,  3.51991951e-02, -4.37334646e-03,  1.60292387e-02,\n",
      "       -3.38892788e-02, -6.08269721e-02,  2.99712569e-02,  6.46418845e-03,\n",
      "       -3.90784480e-02, -9.80134495e-03, -2.49492116e-02,  5.16493022e-02,\n",
      "        5.73331257e-04, -3.13570700e-03, -3.64002138e-02,  2.51619667e-02,\n",
      "       -3.40155438e-02,  4.88279201e-02, -2.97349580e-02,  2.70534530e-02,\n",
      "       -1.95145491e-03,  6.56600110e-04,  3.33312415e-02, -1.89049281e-02,\n",
      "       -6.62665861e-03,  3.55776213e-02,  1.05814431e-02, -1.89979514e-03,\n",
      "       -2.17014598e-03,  3.66082415e-02, -1.84898148e-03,  1.97643936e-02,\n",
      "       -1.49253439e-02,  2.24660859e-02,  5.42865098e-02,  7.04432651e-02,\n",
      "        2.63800006e-02,  1.58092342e-02, -1.07834274e-02, -6.28514215e-03,\n",
      "       -3.09476033e-02,  1.82888680e-03, -4.29893583e-02,  2.35895463e-03,\n",
      "       -2.68757418e-02,  4.69704792e-02,  1.14711057e-02,  2.88599655e-02,\n",
      "       -8.29603323e-07,  3.95741590e-05, -5.97950457e-05, -2.63382535e-05,\n",
      "       -1.86823436e-05,  1.41024129e-05,  6.50872316e-05, -2.60212437e-06,\n",
      "        6.90346042e-06, -7.56517193e-06, -7.91196726e-05,  4.42095961e-06,\n",
      "       -3.29194372e-05,  7.37030859e-05,  3.88997705e-07, -6.35610777e-05,\n",
      "       -2.30255646e-05, -5.95574020e-05, -2.20817456e-05,  3.13313503e-05,\n",
      "        3.13569581e-06,  1.50525639e-05, -1.91875661e-05,  2.97784791e-05,\n",
      "        3.37397796e-06, -4.38734896e-05, -1.48051768e-05, -3.04120531e-05,\n",
      "        4.23101847e-06,  2.11661936e-05, -6.33265445e-05,  2.13542917e-05,\n",
      "       -1.58973817e-05,  2.79652722e-05, -1.72117288e-05, -1.65433430e-05,\n",
      "        1.92462467e-05, -2.15159707e-06, -2.32643579e-05, -6.20453211e-05,\n",
      "        1.01089313e-06,  8.37402695e-06, -7.19481759e-05,  4.87465695e-06,\n",
      "       -3.68235342e-05,  2.12557115e-05,  2.61027926e-05, -4.42692181e-05,\n",
      "        1.21939511e-05,  5.13605619e-06, -2.93539433e-05, -2.76077062e-05,\n",
      "       -3.58418110e-05, -7.92215724e-06,  1.48094492e-04, -2.88730225e-05,\n",
      "        2.73499081e-05, -2.58341861e-05,  1.39848071e-05, -1.83213233e-05,\n",
      "        1.58052171e-06,  8.76910599e-06,  2.78065436e-05, -2.73763362e-07,\n",
      "        1.16936408e-05,  1.66074860e-05, -1.47927458e-05,  3.63359759e-05,\n",
      "       -2.97626557e-05,  6.65289735e-06,  2.15045584e-05,  3.61750572e-05,\n",
      "        2.19415542e-05, -2.83596819e-05,  1.81378236e-05, -2.01861440e-05,\n",
      "        6.50616676e-06, -2.15866876e-05,  1.17451909e-05,  1.06491470e-05,\n",
      "       -3.13250675e-05, -6.06180729e-05,  3.73252515e-05,  7.34633522e-06,\n",
      "       -2.77880426e-05,  9.63881612e-05,  3.48145613e-06, -3.00243300e-05,\n",
      "       -3.25811707e-05,  1.84513228e-05,  6.97097785e-05,  3.65495071e-05,\n",
      "        1.32183413e-06,  2.21013179e-05,  4.29224092e-05, -5.26810691e-05,\n",
      "       -1.64704343e-05, -5.26585209e-05,  9.40544487e-06,  1.82067815e-05,\n",
      "       -4.15738687e-05, -2.46650234e-05, -9.35295247e-05,  5.02728581e-05,\n",
      "       -3.46720117e-05,  6.73485192e-05, -4.88564292e-05,  7.50270237e-06,\n",
      "       -4.18773707e-05, -4.32567504e-05, -2.55249342e-05,  1.30343251e-05,\n",
      "       -1.04377241e-05, -1.52269040e-05,  4.06984072e-05, -3.03878151e-05,\n",
      "       -1.07325059e-05, -3.13715500e-05, -6.62678867e-05, -1.69415289e-05,\n",
      "        1.36435165e-05,  4.34150161e-06,  1.93675369e-05,  3.30424518e-06,\n",
      "        2.66488023e-05, -1.62505094e-05, -3.17610502e-05, -4.21007135e-05],\n",
      "      dtype=float32)>, <tf.Tensor: shape=(128, 10000), dtype=float32, numpy=\n",
      "array([[ 1.5958522e-03,  2.1184643e-03,  1.7287602e-03, ...,\n",
      "        -1.3925858e-06, -1.3944726e-06, -1.3943335e-06],\n",
      "       [ 2.6433566e-03,  2.9990601e-03,  2.6269848e-03, ...,\n",
      "        -4.9206838e-06, -4.9233449e-06, -4.9221208e-06],\n",
      "       [-2.2316643e-03, -4.2861816e-03, -4.7165449e-03, ...,\n",
      "         7.1660425e-06,  7.1661343e-06,  7.1671270e-06],\n",
      "       ...,\n",
      "       [ 2.3052820e-03,  4.2139372e-04, -9.2968426e-04, ...,\n",
      "        -3.5995200e-07, -3.5913109e-07, -3.5665778e-07],\n",
      "       [-1.7195540e-04,  1.6357977e-04,  7.4954383e-04, ...,\n",
      "        -9.4994675e-07, -9.5039417e-07, -9.5041105e-07],\n",
      "       [ 1.6502740e-03,  2.1958991e-03,  9.9060324e-04, ...,\n",
      "        -1.9082920e-06, -1.9089239e-06, -1.9092067e-06]], dtype=float32)>, <tf.Tensor: shape=(10000,), dtype=float32, numpy=\n",
      "array([-0.7979986 , -1.0313318 , -1.0313314 , ...,  0.00200029,\n",
      "        0.00200067,  0.00200042], dtype=float32)>]\n"
     ]
    }
   ],
   "source": [
    "print(grad_t_list)"
   ]
  },
  {
   "cell_type": "markdown",
   "metadata": {
    "button": false,
    "new_sheet": false,
    "run_control": {
     "read_only": false
    }
   },
   "source": [
    "now, we have a list of tensors, t-list. We can use it to find clipped tensors. <b>clip_by_global_norm</b> clips values of multiple tensors by the ratio of the sum of their norms.\n",
    "\n",
    "<b>clip_by_global_norm</b> get <i>t-list</i> as input and returns 2 things:\n",
    "\n",
    "<ul>\n",
    "    <li>a list of clipped tensors, so called <i>list_clipped</i></li> \n",
    "    <li>the global norm (global_norm) of all tensors in t_list</li> \n",
    "</ul>\n"
   ]
  },
  {
   "cell_type": "code",
   "execution_count": 49,
   "metadata": {},
   "outputs": [
    {
     "data": {
      "text/plain": [
       "[<tensorflow.python.framework.indexed_slices.IndexedSlices at 0x10d57126668>,\n",
       " <tf.Tensor: shape=(200, 1024), dtype=float32, numpy=\n",
       " array([[-2.6848411e-07,  1.5984024e-06,  4.7916757e-08, ...,\n",
       "         -4.7375373e-08,  2.5360208e-07,  2.2634615e-07],\n",
       "        [-2.5552578e-07,  4.1364362e-07,  3.7919744e-07, ...,\n",
       "          3.3932844e-07,  7.5762648e-07,  1.3598327e-07],\n",
       "        [ 2.5554581e-07, -1.2454186e-07,  3.7690813e-07, ...,\n",
       "         -5.2195298e-07, -1.2145549e-07, -8.4166368e-07],\n",
       "        ...,\n",
       "        [ 2.2228446e-07, -1.0865198e-06,  1.1333648e-06, ...,\n",
       "          3.2136580e-07,  1.5760455e-07,  6.2444849e-07],\n",
       "        [ 5.4724416e-07, -1.3134101e-07, -1.0128927e-06, ...,\n",
       "          2.7908257e-07,  3.9513353e-07, -1.7031851e-07],\n",
       "        [-2.1189750e-07,  7.1029723e-07, -1.2406786e-06, ...,\n",
       "          1.7464346e-07, -1.6221202e-07,  5.9326720e-07]], dtype=float32)>,\n",
       " <tf.Tensor: shape=(256, 1024), dtype=float32, numpy=\n",
       " array([[ 1.8426400e-07,  1.4061217e-07,  4.2175309e-08, ...,\n",
       "          2.8007292e-08,  1.8029726e-07,  4.2287265e-08],\n",
       "        [-7.6288927e-08,  4.0344864e-07,  6.7375893e-08, ...,\n",
       "          3.4145444e-07, -1.7870697e-08, -5.0571753e-08],\n",
       "        [ 2.8781241e-08, -1.0752103e-07,  1.5200993e-07, ...,\n",
       "         -1.8721617e-07, -1.9681954e-07,  8.8136375e-08],\n",
       "        ...,\n",
       "        [ 1.8920939e-08,  1.4311128e-07,  1.6158251e-07, ...,\n",
       "          3.6213061e-07,  5.1397524e-08, -2.7052124e-08],\n",
       "        [ 4.8153503e-08,  1.9374090e-07, -1.3466007e-08, ...,\n",
       "          1.8400495e-07, -1.8527837e-07, -1.2138544e-07],\n",
       "        [ 1.6013345e-07, -1.6425643e-07, -1.0967311e-07, ...,\n",
       "          2.4067838e-08,  1.5658385e-07, -5.4645011e-07]], dtype=float32)>,\n",
       " <tf.Tensor: shape=(1024,), dtype=float32, numpy=\n",
       " array([-1.2121079e-05, -7.9696081e-05,  2.3874269e-05, ...,\n",
       "        -1.2402682e-05,  1.9649269e-05,  1.0343254e-05], dtype=float32)>,\n",
       " <tf.Tensor: shape=(256, 512), dtype=float32, numpy=\n",
       " array([[ 2.3739111e-07,  6.5694564e-08,  1.5669372e-07, ...,\n",
       "         -7.2738473e-08,  2.1677255e-07,  8.7810051e-08],\n",
       "        [ 2.6442291e-07,  4.9480917e-09,  4.3598399e-07, ...,\n",
       "          3.2220288e-07,  2.3098829e-07,  3.6841129e-07],\n",
       "        [ 9.1632657e-09, -7.4542591e-08,  1.5833238e-07, ...,\n",
       "          7.9993455e-08,  5.1009224e-08,  9.9188675e-08],\n",
       "        ...,\n",
       "        [-2.0416917e-07, -2.7402430e-07,  4.2586610e-08, ...,\n",
       "          8.9498364e-09,  1.5433770e-08,  2.3529887e-07],\n",
       "        [ 1.0172877e-07, -1.1056820e-07,  1.2868503e-07, ...,\n",
       "          2.6796272e-07, -1.1392785e-07,  3.6107792e-07],\n",
       "        [-3.3902217e-07, -8.3545267e-08,  8.0800874e-08, ...,\n",
       "          1.9074088e-07, -2.4772095e-08,  3.7389437e-08]], dtype=float32)>,\n",
       " <tf.Tensor: shape=(128, 512), dtype=float32, numpy=\n",
       " array([[ 4.23070503e-07,  1.04940170e-07, -5.08574161e-08, ...,\n",
       "         -3.35120092e-08,  1.86184650e-07,  9.41739415e-08],\n",
       "        [ 2.33435088e-07, -1.08086404e-07,  5.37602602e-08, ...,\n",
       "          5.15746379e-08,  1.42194722e-07,  1.11267262e-07],\n",
       "        [ 1.49566475e-08,  2.86569815e-07, -2.67935860e-07, ...,\n",
       "         -3.97809039e-08, -8.90313885e-08, -7.36029051e-08],\n",
       "        ...,\n",
       "        [-4.72564210e-10, -3.62187969e-08,  8.87554563e-08, ...,\n",
       "          2.91515249e-07,  5.04381035e-08,  1.45424423e-07],\n",
       "        [-9.72533343e-09,  4.58354066e-09,  1.49051331e-08, ...,\n",
       "         -1.98669753e-07,  8.46143422e-08,  2.50378172e-08],\n",
       "        [ 1.89099495e-07,  3.15642055e-08,  8.31069755e-08, ...,\n",
       "         -3.85025025e-08,  8.20551307e-08,  3.29670939e-07]], dtype=float32)>,\n",
       " <tf.Tensor: shape=(512,), dtype=float32, numpy=\n",
       " array([ 1.02311378e-06,  3.75434756e-05, -5.57490930e-05, -2.10927301e-05,\n",
       "        -1.47972696e-05,  1.57442300e-05,  5.32210397e-05, -5.58666898e-06,\n",
       "         6.53023744e-06, -5.37391634e-06, -7.06480496e-05,  4.66759184e-06,\n",
       "        -3.36199118e-05,  5.59075124e-05, -5.35896925e-06, -4.91235405e-05,\n",
       "        -1.29376158e-05, -4.95515087e-05, -3.09702300e-05,  2.57987849e-05,\n",
       "         5.28044393e-06,  1.01051610e-05, -1.68691695e-05,  2.73488404e-05,\n",
       "        -8.64836693e-07, -3.38543286e-05, -1.87615806e-05, -3.70135749e-05,\n",
       "         5.96531208e-06,  1.89291495e-05, -5.23504496e-05,  1.25861270e-05,\n",
       "        -1.32601126e-05,  2.84019698e-05, -3.38634454e-05, -1.25303777e-05,\n",
       "         1.63653713e-05,  8.82847417e-07, -2.67078394e-05, -5.20100402e-05,\n",
       "         1.23146037e-07,  7.68762220e-07, -6.24891181e-05,  1.36003582e-05,\n",
       "        -2.92684763e-05,  2.19279154e-05,  2.36671676e-05, -3.58545694e-05,\n",
       "         1.31558882e-05,  6.19324783e-06, -2.35969092e-05, -1.79844938e-05,\n",
       "        -2.96161743e-05, -8.60347245e-06,  1.17562355e-04, -2.61280948e-05,\n",
       "         1.78999289e-05, -2.02459632e-05,  1.35543414e-05, -1.63396908e-05,\n",
       "        -7.08399421e-06,  4.77149388e-06,  1.90886185e-05, -1.21608591e-05,\n",
       "         1.08084869e-05,  1.13172555e-05, -1.04421333e-05,  3.76910684e-05,\n",
       "        -3.26705049e-05,  1.11092340e-05,  2.12273881e-05,  2.61997902e-05,\n",
       "         2.20492220e-05, -1.78727496e-05,  1.51583772e-05, -1.65076654e-05,\n",
       "         2.65072663e-06, -2.36093474e-05,  1.63320274e-05,  3.40774113e-06,\n",
       "        -4.40240328e-05, -5.63551512e-05,  3.88357003e-05,  1.35519304e-05,\n",
       "        -1.83849988e-05,  9.39071469e-05,  9.92996661e-07, -2.99103631e-05,\n",
       "        -3.99097917e-05,  1.74257893e-05,  6.51704904e-05,  2.53514481e-05,\n",
       "         6.44987631e-06,  2.53107664e-05,  4.57892675e-05, -4.49181898e-05,\n",
       "        -1.35027640e-05, -5.28238270e-05,  1.59963056e-05,  1.57778013e-05,\n",
       "        -3.13919300e-05, -2.33750598e-05, -6.79683289e-05,  5.03307529e-05,\n",
       "        -2.74492413e-05,  5.14876410e-05, -4.03541271e-05, -4.41990778e-07,\n",
       "        -3.05446811e-05, -3.95610150e-05, -2.52562313e-05,  2.08889833e-05,\n",
       "        -8.05820309e-06, -1.31258130e-05,  3.87894361e-05, -3.02938115e-05,\n",
       "        -3.32218087e-06, -2.47083390e-05, -5.96741702e-05, -3.05908761e-05,\n",
       "         2.07003759e-05,  4.65197172e-06,  2.09633035e-05, -1.28394277e-07,\n",
       "         1.68852675e-05, -1.24553571e-05, -2.46073359e-05, -3.95948009e-05,\n",
       "        -1.26621762e-06,  1.66080499e-05, -6.64727850e-05, -3.16635269e-05,\n",
       "         2.00648174e-07,  3.32674754e-05,  1.18617965e-04,  6.95458766e-06,\n",
       "         6.28731868e-07,  2.35179414e-06, -9.20719322e-05,  2.84099478e-05,\n",
       "        -3.83017759e-05,  9.54377756e-05,  9.69597386e-06, -5.79983316e-05,\n",
       "        -2.28015742e-05, -7.95774686e-05, -5.74075239e-05,  1.13507940e-05,\n",
       "         1.61615462e-05,  6.13011844e-06, -3.91336725e-05,  3.09862553e-05,\n",
       "         2.10952931e-05, -6.77214412e-05, -1.86805300e-05, -4.17475312e-05,\n",
       "         6.07018592e-06,  5.41238041e-05, -7.67482416e-05,  2.43160976e-05,\n",
       "        -2.48381293e-05,  3.38840255e-05, -1.31401957e-05, -3.44492764e-05,\n",
       "         4.79240498e-06,  4.25952294e-06, -4.41367520e-05, -7.06849605e-05,\n",
       "        -1.94496588e-05, -3.81001701e-06, -4.95735658e-05,  8.86919679e-06,\n",
       "        -4.19869757e-05,  3.01494510e-05,  2.44811963e-05, -3.51541930e-05,\n",
       "        -2.00249269e-06,  8.11306563e-06, -6.90559973e-05, -9.14150041e-06,\n",
       "        -4.97921392e-05, -2.96885901e-06,  1.80375602e-04, -3.84621344e-05,\n",
       "         1.73989702e-05, -4.40843942e-05,  2.97279239e-05, -2.15670716e-05,\n",
       "         1.94386485e-06,  2.04992430e-05,  2.53205308e-05,  4.06801337e-06,\n",
       "         4.92809340e-05,  1.76310259e-05, -3.70374582e-05,  6.32505398e-05,\n",
       "        -1.33268895e-05,  2.86617396e-05,  3.66152890e-05,  5.46115371e-05,\n",
       "         5.11904655e-05, -3.53106261e-05,  5.30642465e-05, -1.31447996e-06,\n",
       "         1.20522600e-05, -1.47304945e-05,  9.06860078e-06, -2.24043470e-05,\n",
       "        -6.84398110e-05, -6.74545008e-05,  4.99772650e-05,  3.07288792e-05,\n",
       "        -6.26326218e-05,  1.21698555e-04,  3.51093286e-06, -2.17197448e-05,\n",
       "        -2.29517973e-05,  3.07938753e-05,  9.33933188e-05,  4.26140614e-05,\n",
       "         1.53310830e-05,  1.07581473e-05,  5.81131462e-05, -5.59234031e-05,\n",
       "        -1.85861900e-05, -7.65802251e-05,  7.70671613e-06,  1.17226455e-05,\n",
       "        -4.95814529e-05, -4.68065264e-05, -1.25182167e-04,  4.05287719e-05,\n",
       "        -4.34310277e-05,  6.93763286e-05, -5.40396104e-05,  3.05481226e-05,\n",
       "        -5.07193181e-05, -4.05346145e-05, -1.65021265e-05,  9.72516864e-06,\n",
       "         9.76509455e-06, -1.76010108e-05,  4.05745886e-05, -2.73332989e-05,\n",
       "        -2.20209222e-06, -4.11858855e-05, -8.64261601e-05,  2.88305819e-06,\n",
       "         3.75846175e-05, -2.50552675e-05,  3.37791898e-05,  4.06739900e-06,\n",
       "         5.22645096e-05, -2.24864216e-05, -4.11866349e-05, -4.59254952e-05,\n",
       "         2.68610921e-02, -6.30751066e-03, -2.00541373e-02,  2.68542860e-02,\n",
       "         1.54035082e-02,  3.27802682e-03, -4.81052920e-02,  1.48761924e-02,\n",
       "        -4.81274910e-05,  3.56480516e-02,  4.45248783e-02,  7.75270816e-03,\n",
       "         3.72621641e-02, -1.22424010e-02, -2.75122607e-03, -5.05871372e-03,\n",
       "         1.83595475e-02, -1.54222706e-02, -6.48519630e-03,  1.45275949e-03,\n",
       "        -1.22326333e-02,  1.51508264e-02,  3.05362903e-02, -2.65779570e-02,\n",
       "         4.44109514e-02, -5.28773554e-02,  1.18434783e-02,  1.42276101e-02,\n",
       "         1.89522952e-02, -3.14109474e-02, -5.20442873e-02,  3.77125181e-02,\n",
       "         6.79550786e-03, -1.12114269e-02, -4.38856520e-03,  3.99569310e-02,\n",
       "        -1.08238906e-02, -5.02394661e-02,  1.33217722e-02,  2.37855166e-02,\n",
       "        -1.00605097e-02, -3.63622159e-02,  1.46508832e-02,  1.26584787e-02,\n",
       "         1.97407268e-02, -4.08397103e-03, -1.48937805e-02,  1.78035907e-02,\n",
       "         2.42183842e-02, -2.54634991e-02, -2.54695322e-02,  2.86454558e-02,\n",
       "         2.16718093e-02,  7.95450807e-03,  2.71863546e-02,  2.30491608e-02,\n",
       "         3.62918675e-02,  1.19779892e-02,  3.45373675e-02,  1.30689638e-02,\n",
       "         1.39695201e-02,  2.71418714e-03,  5.26507385e-03,  5.69579117e-02,\n",
       "         2.09788159e-02,  2.09197011e-02, -8.60726088e-03, -3.27655785e-02,\n",
       "        -1.45175448e-02,  2.32444406e-02,  5.94690535e-03, -3.40046808e-02,\n",
       "         2.71090195e-02, -7.71106035e-03, -6.67868033e-02,  4.67763506e-02,\n",
       "        -2.97036394e-03,  3.37431207e-02,  2.70593241e-02, -3.97314206e-02,\n",
       "         2.65547484e-02,  3.51991951e-02, -4.37334646e-03,  1.60292387e-02,\n",
       "        -3.38892788e-02, -6.08269721e-02,  2.99712569e-02,  6.46418845e-03,\n",
       "        -3.90784480e-02, -9.80134495e-03, -2.49492116e-02,  5.16493022e-02,\n",
       "         5.73331257e-04, -3.13570700e-03, -3.64002138e-02,  2.51619667e-02,\n",
       "        -3.40155438e-02,  4.88279201e-02, -2.97349580e-02,  2.70534530e-02,\n",
       "        -1.95145491e-03,  6.56600110e-04,  3.33312415e-02, -1.89049281e-02,\n",
       "        -6.62665861e-03,  3.55776213e-02,  1.05814431e-02, -1.89979514e-03,\n",
       "        -2.17014598e-03,  3.66082415e-02, -1.84898148e-03,  1.97643936e-02,\n",
       "        -1.49253439e-02,  2.24660859e-02,  5.42865098e-02,  7.04432651e-02,\n",
       "         2.63800006e-02,  1.58092342e-02, -1.07834274e-02, -6.28514215e-03,\n",
       "        -3.09476033e-02,  1.82888680e-03, -4.29893583e-02,  2.35895463e-03,\n",
       "        -2.68757418e-02,  4.69704792e-02,  1.14711057e-02,  2.88599655e-02,\n",
       "        -8.29603323e-07,  3.95741590e-05, -5.97950457e-05, -2.63382535e-05,\n",
       "        -1.86823436e-05,  1.41024129e-05,  6.50872316e-05, -2.60212437e-06,\n",
       "         6.90346042e-06, -7.56517193e-06, -7.91196726e-05,  4.42095961e-06,\n",
       "        -3.29194372e-05,  7.37030859e-05,  3.88997705e-07, -6.35610777e-05,\n",
       "        -2.30255646e-05, -5.95574020e-05, -2.20817456e-05,  3.13313503e-05,\n",
       "         3.13569581e-06,  1.50525639e-05, -1.91875661e-05,  2.97784791e-05,\n",
       "         3.37397796e-06, -4.38734896e-05, -1.48051768e-05, -3.04120531e-05,\n",
       "         4.23101847e-06,  2.11661936e-05, -6.33265445e-05,  2.13542917e-05,\n",
       "        -1.58973817e-05,  2.79652722e-05, -1.72117288e-05, -1.65433430e-05,\n",
       "         1.92462467e-05, -2.15159707e-06, -2.32643579e-05, -6.20453211e-05,\n",
       "         1.01089313e-06,  8.37402695e-06, -7.19481759e-05,  4.87465695e-06,\n",
       "        -3.68235342e-05,  2.12557115e-05,  2.61027926e-05, -4.42692181e-05,\n",
       "         1.21939511e-05,  5.13605619e-06, -2.93539433e-05, -2.76077062e-05,\n",
       "        -3.58418110e-05, -7.92215724e-06,  1.48094492e-04, -2.88730225e-05,\n",
       "         2.73499081e-05, -2.58341861e-05,  1.39848071e-05, -1.83213233e-05,\n",
       "         1.58052171e-06,  8.76910599e-06,  2.78065436e-05, -2.73763362e-07,\n",
       "         1.16936408e-05,  1.66074860e-05, -1.47927458e-05,  3.63359759e-05,\n",
       "        -2.97626557e-05,  6.65289735e-06,  2.15045584e-05,  3.61750572e-05,\n",
       "         2.19415542e-05, -2.83596819e-05,  1.81378236e-05, -2.01861440e-05,\n",
       "         6.50616676e-06, -2.15866876e-05,  1.17451909e-05,  1.06491470e-05,\n",
       "        -3.13250675e-05, -6.06180729e-05,  3.73252515e-05,  7.34633522e-06,\n",
       "        -2.77880426e-05,  9.63881612e-05,  3.48145613e-06, -3.00243300e-05,\n",
       "        -3.25811707e-05,  1.84513228e-05,  6.97097785e-05,  3.65495071e-05,\n",
       "         1.32183413e-06,  2.21013179e-05,  4.29224092e-05, -5.26810691e-05,\n",
       "        -1.64704343e-05, -5.26585209e-05,  9.40544487e-06,  1.82067815e-05,\n",
       "        -4.15738687e-05, -2.46650234e-05, -9.35295247e-05,  5.02728581e-05,\n",
       "        -3.46720117e-05,  6.73485192e-05, -4.88564292e-05,  7.50270237e-06,\n",
       "        -4.18773707e-05, -4.32567504e-05, -2.55249342e-05,  1.30343251e-05,\n",
       "        -1.04377241e-05, -1.52269040e-05,  4.06984072e-05, -3.03878151e-05,\n",
       "        -1.07325059e-05, -3.13715500e-05, -6.62678867e-05, -1.69415289e-05,\n",
       "         1.36435165e-05,  4.34150161e-06,  1.93675369e-05,  3.30424518e-06,\n",
       "         2.66488023e-05, -1.62505094e-05, -3.17610502e-05, -4.21007135e-05],\n",
       "       dtype=float32)>,\n",
       " <tf.Tensor: shape=(128, 10000), dtype=float32, numpy=\n",
       " array([[ 1.5958522e-03,  2.1184643e-03,  1.7287602e-03, ...,\n",
       "         -1.3925858e-06, -1.3944726e-06, -1.3943335e-06],\n",
       "        [ 2.6433566e-03,  2.9990601e-03,  2.6269848e-03, ...,\n",
       "         -4.9206838e-06, -4.9233449e-06, -4.9221208e-06],\n",
       "        [-2.2316643e-03, -4.2861816e-03, -4.7165449e-03, ...,\n",
       "          7.1660425e-06,  7.1661343e-06,  7.1671270e-06],\n",
       "        ...,\n",
       "        [ 2.3052820e-03,  4.2139372e-04, -9.2968426e-04, ...,\n",
       "         -3.5995200e-07, -3.5913109e-07, -3.5665778e-07],\n",
       "        [-1.7195540e-04,  1.6357977e-04,  7.4954383e-04, ...,\n",
       "         -9.4994675e-07, -9.5039417e-07, -9.5041105e-07],\n",
       "        [ 1.6502740e-03,  2.1958991e-03,  9.9060324e-04, ...,\n",
       "         -1.9082920e-06, -1.9089239e-06, -1.9092067e-06]], dtype=float32)>,\n",
       " <tf.Tensor: shape=(10000,), dtype=float32, numpy=\n",
       " array([-0.7979986 , -1.0313318 , -1.0313314 , ...,  0.00200029,\n",
       "         0.00200067,  0.00200042], dtype=float32)>]"
      ]
     },
     "execution_count": 49,
     "metadata": {},
     "output_type": "execute_result"
    }
   ],
   "source": [
    "# Define the gradient clipping threshold\n",
    "grads, _ = tf.clip_by_global_norm(grad_t_list, max_grad_norm)\n",
    "grads"
   ]
  },
  {
   "cell_type": "markdown",
   "metadata": {},
   "source": [
    "<h4> 4.Apply the optimizer to the variables/gradients tuple. </h4>\n"
   ]
  },
  {
   "cell_type": "code",
   "execution_count": 50,
   "metadata": {},
   "outputs": [],
   "source": [
    "# Create the training TensorFlow Operation through our optimizer\n",
    "train_op = optimizer.apply_gradients(zip(grads, tvars))"
   ]
  },
  {
   "cell_type": "markdown",
   "metadata": {},
   "source": [
    "<a id=\"ltsm\"></a>\n",
    "\n",
    "<h2>LSTM</h2>\n"
   ]
  },
  {
   "cell_type": "markdown",
   "metadata": {
    "button": false,
    "new_sheet": false,
    "run_control": {
     "read_only": false
    }
   },
   "source": [
    "We learned how the model is build step by step. Now, let's then create a Class that represents our model. This class needs a few things:\n",
    "\n",
    "<ul>\n",
    "    <li>We have to create the model in accordance with our defined hyperparameters</li>\n",
    "    <li>We have to create the LSTM cell structure and connect them with our RNN structure</li>\n",
    "    <li>We have to create the word embeddings and point them to the input data</li>\n",
    "    <li>We have to create the input structure for our RNN</li>\n",
    "    <li>We need to create a logistic structure to return the probability of our words</li>\n",
    "    <li>We need to create the loss and cost functions for our optimizer to work, and then create the optimizer</li>\n",
    "    <li>And finally, we need to create a training operation that can be run to actually train our model</li>\n",
    "</ul>\n"
   ]
  },
  {
   "cell_type": "code",
   "execution_count": 51,
   "metadata": {
    "button": false,
    "new_sheet": false,
    "run_control": {
     "read_only": false
    },
    "tags": []
   },
   "outputs": [],
   "source": [
    "class PTBModel(object):\n",
    "\n",
    "\n",
    "    def __init__(self):\n",
    "        ######################################\n",
    "        # Setting parameters for ease of use #\n",
    "        ######################################\n",
    "        self.batch_size = batch_size\n",
    "        self.num_steps = num_steps\n",
    "        self.hidden_size_l1 = hidden_size_l1\n",
    "        self.hidden_size_l2 = hidden_size_l2\n",
    "        self.vocab_size = vocab_size\n",
    "        self.embeding_vector_size = embeding_vector_size\n",
    "        # Create a variable for the learning rate\n",
    "        self._lr = 1.0\n",
    "        \n",
    "        ###############################################################################\n",
    "        # Initializing the model using keras Sequential API  #\n",
    "        ###############################################################################\n",
    "        \n",
    "        self._model = tf.keras.models.Sequential()\n",
    "        \n",
    "        ####################################################################\n",
    "        # Creating the word embeddings layer and adding it to the sequence #\n",
    "        ####################################################################\n",
    "        with tf.device(\"/cpu:0\"):\n",
    "            # Create the embeddings for our input data. Size is hidden size.\n",
    "            self._embedding_layer = tf.keras.layers.Embedding(self.vocab_size, self.embeding_vector_size,batch_input_shape=(self.batch_size, self.num_steps),trainable=True,name=\"embedding_vocab\")  #[10000x200]\n",
    "            self._model.add(self._embedding_layer)\n",
    "            \n",
    "\n",
    "        ##########################################################################\n",
    "        # Creating the LSTM cell structure and connect it with the RNN structure #\n",
    "        ##########################################################################\n",
    "        # Create the LSTM Cells. \n",
    "        # This creates only the structure for the LSTM and has to be associated with a RNN unit still.\n",
    "        # The argument  of LSTMCell is size of hidden layer, that is, the number of hidden units of the LSTM (inside A). \n",
    "        # LSTM cell processes one word at a time and computes probabilities of the possible continuations of the sentence.\n",
    "        lstm_cell_l1 = tf.keras.layers.LSTMCell(hidden_size_l1)\n",
    "        lstm_cell_l2 = tf.keras.layers.LSTMCell(hidden_size_l2)\n",
    "        \n",
    "\n",
    "        \n",
    "        # By taking in the LSTM cells as parameters, the StackedRNNCells function junctions the LSTM units to the RNN units.\n",
    "        # RNN cell composed sequentially of stacked simple cells.\n",
    "        stacked_lstm = tf.keras.layers.StackedRNNCells([lstm_cell_l1, lstm_cell_l2])\n",
    "\n",
    "\n",
    "        \n",
    "\n",
    "        ############################################\n",
    "        # Creating the input structure for our RNN #\n",
    "        ############################################\n",
    "        # Input structure is 20x[30x200]\n",
    "        # Considering each word is represended by a 200 dimentional vector, and we have 30 batchs, we create 30 word-vectors of size [30xx2000]\n",
    "        # The input structure is fed from the embeddings, which are filled in by the input data\n",
    "        # Feeding a batch of b sentences to a RNN:\n",
    "        # In step 1,  first word of each of the b sentences (in a batch) is input in parallel.  \n",
    "        # In step 2,  second word of each of the b sentences is input in parallel. \n",
    "        # The parallelism is only for efficiency.  \n",
    "        # Each sentence in a batch is handled in parallel, but the network sees one word of a sentence at a time and does the computations accordingly. \n",
    "        # All the computations involving the words of all sentences in a batch at a given time step are done in parallel. \n",
    "\n",
    "        ########################################################################################################\n",
    "        # Instantiating our RNN model and setting stateful to True to feed forward the state to the next layer #\n",
    "        ########################################################################################################\n",
    "        \n",
    "        self._RNNlayer  =  tf.keras.layers.RNN(stacked_lstm,[batch_size, num_steps],return_state=False,stateful=True,trainable=True)\n",
    "        \n",
    "        # Define the initial state, i.e., the model state for the very first data point\n",
    "        # It initialize the state of the LSTM memory. The memory state of the network is initialized with a vector of zeros and gets updated after reading each word.\n",
    "        self._initial_state = tf.Variable(tf.zeros([batch_size,embeding_vector_size]),trainable=False)\n",
    "        self._RNNlayer.inital_state = self._initial_state\n",
    "    \n",
    "        ############################################\n",
    "        # Adding RNN layer to keras sequential API #\n",
    "        ############################################        \n",
    "        self._model.add(self._RNNlayer)\n",
    "        \n",
    "        #self._model.add(tf.keras.layers.LSTM(hidden_size_l1,return_sequences=True,stateful=True))\n",
    "        #self._model.add(tf.keras.layers.LSTM(hidden_size_l2,return_sequences=True))\n",
    "        \n",
    "        \n",
    "        ####################################################################################################\n",
    "        # Instantiating a Dense layer that connects the output to the vocab_size  and adding layer to model#\n",
    "        ####################################################################################################\n",
    "        self._dense = tf.keras.layers.Dense(self.vocab_size)\n",
    "        self._model.add(self._dense)\n",
    " \n",
    "        \n",
    "        ####################################################################################################\n",
    "        # Adding softmax activation layer and deriving probability to each class and adding layer to model #\n",
    "        ####################################################################################################\n",
    "        self._activation = tf.keras.layers.Activation('softmax')\n",
    "        self._model.add(self._activation)\n",
    "\n",
    "        ##########################################################\n",
    "        # Instantiating the stochastic gradient decent optimizer #\n",
    "        ########################################################## \n",
    "        self._optimizer = tf.keras.optimizers.SGD(lr=self._lr, clipnorm=max_grad_norm)\n",
    "        \n",
    "        \n",
    "        ##############################################################################\n",
    "        # Compiling and summarizing the model stacked using the keras sequential API #\n",
    "        ##############################################################################\n",
    "        self._model.compile(loss=self.crossentropy, optimizer=self._optimizer)\n",
    "        self._model.summary()\n",
    "\n",
    "\n",
    "    def crossentropy(self,y_true, y_pred):\n",
    "        return tf.keras.losses.sparse_categorical_crossentropy(y_true, y_pred)\n",
    "\n",
    "    def train_batch(self,_input_data,_targets):\n",
    "        #################################################\n",
    "        # Creating the Training Operation for our Model #\n",
    "        #################################################\n",
    "        # Create a variable for the learning rate\n",
    "        self._lr = tf.Variable(0.0, trainable=False)\n",
    "        # Get all TensorFlow variables marked as \"trainable\" (i.e. all of them except _lr, which we just created)\n",
    "        tvars = self._model.trainable_variables\n",
    "        # Define the gradient clipping threshold\n",
    "        with tf.GradientTape() as tape:\n",
    "            # Forward pass.\n",
    "            output_words_prob = self._model(_input_data)\n",
    "            # Loss value for this batch.\n",
    "            loss  = self.crossentropy(_targets, output_words_prob)\n",
    "            # average across batch and reduce sum\n",
    "            cost = tf.reduce_sum(loss/ self.batch_size)\n",
    "        # Get gradients of loss wrt the trainable variables.\n",
    "        grad_t_list = tape.gradient(cost, tvars)\n",
    "        # Define the gradient clipping threshold\n",
    "        grads, _ = tf.clip_by_global_norm(grad_t_list, max_grad_norm)\n",
    "        # Create the training TensorFlow Operation through our optimizer\n",
    "        train_op = self._optimizer.apply_gradients(zip(grads, tvars))\n",
    "        return cost\n",
    "        \n",
    "    def test_batch(self,_input_data,_targets):\n",
    "        #################################################\n",
    "        # Creating the Testing Operation for our Model #\n",
    "        #################################################\n",
    "        output_words_prob = self._model(_input_data)\n",
    "        loss  = self.crossentropy(_targets, output_words_prob)\n",
    "        # average across batch and reduce sum\n",
    "        cost = tf.reduce_sum(loss/ self.batch_size)\n",
    "\n",
    "        return cost\n",
    "    @classmethod\n",
    "    def instance(cls) : \n",
    "        return PTBModel()"
   ]
  },
  {
   "cell_type": "markdown",
   "metadata": {
    "button": false,
    "new_sheet": false,
    "run_control": {
     "read_only": false
    }
   },
   "source": [
    "With that, the actual structure of our Recurrent Neural Network with Long Short-Term Memory is finished. What remains for us to do is to actually create the methods to run through time -- that is, the <code>run_epoch</code> method to be run at each epoch and a <code>main</code> script which ties all of this together.\n",
    "\n",
    "What our <code>run_epoch</code> method should do is take our input data and feed it to the relevant operations. This will return at the very least the current result for the cost function.\n"
   ]
  },
  {
   "cell_type": "code",
   "execution_count": 52,
   "metadata": {
    "button": false,
    "new_sheet": false,
    "run_control": {
     "read_only": false
    }
   },
   "outputs": [],
   "source": [
    "\n",
    "########################################################################################################################\n",
    "# run_one_epoch takes as parameters  the model instance, the data to be fed, training or testing mode and verbose info #\n",
    "########################################################################################################################\n",
    "def run_one_epoch(m, data,is_training=True,verbose=False):\n",
    "\n",
    "    #Define the epoch size based on the length of the data, batch size and the number of steps\n",
    "    epoch_size = ((len(data) // m.batch_size) - 1) // m.num_steps\n",
    "    start_time = time.time()\n",
    "    costs = 0.\n",
    "    iters = 0\n",
    "    \n",
    "    m._model.reset_states()\n",
    "    \n",
    "    #For each step and data point\n",
    "    for step, (x, y) in enumerate(reader.ptb_iterator(data, m.batch_size, m.num_steps)):\n",
    "        \n",
    "        #Evaluate and return cost, state by running cost, final_state and the function passed as parameter\n",
    "        #y = tf.keras.utils.to_categorical(y, num_classes=vocab_size)\n",
    "        if is_training : \n",
    "            loss=  m.train_batch(x, y)\n",
    "        else :\n",
    "            loss = m.test_batch(x, y)\n",
    "                                   \n",
    "\n",
    "        #Add returned cost to costs (which keeps track of the total costs for this epoch)\n",
    "        costs += loss\n",
    "        \n",
    "        #Add number of steps to iteration counter\n",
    "        iters += m.num_steps\n",
    "\n",
    "        if verbose and step % (epoch_size // 10) == 10:\n",
    "            print(\"Itr %d of %d, perplexity: %.3f speed: %.0f wps\" % (step , epoch_size, np.exp(costs / iters), iters * m.batch_size / (time.time() - start_time)))\n",
    "        \n",
    "\n",
    "\n",
    "    # Returns the Perplexity rating for us to keep track of how the model is evolving\n",
    "    return np.exp(costs / iters)\n"
   ]
  },
  {
   "cell_type": "markdown",
   "metadata": {
    "button": false,
    "new_sheet": false,
    "run_control": {
     "read_only": false
    }
   },
   "source": [
    "Now, we create the <code>main</code> method to tie everything together. The code here reads the data from the directory, using the <code>reader</code> helper module, and then trains and evaluates the model on both a testing and a validating subset of data.\n"
   ]
  },
  {
   "cell_type": "code",
   "execution_count": 53,
   "metadata": {
    "button": false,
    "new_sheet": false,
    "run_control": {
     "read_only": false
    },
    "tags": []
   },
   "outputs": [],
   "source": [
    "# Reads the data and separates it into training data, validation data and testing data\n",
    "raw_data = reader.ptb_raw_data(data_dir)\n",
    "train_data, valid_data, test_data, _, _ = raw_data"
   ]
  },
  {
   "cell_type": "code",
   "execution_count": 54,
   "metadata": {
    "tags": []
   },
   "outputs": [
    {
     "name": "stdout",
     "output_type": "stream",
     "text": [
      "Model: \"sequential_1\"\n",
      "_________________________________________________________________\n",
      "Layer (type)                 Output Shape              Param #   \n",
      "=================================================================\n",
      "embedding_vocab (Embedding)  (30, 20, 200)             2000000   \n",
      "_________________________________________________________________\n",
      "rnn_1 (RNN)                  (30, 20, 128)             671088    \n",
      "_________________________________________________________________\n",
      "dense_1 (Dense)              (30, 20, 10000)           1290000   \n",
      "_________________________________________________________________\n",
      "activation_1 (Activation)    (30, 20, 10000)           0         \n",
      "=================================================================\n",
      "Total params: 3,961,088\n",
      "Trainable params: 3,955,088\n",
      "Non-trainable params: 6,000\n",
      "_________________________________________________________________\n",
      "Epoch 1 : Learning rate: 1.000\n",
      "Itr 10 of 1549, perplexity: 4717.885 speed: 1335 wps\n",
      "Itr 164 of 1549, perplexity: 1085.000 speed: 1253 wps\n",
      "Itr 318 of 1549, perplexity: 835.782 speed: 1252 wps\n",
      "Itr 472 of 1549, perplexity: 692.635 speed: 1262 wps\n",
      "Itr 626 of 1549, perplexity: 592.216 speed: 1269 wps\n",
      "Itr 780 of 1549, perplexity: 528.034 speed: 1283 wps\n",
      "Itr 934 of 1549, perplexity: 477.799 speed: 1294 wps\n",
      "Itr 1088 of 1549, perplexity: 439.924 speed: 1292 wps\n",
      "Itr 1242 of 1549, perplexity: 410.364 speed: 1254 wps\n",
      "Itr 1396 of 1549, perplexity: 383.079 speed: 1220 wps\n",
      "Epoch 1 : Train Perplexity: 361.270\n",
      "Epoch 1 : Valid Perplexity: 217.477\n",
      "Epoch 2 : Learning rate: 1.000\n",
      "Itr 10 of 1549, perplexity: 244.755 speed: 1056 wps\n",
      "Itr 164 of 1549, perplexity: 215.183 speed: 1190 wps\n",
      "Itr 318 of 1549, perplexity: 206.348 speed: 1237 wps\n",
      "Itr 472 of 1549, perplexity: 197.928 speed: 1275 wps\n",
      "Itr 626 of 1549, perplexity: 188.781 speed: 1292 wps\n",
      "Itr 780 of 1549, perplexity: 184.858 speed: 1303 wps\n",
      "Itr 934 of 1549, perplexity: 180.813 speed: 1307 wps\n",
      "Itr 1088 of 1549, perplexity: 177.305 speed: 1315 wps\n",
      "Itr 1242 of 1549, perplexity: 174.861 speed: 1320 wps\n",
      "Itr 1396 of 1549, perplexity: 170.805 speed: 1324 wps\n",
      "Epoch 2 : Train Perplexity: 167.894\n",
      "Epoch 2 : Valid Perplexity: 164.331\n",
      "Epoch 3 : Learning rate: 1.000\n",
      "Itr 10 of 1549, perplexity: 166.111 speed: 1279 wps\n",
      "Itr 164 of 1549, perplexity: 150.410 speed: 1353 wps\n",
      "Itr 318 of 1549, perplexity: 146.549 speed: 1345 wps\n",
      "Itr 472 of 1549, perplexity: 141.993 speed: 1348 wps\n",
      "Itr 626 of 1549, perplexity: 136.684 speed: 1345 wps\n",
      "Itr 780 of 1549, perplexity: 135.382 speed: 1335 wps\n",
      "Itr 934 of 1549, perplexity: 133.616 speed: 1333 wps\n",
      "Itr 1088 of 1549, perplexity: 131.954 speed: 1321 wps\n",
      "Itr 1242 of 1549, perplexity: 131.055 speed: 1319 wps\n",
      "Itr 1396 of 1549, perplexity: 128.764 speed: 1305 wps\n",
      "Epoch 3 : Train Perplexity: 127.400\n",
      "Epoch 3 : Valid Perplexity: 147.336\n",
      "Epoch 4 : Learning rate: 1.000\n",
      "Itr 10 of 1549, perplexity: 133.036 speed: 1203 wps\n",
      "Itr 164 of 1549, perplexity: 122.710 speed: 1190 wps\n",
      "Itr 318 of 1549, perplexity: 120.306 speed: 1236 wps\n",
      "Itr 472 of 1549, perplexity: 116.877 speed: 1264 wps\n",
      "Itr 626 of 1549, perplexity: 112.863 speed: 1279 wps\n",
      "Itr 780 of 1549, perplexity: 112.294 speed: 1285 wps\n",
      "Itr 934 of 1549, perplexity: 111.166 speed: 1293 wps\n",
      "Itr 1088 of 1549, perplexity: 110.189 speed: 1297 wps\n",
      "Itr 1242 of 1549, perplexity: 109.670 speed: 1300 wps\n",
      "Itr 1396 of 1549, perplexity: 108.002 speed: 1306 wps\n",
      "Epoch 4 : Train Perplexity: 107.187\n",
      "Epoch 4 : Valid Perplexity: 137.793\n",
      "Epoch 5 : Learning rate: 1.000\n",
      "Itr 10 of 1549, perplexity: 114.323 speed: 1360 wps\n",
      "Itr 164 of 1549, perplexity: 106.730 speed: 1342 wps\n",
      "Itr 318 of 1549, perplexity: 105.030 speed: 1337 wps\n",
      "Itr 472 of 1549, perplexity: 102.022 speed: 1326 wps\n",
      "Itr 626 of 1549, perplexity: 98.733 speed: 1320 wps\n",
      "Itr 780 of 1549, perplexity: 98.472 speed: 1320 wps\n",
      "Itr 934 of 1549, perplexity: 97.737 speed: 1321 wps\n",
      "Itr 1088 of 1549, perplexity: 97.063 speed: 1323 wps\n",
      "Itr 1242 of 1549, perplexity: 96.794 speed: 1324 wps\n",
      "Itr 1396 of 1549, perplexity: 95.477 speed: 1318 wps\n",
      "Epoch 5 : Train Perplexity: 94.940\n",
      "Epoch 5 : Valid Perplexity: 135.990\n",
      "Epoch 6 : Learning rate: 0.500\n",
      "Itr 10 of 1549, perplexity: 102.218 speed: 1187 wps\n",
      "Itr 164 of 1549, perplexity: 92.696 speed: 1245 wps\n",
      "Itr 318 of 1549, perplexity: 89.908 speed: 1183 wps\n",
      "Itr 472 of 1549, perplexity: 86.426 speed: 1187 wps\n",
      "Itr 626 of 1549, perplexity: 82.757 speed: 1201 wps\n",
      "Itr 780 of 1549, perplexity: 81.852 speed: 1208 wps\n",
      "Itr 934 of 1549, perplexity: 80.674 speed: 1205 wps\n",
      "Itr 1088 of 1549, perplexity: 79.582 speed: 1213 wps\n",
      "Itr 1242 of 1549, perplexity: 78.782 speed: 1219 wps\n",
      "Itr 1396 of 1549, perplexity: 77.142 speed: 1224 wps\n",
      "Epoch 6 : Train Perplexity: 76.172\n",
      "Epoch 6 : Valid Perplexity: 124.761\n",
      "Epoch 7 : Learning rate: 0.250\n",
      "Itr 10 of 1549, perplexity: 84.827 speed: 1127 wps\n",
      "Itr 164 of 1549, perplexity: 79.647 speed: 1146 wps\n",
      "Itr 318 of 1549, perplexity: 77.532 speed: 1173 wps\n",
      "Itr 472 of 1549, perplexity: 74.472 speed: 1177 wps\n",
      "Itr 626 of 1549, perplexity: 71.187 speed: 1221 wps\n",
      "Itr 780 of 1549, perplexity: 70.348 speed: 1251 wps\n",
      "Itr 934 of 1549, perplexity: 69.235 speed: 1271 wps\n",
      "Itr 1088 of 1549, perplexity: 68.162 speed: 1273 wps\n",
      "Itr 1242 of 1549, perplexity: 67.325 speed: 1278 wps\n",
      "Itr 1396 of 1549, perplexity: 65.766 speed: 1282 wps\n",
      "Epoch 7 : Train Perplexity: 64.771\n",
      "Epoch 7 : Valid Perplexity: 122.309\n",
      "Epoch 8 : Learning rate: 0.125\n",
      "Itr 10 of 1549, perplexity: 76.525 speed: 1302 wps\n",
      "Itr 164 of 1549, perplexity: 72.288 speed: 1286 wps\n",
      "Itr 318 of 1549, perplexity: 70.451 speed: 1286 wps\n",
      "Itr 472 of 1549, perplexity: 67.748 speed: 1272 wps\n",
      "Itr 626 of 1549, perplexity: 64.733 speed: 1269 wps\n",
      "Itr 780 of 1549, perplexity: 63.971 speed: 1284 wps\n",
      "Itr 934 of 1549, perplexity: 62.947 speed: 1296 wps\n",
      "Itr 1088 of 1549, perplexity: 61.932 speed: 1304 wps\n",
      "Itr 1242 of 1549, perplexity: 61.109 speed: 1314 wps\n",
      "Itr 1396 of 1549, perplexity: 59.634 speed: 1322 wps\n",
      "Epoch 8 : Train Perplexity: 58.674\n",
      "Epoch 8 : Valid Perplexity: 121.333\n",
      "Epoch 9 : Learning rate: 0.062\n",
      "Itr 10 of 1549, perplexity: 72.481 speed: 1380 wps\n",
      "Itr 164 of 1549, perplexity: 68.414 speed: 1395 wps\n",
      "Itr 318 of 1549, perplexity: 66.735 speed: 1393 wps\n",
      "Itr 472 of 1549, perplexity: 64.202 speed: 1393 wps\n",
      "Itr 626 of 1549, perplexity: 61.361 speed: 1393 wps\n",
      "Itr 780 of 1549, perplexity: 60.642 speed: 1393 wps\n",
      "Itr 934 of 1549, perplexity: 59.696 speed: 1392 wps\n",
      "Itr 1088 of 1549, perplexity: 58.705 speed: 1391 wps\n",
      "Itr 1242 of 1549, perplexity: 57.893 speed: 1391 wps\n",
      "Itr 1396 of 1549, perplexity: 56.464 speed: 1392 wps\n",
      "Epoch 9 : Train Perplexity: 55.525\n",
      "Epoch 9 : Valid Perplexity: 120.962\n",
      "Epoch 10 : Learning rate: 0.031\n",
      "Itr 10 of 1549, perplexity: 70.363 speed: 1382 wps\n",
      "Itr 164 of 1549, perplexity: 66.345 speed: 1404 wps\n",
      "Itr 318 of 1549, perplexity: 64.765 speed: 1405 wps\n",
      "Itr 472 of 1549, perplexity: 62.316 speed: 1402 wps\n",
      "Itr 626 of 1549, perplexity: 59.553 speed: 1403 wps\n",
      "Itr 780 of 1549, perplexity: 58.846 speed: 1397 wps\n",
      "Itr 934 of 1549, perplexity: 57.937 speed: 1399 wps\n",
      "Itr 1088 of 1549, perplexity: 56.963 speed: 1371 wps\n",
      "Itr 1242 of 1549, perplexity: 56.163 speed: 1345 wps\n",
      "Itr 1396 of 1549, perplexity: 54.765 speed: 1312 wps\n",
      "Epoch 10 : Train Perplexity: 53.836\n",
      "Epoch 10 : Valid Perplexity: 120.887\n",
      "Epoch 11 : Learning rate: 0.016\n",
      "Itr 10 of 1549, perplexity: 69.156 speed: 1100 wps\n",
      "Itr 164 of 1549, perplexity: 65.216 speed: 1120 wps\n",
      "Itr 318 of 1549, perplexity: 63.693 speed: 1128 wps\n",
      "Itr 472 of 1549, perplexity: 61.291 speed: 1154 wps\n",
      "Itr 626 of 1549, perplexity: 58.573 speed: 1158 wps\n",
      "Itr 780 of 1549, perplexity: 57.875 speed: 1151 wps\n",
      "Itr 934 of 1549, perplexity: 56.982 speed: 1146 wps\n",
      "Itr 1088 of 1549, perplexity: 56.018 speed: 1133 wps\n",
      "Itr 1242 of 1549, perplexity: 55.221 speed: 1133 wps\n",
      "Itr 1396 of 1549, perplexity: 53.841 speed: 1124 wps\n",
      "Epoch 11 : Train Perplexity: 52.918\n",
      "Epoch 11 : Valid Perplexity: 120.880\n",
      "Epoch 12 : Learning rate: 0.008\n",
      "Itr 10 of 1549, perplexity: 68.451 speed: 927 wps\n",
      "Itr 164 of 1549, perplexity: 64.611 speed: 1033 wps\n",
      "Itr 318 of 1549, perplexity: 63.117 speed: 1121 wps\n",
      "Itr 472 of 1549, perplexity: 60.737 speed: 1171 wps\n",
      "Itr 626 of 1549, perplexity: 58.041 speed: 1199 wps\n",
      "Itr 780 of 1549, perplexity: 57.349 speed: 1220 wps\n",
      "Itr 934 of 1549, perplexity: 56.463 speed: 1230 wps\n"
     ]
    },
    {
     "name": "stdout",
     "output_type": "stream",
     "text": [
      "Itr 1088 of 1549, perplexity: 55.506 speed: 1248 wps\n",
      "Itr 1242 of 1549, perplexity: 54.709 speed: 1265 wps\n",
      "Itr 1396 of 1549, perplexity: 53.338 speed: 1278 wps\n",
      "Epoch 12 : Train Perplexity: 52.418\n",
      "Epoch 12 : Valid Perplexity: 120.810\n",
      "Epoch 13 : Learning rate: 0.004\n",
      "Itr 10 of 1549, perplexity: 68.028 speed: 1387 wps\n",
      "Itr 164 of 1549, perplexity: 64.290 speed: 1403 wps\n",
      "Itr 318 of 1549, perplexity: 62.814 speed: 1405 wps\n",
      "Itr 472 of 1549, perplexity: 60.448 speed: 1406 wps\n",
      "Itr 626 of 1549, perplexity: 57.760 speed: 1406 wps\n",
      "Itr 780 of 1549, perplexity: 57.070 speed: 1407 wps\n",
      "Itr 934 of 1549, perplexity: 56.188 speed: 1407 wps\n",
      "Itr 1088 of 1549, perplexity: 55.234 speed: 1408 wps\n",
      "Itr 1242 of 1549, perplexity: 54.437 speed: 1408 wps\n",
      "Itr 1396 of 1549, perplexity: 53.070 speed: 1409 wps\n",
      "Epoch 13 : Train Perplexity: 52.151\n",
      "Epoch 13 : Valid Perplexity: 120.675\n",
      "Epoch 14 : Learning rate: 0.002\n",
      "Itr 10 of 1549, perplexity: 67.773 speed: 1383 wps\n",
      "Itr 164 of 1549, perplexity: 64.106 speed: 1407 wps\n",
      "Itr 318 of 1549, perplexity: 62.645 speed: 1411 wps\n",
      "Itr 472 of 1549, perplexity: 60.293 speed: 1410 wps\n",
      "Itr 626 of 1549, perplexity: 57.607 speed: 1411 wps\n",
      "Itr 780 of 1549, perplexity: 56.920 speed: 1407 wps\n",
      "Itr 934 of 1549, perplexity: 56.041 speed: 1397 wps\n",
      "Itr 1088 of 1549, perplexity: 55.089 speed: 1397 wps\n",
      "Itr 1242 of 1549, perplexity: 54.292 speed: 1399 wps\n",
      "Itr 1396 of 1549, perplexity: 52.928 speed: 1401 wps\n",
      "Epoch 14 : Train Perplexity: 52.011\n",
      "Epoch 14 : Valid Perplexity: 120.555\n",
      "Epoch 15 : Learning rate: 0.001\n",
      "Itr 10 of 1549, perplexity: 67.629 speed: 1407 wps\n",
      "Itr 164 of 1549, perplexity: 63.997 speed: 1409 wps\n",
      "Itr 318 of 1549, perplexity: 62.547 speed: 1414 wps\n",
      "Itr 472 of 1549, perplexity: 60.205 speed: 1408 wps\n",
      "Itr 626 of 1549, perplexity: 57.524 speed: 1406 wps\n",
      "Itr 780 of 1549, perplexity: 56.839 speed: 1409 wps\n",
      "Itr 934 of 1549, perplexity: 55.962 speed: 1410 wps\n",
      "Itr 1088 of 1549, perplexity: 55.012 speed: 1410 wps\n",
      "Itr 1242 of 1549, perplexity: 54.215 speed: 1410 wps\n",
      "Itr 1396 of 1549, perplexity: 52.853 speed: 1411 wps\n",
      "Epoch 15 : Train Perplexity: 51.937\n",
      "Epoch 15 : Valid Perplexity: 120.485\n",
      "Test Perplexity: 116.936\n"
     ]
    }
   ],
   "source": [
    "# Instantiates the PTBModel class\n",
    "m=PTBModel.instance()   \n",
    "K = tf.keras.backend \n",
    "for i in range(max_epoch):\n",
    "    # Define the decay for this epoch\n",
    "    lr_decay = decay ** max(i - max_epoch_decay_lr, 0.0)\n",
    "    dcr = learning_rate * lr_decay\n",
    "    m._lr = dcr\n",
    "    K.set_value(m._model.optimizer.learning_rate,m._lr)\n",
    "    print(\"Epoch %d : Learning rate: %.3f\" % (i + 1, m._model.optimizer.learning_rate))\n",
    "    # Run the loop for this epoch in the training mode\n",
    "    train_perplexity = run_one_epoch(m, train_data,is_training=True,verbose=True)\n",
    "    print(\"Epoch %d : Train Perplexity: %.3f\" % (i + 1, train_perplexity))\n",
    "        \n",
    "    # Run the loop for this epoch in the validation mode\n",
    "    valid_perplexity = run_one_epoch(m, valid_data,is_training=False,verbose=False)\n",
    "    print(\"Epoch %d : Valid Perplexity: %.3f\" % (i + 1, valid_perplexity))\n",
    "    \n",
    "# Run the loop in the testing mode to see how effective was our training\n",
    "test_perplexity = run_one_epoch(m, test_data,is_training=False,verbose=False)\n",
    "print(\"Test Perplexity: %.3f\" % test_perplexity)\n",
    "\n"
   ]
  },
  {
   "cell_type": "markdown",
   "metadata": {
    "button": false,
    "new_sheet": false,
    "run_control": {
     "read_only": false
    }
   },
   "source": [
    "As you can see, the model's perplexity rating drops very quickly after a few iterations. As was elaborated before, <b>lower Perplexity means that the model is more certain about its prediction</b>. As such, we can be sure that this model is performing well!\n"
   ]
  },
  {
   "cell_type": "markdown",
   "metadata": {
    "button": false,
    "new_sheet": false,
    "run_control": {
     "read_only": false
    }
   },
   "source": [
    "* * *\n"
   ]
  }
 ],
 "metadata": {
  "anaconda-cloud": {},
  "kernelspec": {
   "display_name": "Python 3",
   "language": "python",
   "name": "python3"
  },
  "language_info": {
   "codemirror_mode": {
    "name": "ipython",
    "version": 3
   },
   "file_extension": ".py",
   "mimetype": "text/x-python",
   "name": "python",
   "nbconvert_exporter": "python",
   "pygments_lexer": "ipython3",
   "version": "3.7.3"
  },
  "widgets": {
   "state": {},
   "version": "1.1.2"
  }
 },
 "nbformat": 4,
 "nbformat_minor": 4
}
