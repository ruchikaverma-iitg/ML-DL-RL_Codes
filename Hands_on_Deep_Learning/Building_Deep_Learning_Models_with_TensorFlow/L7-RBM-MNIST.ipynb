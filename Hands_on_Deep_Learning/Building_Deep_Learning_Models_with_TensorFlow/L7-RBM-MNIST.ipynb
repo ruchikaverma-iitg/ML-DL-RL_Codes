{
 "cells": [
  {
   "cell_type": "markdown",
   "metadata": {},
   "source": [
    "# RESTRICTED BOLTZMANN MACHINES"
   ]
  },
  {
   "cell_type": "markdown",
   "metadata": {},
   "source": [
    "<h3>Introduction</h3>\n",
    "<b>Restricted Boltzmann Machine (RBM):</b>  RBMs are shallow neural nets that learn to reconstruct data by themselves in an unsupervised fashion.  \n",
    "\n",
    "<h4>Why are RBMs important?</h4>\n",
    "An RBM is a basic form of autoencoder.  It can automatically extract <b>meaningful</b> features from a given input.\n",
    "\n",
    "<h4>How does it work?</h4>\n",
    "RBM is a 2 layer neural network. Simply, RBM takes the inputs and translates those into a set of binary values that represents them in the hidden layer. Then, these numbers can be translated back to reconstruct the inputs. Through several forward and backward passes, the RBM will be trained, and a trained RBM can reveal which features are the most important ones when detecting patterns.   \n",
    "\n",
    "<h4>What are the applications of an RBM?</h4>\n",
    "RBM is useful for <a href='http://www.cs.utoronto.ca/~hinton/absps/netflixICML.pdf'>  Collaborative Filtering</a>, dimensionality reduction, classification, regression, feature learning, topic modeling and even <b>Deep Belief Networks</b>.\n",
    "\n",
    "<h4>Is RBM a generative or Discriminative model?</h4>\n",
    "RBM is a generative model. Let me explain it by first, see what is different between discriminative and generative models: \n",
    "\n",
    "<b>Discriminative:</b> Consider a classification problem where we want to learn to distinguish between Sedan cars (y = 1) and SUV cars (y = 0), based on some features of cars. Given a training set, an algorithm like logistic regression tries to find a straight line, or <i>decision boundary</i>, that separates the suv and sedan.  \n",
    "\n",
    "<b>Generative:</b> looking at cars, we can build a model of what Sedan cars look like. Then, looking at SUVs, we can build a separate model of what SUV cars look like. Finally, to classify a new car, we can match the new car against the Sedan model, and match it against the SUV model, to see whether the new car looks more like the SUV or Sedan. \n",
    "\n",
    "Generative Models specify a probability distribution over a dataset of input vectors. We can carry out both supervised and unsupervised tasks with generative models:\n",
    "\n",
    "<ul>\n",
    "    <li>In an unsupervised task, we try to form a model for $P(x)$, where $P$ is the probability given $x$ as an input vector.</li>\n",
    "    <li>In the supervised task, we first form a model for $P(x|y)$, where $P$ is the probability of $x$ given $y$(the label for $x$). For example, if $y = 0$ indicates that a car is an SUV, and $y = 1$ indicates that a car is a sedan, then $p(x|y = 0)$ models the distribution of SUV features, and $p(x|y = 1)$ models the distribution of sedan features. If we manage to find $P(x|y)$ and $P(y)$, then we can use <b>Bayes rule</b> to estimate $P(y|x)$, because:   \n",
    "        $$p(y|x) = \\frac{p(x|y)p(y)}{p(x)}$$</li>\n",
    "</ul>\n",
    "Now the question is, can we build a generative model, and then use it to create synthetic data by directly sampling from the modeled probability distributions? Lets see. \n"
   ]
  },
  {
   "cell_type": "markdown",
   "metadata": {},
   "source": [
    "<h2>Table of Contents</h2>\n",
    "<ol>\n",
    "    <li><a href=\"#ref1\">Initialization</a></li>\n",
    "    <li><a href=\"#ref2\">RBM layers</a></li>\n",
    "    <li><a href=\"#ref3\">What RBM can do after training?</a></li>\n",
    "    <li><a href=\"#ref4\">How to train the model?</a></li>\n",
    "    <li><a href=\"#ref5\">Learned features</a></li>\n",
    "</ol>\n",
    "<p></p>\n",
    "</div>\n",
    "<br>\n",
    "\n",
    "<hr>\n"
   ]
  },
  {
   "cell_type": "markdown",
   "metadata": {},
   "source": [
    "<a id=\"ref1\"></a>\n",
    "\n",
    "<h3>Initialization</h3>\n",
    "\n",
    "First, we have to load the utility file which contains different utility functions that are not connected\n",
    "in any way to the networks presented in the tutorials, but rather help in\n",
    "processing the outputs into a more understandable way.\n"
   ]
  },
  {
   "cell_type": "code",
   "execution_count": 1,
   "metadata": {},
   "outputs": [],
   "source": [
    "# import urllib.request\n",
    "# with urllib.request.urlopen(\"http://deeplearning.net/tutorial/code/utils.py\") as url:\n",
    "#     response = url.read()\n",
    "# target = open('utils.py', 'w')\n",
    "# target.write(response.decode('utf-8'))\n",
    "# target.close()"
   ]
  },
  {
   "cell_type": "markdown",
   "metadata": {},
   "source": [
    "<h2>Installing TensorFlow </h2>\n",
    "\n",
    "We will installing TensorFlow version 2.2.0 and its required prerequistes.  Also installing pillow...\n"
   ]
  },
  {
   "cell_type": "code",
   "execution_count": 2,
   "metadata": {},
   "outputs": [],
   "source": [
    "# !pip install grpcio==1.24.3\n",
    "# !pip install tensorflow==2.2.0\n",
    "# !pip install pillow"
   ]
  },
  {
   "cell_type": "markdown",
   "metadata": {},
   "source": [
    "<b>Notice:</b> This notebook has been created with TensorFlow version 2.2, and might not work with other versions. Therefore we check:\n"
   ]
  },
  {
   "cell_type": "code",
   "execution_count": 3,
   "metadata": {},
   "outputs": [],
   "source": [
    "import tensorflow as tf\n",
    "from IPython.display import Markdown, display\n",
    "\n",
    "def printmd(string):\n",
    "    display(Markdown('# <span style=\"color:red\">'+string+'</span>'))\n",
    "\n",
    "\n",
    "if not tf.__version__ == '2.2.0':\n",
    "    printmd('<<<<<!!!!! ERROR !!!! please upgrade to TensorFlow 2.2.0, or restart your Kernel (Kernel->Restart & Clear Output)>>>>>')"
   ]
  },
  {
   "cell_type": "markdown",
   "metadata": {},
   "source": [
    "Now, we load in all the packages that we use to create the net including the TensorFlow package:\n"
   ]
  },
  {
   "cell_type": "code",
   "execution_count": 4,
   "metadata": {},
   "outputs": [],
   "source": [
    "import tensorflow as tf\n",
    "import numpy as np\n",
    "\n",
    "from PIL import Image\n",
    "from utils import tile_raster_images\n",
    "import matplotlib.pyplot as plt\n",
    "%matplotlib inline"
   ]
  },
  {
   "cell_type": "markdown",
   "metadata": {},
   "source": [
    "<hr>\n"
   ]
  },
  {
   "cell_type": "markdown",
   "metadata": {},
   "source": [
    "<a id=\"ref2\"></a>\n",
    "\n",
    "<h3>RBM layers</h3>\n",
    "\n",
    "An RBM has two layers. The first layer of the RBM is called the <b>visible</b> (or input layer). Imagine that our toy example, has only vectors with 7 values, so the visible layer must have $V=7$ input nodes. \n",
    "The second layer is the <b>hidden</b> layer, which has $H$ neurons in our case. Each hidden node takes on values of either 0 or 1 (i.e., $h_i = 1$ or $h_i$ = 0), with a probability that is a logistic function of the inputs it receives from the other $V$ visible units, called for example, $p(h_i = 1)$. For our toy sample, we'll use 2 nodes in the hidden layer, so $H = 2$.\n",
    "\n",
    "<center><img src=\"https://ibm.box.com/shared/static/eu26opvcefgls6vnwuo29uwp0nudmokh.png\" alt=\"RBM Model\" style=\"width: 400px;\"></center>\n"
   ]
  },
  {
   "cell_type": "markdown",
   "metadata": {},
   "source": [
    "Each node in the first layer also has a <b>bias</b>. We will denote the bias as $v_{bias}$, and this single value is shared among the $V$ visible units.\n",
    "\n",
    "The <b>bias</b> of the second is defined similarly as $h_{bias}$, and this single value among the $H$ hidden units.\n"
   ]
  },
  {
   "cell_type": "code",
   "execution_count": 5,
   "metadata": {},
   "outputs": [],
   "source": [
    "v_bias = tf.Variable(tf.zeros([7]), tf.float32)\n",
    "h_bias = tf.Variable(tf.zeros([2]), tf.float32)"
   ]
  },
  {
   "cell_type": "markdown",
   "metadata": {},
   "source": [
    "We have to define weights among the input layer and hidden layer nodes. In the weight matrix, the number of rows are equal to the input nodes, and the number of columns are equal to the output nodes. We define a tensor $\\mathbf{W}$ of shape = (7,2), where the number of visible neurons = 7, and the number of hidden neurons = 2. \n"
   ]
  },
  {
   "cell_type": "code",
   "execution_count": 6,
   "metadata": {},
   "outputs": [],
   "source": [
    "W = tf.constant(np.random.normal(loc=0.0, scale=1.0, size=(7, 2)).astype(np.float32))"
   ]
  },
  {
   "cell_type": "markdown",
   "metadata": {},
   "source": [
    "<hr>\n"
   ]
  },
  {
   "cell_type": "markdown",
   "metadata": {},
   "source": [
    "<a id=\"ref3\"></a>\n",
    "\n",
    "<h3>What RBM can do after training?</h3>\n",
    "Think of RBM as a model that has been trained based on images of a dataset of many SUV and sedan cars. Also, imagine that the RBM network has only two hidden nodes, where one node encodes the weight and, and the other encodes the size.  \n",
    "In a sense, the different configurations represent different cars, where one is an SUV and the other is Sedan.  In a training process, through many forward and backward passes, the RBM adjust its weights to send a stronger signal to either the SUV node (0, 1) or the sedan node (1, 0) in the hidden layer, given the pixels of images. Now, given an SUV in hidden layer, which distribution of pixels should we expect? RBM can give you 2 things. First, it encodes your images in hidden layer. Second, it gives you the probability of observing a case, given some hidden values.\n",
    "\n",
    "<h3>The Inference Process</h3>\n",
    "\n",
    "RBM has two phases:\n",
    "\n",
    "<ul>\n",
    "    <li>Forward Pass</li>  \n",
    "    <li>Backward Pass or Reconstruction</li>\n",
    "</ul>\n",
    "\n",
    "<b>Phase 1) Forward pass:</b>  \n",
    "\n",
    "Input one training sample (one image) $\\mathbf{x}$ through all visible nodes, and pass it to all hidden nodes. Processing happens in each node in the hidden layer. This computation begins by making stochastic decisions about whether to transmit that input or not (i.e. to determine the state of each hidden layer).  First, the probability vector is computed using the input feature vector $\\mathbf{x}$, the weight matrix $\\mathbf{W}$, and the bias term $h_{bias}$, as \n",
    "\n",
    "$p({h_j}|\\mathbf x)= \\sigma(\\sum_{i=1}^V W_{ij} x_i + h_{bias} )$, \n",
    "\n",
    "where $\\sigma(z) = (1+e^{-z})^{-1}$ is the logistic function.\n",
    "\n",
    "So, what does $p({h_j})$ represent? It is the <b>probability distribution</b> of the hidden units. That is, RBM uses inputs $x_i$ to make predictions about hidden node activations. For example, imagine that the hidden node activation values are [0.51 0.84] for the first training item. It tells you that the conditional probability for each hidden neuron for Phase 1 is: \n",
    "\n",
    "$$p(h_{1} = 1|\\mathbf{v}) = 0.51$$\n",
    "$$p(h_{2} = 1|\\mathbf{v}) = 0.84$$\n",
    "\n",
    "As a result, for each row in the training set, vector of probabilities is generated.  In TensorFlow, this is referred to as a `tensor` with a shape of (1,2). \n",
    "\n",
    "We then turn unit $j$ with probability $p(h_{j}|\\mathbf{v})$, and turn it off with probability $1 - p(h_{j}|\\mathbf{v})$ by generating a uniform random number vector $\\mathbf{\\xi}$, and comparing it to the activation probability as \n",
    "\n",
    "<center>If $\\xi_j>p(h_{j}|\\mathbf{v})$, then $h_j=1$, else $h_j=0$.</center>\n",
    "\n",
    "Therefore, the conditional probability of a configuration of $\\mathbf{h}$ given $\\mathbf{v}$ (for a training sample) is:\n",
    "\n",
    "$$p(\\mathbf{h} \\mid \\mathbf{v}) = \\prod_{j=1}^H p(h_j \\mid \\mathbf{v})$$\n",
    "\n",
    "where $H$ is the number of hidden units.\n"
   ]
  },
  {
   "cell_type": "markdown",
   "metadata": {},
   "source": [
    "Before we go further, let's look at a toy example for one case out of all input. Assume that we have a trained RBM, and a very simple input vector, such as [1.0, 0.0, 0.0, 1.0, 0.0, 0.0, 0.0].  \n",
    "Let's see what the output of forward pass would look like:\n"
   ]
  },
  {
   "cell_type": "code",
   "execution_count": 7,
   "metadata": {},
   "outputs": [
    {
     "name": "stdout",
     "output_type": "stream",
     "text": [
      "Input:  tf.Tensor([[1. 0. 0. 1. 0. 0. 0.]], shape=(1, 7), dtype=float32)\n",
      "hb:  tf.Tensor([0.1 0.1], shape=(2,), dtype=float32)\n",
      "w:  tf.Tensor(\n",
      "[[-0.42164648  0.04268288]\n",
      " [-0.11998542  1.6159816 ]\n",
      " [-0.88536775  1.0491366 ]\n",
      " [-0.7005964   1.2163756 ]\n",
      " [ 0.61366343 -0.5015133 ]\n",
      " [ 0.7075965  -0.72715664]\n",
      " [ 0.01081531  0.18148066]], shape=(7, 2), dtype=float32)\n",
      "p(h|v):  tf.Tensor([[0.26459074 0.7956066 ]], shape=(1, 2), dtype=float32)\n",
      "h0 states: tf.Tensor([[1. 1.]], shape=(1, 2), dtype=float32)\n"
     ]
    }
   ],
   "source": [
    "X = tf.constant([[1.0, 0.0, 0.0, 1.0, 0.0, 0.0, 0.0]], tf.float32)\n",
    "\n",
    "v_state = X\n",
    "print (\"Input: \", v_state)\n",
    "\n",
    "h_bias = tf.constant([0.1, 0.1])\n",
    "print (\"hb: \", h_bias)\n",
    "print (\"w: \", W)\n",
    "\n",
    "# Calculate the probabilities of turning the hidden units on:\n",
    "h_prob = tf.nn.sigmoid(tf.matmul(v_state, W) + h_bias)  #probabilities of the hidden units\n",
    "print (\"p(h|v): \", h_prob)\n",
    "\n",
    "# Draw samples from the distribution:\n",
    "h_state = tf.nn.relu(tf.sign(h_prob - tf.random.uniform(tf.shape(h_prob)))) #states\n",
    "print (\"h0 states:\", h_state)"
   ]
  },
  {
   "cell_type": "markdown",
   "metadata": {},
   "source": [
    "<b>Phase 2) Backward Pass (Reconstruction):</b>\n",
    "The RBM reconstructs data by making several forward and backward passes between the visible and hidden layers.\n",
    "\n",
    "So, in the second phase (i.e. reconstruction phase), the samples from the hidden layer (i.e. $\\mathbf h$) becomes the input in the backward pass. The same weight matrix and visible layer biases are used to passed to the sigmoid function. The reproduced output is a reconstruction which is an approximation of the original input.\n"
   ]
  },
  {
   "cell_type": "code",
   "execution_count": 8,
   "metadata": {},
   "outputs": [
    {
     "name": "stdout",
     "output_type": "stream",
     "text": [
      "b:  tf.Tensor([0.1 0.2 0.1 0.1 0.1 0.2 0.1], shape=(7,), dtype=float32)\n",
      "p(vi∣h):  tf.Tensor(\n",
      "[[0.43070787 0.8450111  0.56556255 0.649258   0.5528395  0.544988\n",
      "  0.5725581 ]], shape=(1, 7), dtype=float32)\n",
      "v probability states:  tf.Tensor([[1. 1. 0. 1. 0. 0. 0.]], shape=(1, 7), dtype=float32)\n"
     ]
    }
   ],
   "source": [
    "vb = tf.constant([0.1, 0.2, 0.1, 0.1, 0.1, 0.2, 0.1])\n",
    "print (\"b: \", vb)\n",
    "v_prob = tf.nn.sigmoid(tf.matmul(h_state, tf.transpose(W)) + vb)\n",
    "print (\"p(vi∣h): \", v_prob)\n",
    "v_state = tf.nn.relu(tf.sign(v_prob - tf.random.uniform(tf.shape(v_prob))))\n",
    "print (\"v probability states: \", v_state)"
   ]
  },
  {
   "cell_type": "markdown",
   "metadata": {},
   "source": [
    "RBM learns a probability distribution over the input, and then, after being trained, the RBM can generate new samples from the learned probability distribution. As you know, <b>probability distribution</b>, is a mathematical function that provides the probabilities of occurrence of different possible outcomes in an experiment.\n",
    "\n",
    "The (conditional) probability distribution over the visible units v is given by\n",
    "\n",
    "$p(\\mathbf{v} \\mid \\mathbf{h}) = \\prod_{i=1}^V p(v_i \\mid \\mathbf{h}),$\n",
    "\n",
    "where,\n",
    "\n",
    "$p(v_i \\mid \\mathbf{h}) = \\sigma\\left(\\sum_{j=1}^H W_{ji} h_j + v_{bias} \\right)$\n",
    "\n",
    "so, given current state of hidden units and weights, what is the probability of generating [1. 0. 0. 1. 0. 0. 0.] in reconstruction phase, based on the above <b>probability distribution</b> function?\n"
   ]
  },
  {
   "cell_type": "code",
   "execution_count": 9,
   "metadata": {},
   "outputs": [
    {
     "name": "stdout",
     "output_type": "stream",
     "text": [
      "input X: [[1. 0. 0. 1. 0. 0. 0.]]\n",
      "probablity vector: [0.43070787 0.8450111  0.56556255 0.649258   0.5528395  0.544988\n",
      " 0.5725581 ]\n",
      "probability of generating X:  0.0016375376\n"
     ]
    }
   ],
   "source": [
    "inp = X\n",
    "print(\"input X:\" , inp.numpy())\n",
    "\n",
    "print(\"probablity vector:\" , v_prob[0].numpy())\n",
    "v_probability = 1\n",
    "\n",
    "for elm, p in zip(inp[0],v_prob[0]) :\n",
    "    if elm ==1:\n",
    "        v_probability *= p\n",
    "    else:\n",
    "        v_probability *= (1-p)\n",
    "\n",
    "print(\"probability of generating X: \" , v_probability.numpy())"
   ]
  },
  {
   "cell_type": "markdown",
   "metadata": {},
   "source": [
    "How similar are vectors $\\mathbf{x}$ and $\\mathbf{v}$? Of course, the reconstructed values most likely will not look anything like the input vector, because our network has not been trained yet. Our objective is to train the model in such a way that the input vector and reconstructed vector to be same. Therefore, based on how different the input values look to the ones that we just reconstructed, the weights are adjusted. \n"
   ]
  },
  {
   "cell_type": "markdown",
   "metadata": {},
   "source": [
    "<hr>\n"
   ]
  },
  {
   "cell_type": "markdown",
   "metadata": {},
   "source": [
    "<h2>MNIST</h2>\n"
   ]
  },
  {
   "cell_type": "markdown",
   "metadata": {},
   "source": [
    "We will be using the MNIST dataset to practice the usage of RBMs. The following cell loads the MNIST dataset.\n"
   ]
  },
  {
   "cell_type": "code",
   "execution_count": 10,
   "metadata": {},
   "outputs": [],
   "source": [
    "#loading training and test data\n",
    "mnist = tf.keras.datasets.mnist\n",
    "(trX, trY), (teX, teY) = mnist.load_data()\n",
    "\n",
    "# showing an example of the Flatten class and operation\n",
    "from tensorflow.keras.layers import Flatten\n",
    "flatten = Flatten(dtype='float32')\n",
    "trX = flatten(trX/255.0)\n",
    "trY = flatten(trY/255.0)"
   ]
  },
  {
   "cell_type": "markdown",
   "metadata": {},
   "source": [
    "Lets look at the dimension of the images.\n"
   ]
  },
  {
   "cell_type": "markdown",
   "metadata": {},
   "source": [
    "MNIST images have 784 pixels, so the visible layer must have 784 input nodes.  For our case, we'll use 50 nodes in the hidden layer, so i = 50.\n"
   ]
  },
  {
   "cell_type": "code",
   "execution_count": 11,
   "metadata": {
    "jupyter": {
     "outputs_hidden": true
    }
   },
   "outputs": [],
   "source": [
    "vb = tf.Variable(tf.zeros([784]), tf.float32)\n",
    "hb = tf.Variable(tf.zeros([50]), tf.float32)"
   ]
  },
  {
   "cell_type": "markdown",
   "metadata": {},
   "source": [
    "Let $\\mathbf W$ be the Tensor of 784x50 (784 - number of visible neurons, 50 - number of hidden neurons) that represents weights between the neurons. \n"
   ]
  },
  {
   "cell_type": "code",
   "execution_count": 12,
   "metadata": {
    "jupyter": {
     "outputs_hidden": true
    }
   },
   "outputs": [],
   "source": [
    "W = tf.Variable(tf.zeros([784,50]), tf.float32)"
   ]
  },
  {
   "cell_type": "markdown",
   "metadata": {},
   "source": [
    "Lets define the visible layer:\n"
   ]
  },
  {
   "cell_type": "code",
   "execution_count": 13,
   "metadata": {},
   "outputs": [
    {
     "data": {
      "text/plain": [
       "<tf.Tensor: shape=(1, 50), dtype=float32, numpy=\n",
       "array([[0., 0., 0., 0., 0., 0., 0., 0., 0., 0., 0., 0., 0., 0., 0., 0.,\n",
       "        0., 0., 0., 0., 0., 0., 0., 0., 0., 0., 0., 0., 0., 0., 0., 0.,\n",
       "        0., 0., 0., 0., 0., 0., 0., 0., 0., 0., 0., 0., 0., 0., 0., 0.,\n",
       "        0., 0.]], dtype=float32)>"
      ]
     },
     "execution_count": 13,
     "metadata": {},
     "output_type": "execute_result"
    }
   ],
   "source": [
    "v0_state = tf.Variable(tf.zeros([784]), tf.float32)\n",
    "\n",
    "#testing to see if the matrix product works\n",
    "tf.matmul( [v0_state], W)"
   ]
  },
  {
   "cell_type": "markdown",
   "metadata": {},
   "source": [
    "Now, we can define hidden layer:\n"
   ]
  },
  {
   "cell_type": "code",
   "execution_count": 14,
   "metadata": {},
   "outputs": [
    {
     "name": "stdout",
     "output_type": "stream",
     "text": [
      "h0_state shape:  tf.Tensor([ 1 50], shape=(2,), dtype=int32)\n",
      "first 15 hidden states:  tf.Tensor([0. 0. 1. 1. 1. 0. 0. 0. 0. 1. 1. 1. 0. 1. 0.], shape=(15,), dtype=float32)\n"
     ]
    }
   ],
   "source": [
    "#computing the hidden nodes probability vector and checking shape\n",
    "h0_prob = tf.nn.sigmoid(tf.matmul([v0_state], W) + hb)  #probabilities of the hidden units\n",
    "print(\"h0_state shape: \" , tf.shape(h0_prob))\n",
    "\n",
    "#defining a function to return only the generated hidden states \n",
    "def hidden_layer(v0_state, W, hb):\n",
    "    h0_prob = tf.nn.sigmoid(tf.matmul([v0_state], W) + hb)  #probabilities of the hidden units\n",
    "    h0_state = tf.nn.relu(tf.sign(h0_prob - tf.random.uniform(tf.shape(h0_prob)))) #sample_h_given_X\n",
    "    return h0_state\n",
    "\n",
    "\n",
    "h0_state = hidden_layer(v0_state, W, hb)\n",
    "print(\"first 15 hidden states: \", h0_state[0][0:15])"
   ]
  },
  {
   "cell_type": "markdown",
   "metadata": {},
   "source": [
    "Now, we define reconstruction part:\n"
   ]
  },
  {
   "cell_type": "code",
   "execution_count": 15,
   "metadata": {},
   "outputs": [
    {
     "name": "stdout",
     "output_type": "stream",
     "text": [
      "hidden state shape:  (1, 50)\n",
      "v0 state shape:   (784,)\n",
      "v1 state shape:   (784,)\n"
     ]
    }
   ],
   "source": [
    "def reconstructed_output(h0_state, W, vb):\n",
    "    v1_prob = tf.nn.sigmoid(tf.matmul(h0_state, tf.transpose(W)) + vb) \n",
    "    v1_state = tf.nn.relu(tf.sign(v1_prob - tf.random.uniform(tf.shape(v1_prob)))) #sample_v_given_h\n",
    "    return v1_state[0]\n",
    "\n",
    "v1_state = reconstructed_output(h0_state, W, vb)\n",
    "print(\"hidden state shape: \", h0_state.shape)\n",
    "print(\"v0 state shape:  \", v0_state.shape)\n",
    "print(\"v1 state shape:  \", v1_state.shape)"
   ]
  },
  {
   "cell_type": "markdown",
   "metadata": {},
   "source": [
    "<h3>What is the objective function?</h3>\n",
    "\n",
    "<b>Goal</b>: Maximize the likelihood of our data being drawn from that distribution\n",
    "\n",
    "<b>Calculate error:</b>  \n",
    "In each epoch, we compute the \"error\" as a sum of the squared difference between step 1 and step n,\n",
    "e.g the error shows the difference between the data and its reconstruction.\n",
    "\n",
    "<b>Note:</b> tf.reduce_mean computes the mean of elements across dimensions of a tensor.\n"
   ]
  },
  {
   "cell_type": "code",
   "execution_count": 16,
   "metadata": {},
   "outputs": [
    {
     "name": "stdout",
     "output_type": "stream",
     "text": [
      "error 0.47831634\n"
     ]
    }
   ],
   "source": [
    "def error(v0_state, v1_state):\n",
    "    return tf.reduce_mean(tf.square(v0_state - v1_state))\n",
    "\n",
    "err = tf.reduce_mean(tf.square(v0_state - v1_state))\n",
    "print(\"error\" , err.numpy())"
   ]
  },
  {
   "cell_type": "markdown",
   "metadata": {},
   "source": [
    "<a id=\"ref4\"></a>\n",
    "\n",
    "<h3>Training the Model</h3>\n",
    "<b>Warning...</b> The following part is math-heavy, but you can skip it if you just want to run the cells in the next section.\n",
    "\n",
    "As mentioned, we want to give a high probability to the input data we train on. So, in order to train an RBM, we have to maximize the product of probabilities assigned to all rows $\\mathbf{v}$ (images) in the training set $\\mathbf{V}$ (a matrix, where each row of it is treated as a visible vector $\\mathbf{v}$)\n",
    "\n",
    "$$\\arg\\max_W\\prod_{\\mathbf{v}\\in\\mathbf{V}_T}p(\\mathbf{v}),$$\n",
    "\n",
    "which is equivalent to maximizing the expectation of the log probability, given as\n",
    "\n",
    "$$\\arg\\max_W\\left[ \\mathbb{E} \\left(\\prod_{\\mathbf v\\in \\mathbf V}\\text{log} \\left(p(\\mathbf v)\\right) \\right) \\right].$$\n",
    "\n",
    "So, we have to update the weights $W_{ij}$  to increase $p(\\mathbf{v})$ for all $\\mathbf{v}$ in our training data during training. So we have to calculate the derivative:\n",
    "\n",
    "$$\\frac{\\partial \\log p(\\mathbf v)}{\\partial W_{ij}}$$\n",
    "\n",
    "This cannot be easily done by typical <b>gradient descent (SGD)</b>, so we can use another approach, which has 2 steps:\n",
    "\n",
    "<ol>\n",
    "    <li>Gibbs Sampling</li>\n",
    "    <li>Contrastive Divergence</li>\n",
    "</ol>    \n",
    "    \n",
    "<h3>Gibbs Sampling</h3>   \n",
    "\n",
    "<h4>Gibbs Sampling Step 1</h4> \n",
    "Given an input vector $\\mathbf{v}$, we are using $p(\\mathbf{h}|\\mathbf{v})$ to predict the hidden values $\\mathbf{h}$. \n",
    "  $$p({h_j}|\\mathbf v)= \\sigma\\left(\\sum_{i=1}^V W_{ij} v_i + h_{bias} \\right)$$\n",
    "The samples are generated from this distribution by generating the uniform random variate vector $\\mathbf{\\xi} \\sim U[0,1]$ of length $H$ and comparing to the computed probabilities as\n",
    "\n",
    "<center>If $\\xi_j>p(h_{j}|\\mathbf{v})$, then $h_j=1$, else $h_j=0$.</center>\n",
    "\n",
    "<h4>Gibbs Sampling Step 2</h4> \n",
    "Then, knowing the hidden values, we use $p(\\mathbf v| \\mathbf h)$ for reconstructing of new input values v. \n",
    "\n",
    "   $$p({v_i}|\\mathbf h)= \\sigma\\left(\\sum_{j=1}^H W^{T}_{ij} h_j + v_{bias} \\right)$$\n",
    "\n",
    "The samples are generated from this distribution by generating a uniform random variate vector $\\mathbf{\\xi} \\sim U[0,1]$ of length $V$ and comparing to the computed probabilities as\n",
    "\n",
    "<center>If $\\xi_i>p(v_{i}|\\mathbf{h})$, then $v_i=1$, else $v_i=0$.</center>\n",
    "\n",
    "Let vectors $\\mathbf v_k$ and $\\mathbf h_k$ be for the $k$th iteration.  In general, the $kth$ state is generrated as: \n",
    "\n",
    "<b>Iteration</b> $k$: \n",
    "\n",
    "$$\\mathbf v_{k-1} \\Rightarrow p(\\mathbf h_{k-1}|\\mathbf v_{k-1})\\Rightarrow \\mathbf h_{k-1}\\Rightarrow p(\\mathbf v_{k}|\\mathbf h_{k-1})\\Rightarrow \\mathbf v_k$$       \n",
    "\n",
    "<h3>Contrastive Divergence (CD-k)</h3>\n",
    "The update of the weight matrix is done during the Contrastive Divergence step. \n",
    "\n",
    "Vectors v0 and vk are used to calculate the activation probabilities for hidden values h0 and hk. The difference between the outer products of those probabilities with input vectors v0 and vk results in the update matrix:\n",
    "\n",
    "$\\Delta \\mathbf W_k =\\mathbf v_k \\otimes \\mathbf h_k - \\mathbf v_{k-1} \\otimes \\mathbf h_{k-1}$ \n",
    "\n",
    "Contrastive Divergence is actually matrix of values that is computed and used to adjust values of the $\\mathbf W$ matrix. Changing $\\mathbf W$ incrementally leads to training of the  $\\mathbf W$ values. Then, on each step (epoch), $\\mathbf W$ is updated using the following:\n",
    "\n",
    "$\\mathbf W_k = \\mathbf W_{k-1} + \\alpha * \\Delta \\mathbf W_k$ \n",
    "\n",
    "Reconstruction steps:\n",
    "\n",
    "<ul>\n",
    "    <li> Get one data point from data set, like <i>x</i>, and pass it through the following steps:</li>\n",
    "    \n",
    "<b>Iteration</b> $k=1$: \n",
    "    \n",
    "Sampling (starting with input image)\n",
    "    $$\\mathbf x = \\mathbf v_0 \\Rightarrow p(\\mathbf h_0|\\mathbf v_0)\\Rightarrow \\mathbf h_0 \\Rightarrow p(\\mathbf v_1|\\mathbf h_0)\\Rightarrow \\mathbf v_1$$   \n",
    "    followed by the CD-k step\n",
    "$$\\Delta \\mathbf W_1 =\\mathbf v_1 \\otimes \\mathbf h_1 - \\mathbf v_{0} \\otimes \\mathbf h_{0}$$     \n",
    "$$\\mathbf W_1 = \\mathbf W_{0} + \\alpha * \\Delta \\mathbf W_1$$ \n",
    " \n",
    "<li> $\\mathbf v_1$ is the reconstruction of $\\mathbf x$ sent to the next iteration).</li>\n",
    "\n",
    "<b>Iteration</b> $k=2$: \n",
    "\n",
    "Sampling (starting with $\\mathbf v_1$)\n",
    "\n",
    "$$\\mathbf v_1 \\Rightarrow p(\\mathbf h_1|\\mathbf v_1)\\Rightarrow \\mathbf h_1\\Rightarrow p(\\mathbf v_2|\\mathbf h_1)\\Rightarrow \\mathbf v_2$$   \n",
    "\n",
    "followed by the CD-k step\n",
    "$$\\Delta \\mathbf W_2 =\\mathbf v_2 \\otimes \\mathbf h_2 - \\mathbf v_{1} \\otimes \\mathbf h_{1}$$  \n",
    "$$\\mathbf W_2 = \\mathbf W_{1} + \\alpha * \\Delta \\mathbf W_2$$ \n",
    "\n",
    "<li> $\\mathbf v_2$ is the reconstruction of $\\mathbf v_1$ sent to the next iteration).</li>    \n",
    "      \n",
    "<b>Iteration</b> $k=K$:\n",
    "    \n",
    "Sampling (starting with $\\mathbf v_{K-1}$)\n",
    "\n",
    "$$\\mathbf v_{K-1} \\Rightarrow p(\\mathbf h_{K-1}|\\mathbf v_{K-1})\\Rightarrow \\mathbf h_{K-1}\\Rightarrow p(\\mathbf v_K|\\mathbf h_{K-1})\\Rightarrow \\mathbf v_K$$   \n",
    "\n",
    "followed by the CD-k step\n",
    "$$\\Delta \\mathbf W_K =\\mathbf v_K \\otimes \\mathbf h_K - \\mathbf v_{K-1} \\otimes \\mathbf h_{K-1}$$  \n",
    "$$\\mathbf W_K = \\mathbf W_{K-1} + \\alpha * \\Delta \\mathbf W_K$$ \n",
    "\n",
    "<b>What is $\\alpha$?</b>  \n",
    "Here, alpha is some small step size, and is also known as the \"learning rate\".\n"
   ]
  },
  {
   "cell_type": "markdown",
   "metadata": {},
   "source": [
    "$K$ is adjustable, and good performance can be achieved with $K=1$, so that we just take one set of sampling steps per image.\n"
   ]
  },
  {
   "cell_type": "code",
   "execution_count": 17,
   "metadata": {},
   "outputs": [],
   "source": [
    "h1_prob = tf.nn.sigmoid(tf.matmul([v1_state], W) + hb)\n",
    "h1_state = tf.nn.relu(tf.sign(h1_prob - tf.random.uniform(tf.shape(h1_prob)))) #sample_h_given_X"
   ]
  },
  {
   "cell_type": "markdown",
   "metadata": {},
   "source": [
    "Lets look at the error of the first run:\n"
   ]
  },
  {
   "cell_type": "code",
   "execution_count": 18,
   "metadata": {},
   "outputs": [
    {
     "name": "stdout",
     "output_type": "stream",
     "text": [
      "error:  tf.Tensor(0.47831634, shape=(), dtype=float32)\n"
     ]
    }
   ],
   "source": [
    "print(\"error: \", error(v0_state, v1_state))"
   ]
  },
  {
   "cell_type": "code",
   "execution_count": 37,
   "metadata": {},
   "outputs": [
    {
     "name": "stdout",
     "output_type": "stream",
     "text": [
      "Epoch: 0 batch #: 1  of 300 sample #: 199 reconstruction error: 0.098867\n",
      "Epoch: 0 batch #: 2  of 300 sample #: 199 reconstruction error: 0.100603\n",
      "Epoch: 0 batch #: 3  of 300 sample #: 199 reconstruction error: 0.066428\n",
      "Epoch: 0 batch #: 4  of 300 sample #: 199 reconstruction error: 0.096640\n",
      "Epoch: 0 batch #: 5  of 300 sample #: 199 reconstruction error: 0.067060\n",
      "Epoch: 0 batch #: 6  of 300 sample #: 199 reconstruction error: 0.156372\n",
      "Epoch: 0 batch #: 7  of 300 sample #: 199 reconstruction error: 0.076759\n",
      "Epoch: 0 batch #: 8  of 300 sample #: 199 reconstruction error: 0.094319\n",
      "Epoch: 0 batch #: 9  of 300 sample #: 199 reconstruction error: 0.061772\n",
      "Epoch: 0 batch #: 10  of 300 sample #: 199 reconstruction error: 0.141832\n",
      "Epoch: 0 batch #: 11  of 300 sample #: 199 reconstruction error: 0.072738\n",
      "Epoch: 0 batch #: 12  of 300 sample #: 199 reconstruction error: 0.109375\n",
      "Epoch: 0 batch #: 13  of 300 sample #: 199 reconstruction error: 0.050333\n",
      "Epoch: 0 batch #: 14  of 300 sample #: 199 reconstruction error: 0.083580\n",
      "Epoch: 0 batch #: 15  of 300 sample #: 199 reconstruction error: 0.098380\n",
      "Epoch: 0 batch #: 16  of 300 sample #: 199 reconstruction error: 0.087579\n",
      "Epoch: 0 batch #: 17  of 300 sample #: 199 reconstruction error: 0.053834\n",
      "Epoch: 0 batch #: 18  of 300 sample #: 199 reconstruction error: 0.085596\n",
      "Epoch: 0 batch #: 19  of 300 sample #: 199 reconstruction error: 0.117191\n",
      "Epoch: 0 batch #: 20  of 300 sample #: 199 reconstruction error: 0.086325\n",
      "Epoch: 0 batch #: 21  of 300 sample #: 199 reconstruction error: 0.067425\n",
      "Epoch: 0 batch #: 22  of 300 sample #: 199 reconstruction error: 0.082971\n",
      "Epoch: 0 batch #: 23  of 300 sample #: 199 reconstruction error: 0.088211\n",
      "Epoch: 0 batch #: 24  of 300 sample #: 199 reconstruction error: 0.123829\n",
      "Epoch: 0 batch #: 25  of 300 sample #: 199 reconstruction error: 0.092637\n",
      "Epoch: 0 batch #: 26  of 300 sample #: 199 reconstruction error: 0.096275\n",
      "Epoch: 0 batch #: 27  of 300 sample #: 199 reconstruction error: 0.091761\n",
      "Epoch: 0 batch #: 28  of 300 sample #: 199 reconstruction error: 0.078468\n",
      "Epoch: 0 batch #: 29  of 300 sample #: 199 reconstruction error: 0.085009\n",
      "Epoch: 0 batch #: 30  of 300 sample #: 199 reconstruction error: 0.049783\n",
      "Epoch: 0 batch #: 31  of 300 sample #: 199 reconstruction error: 0.092124\n",
      "Epoch: 0 batch #: 32  of 300 sample #: 199 reconstruction error: 0.092188\n",
      "Epoch: 0 batch #: 33  of 300 sample #: 199 reconstruction error: 0.053965\n",
      "Epoch: 0 batch #: 34  of 300 sample #: 199 reconstruction error: 0.067637\n",
      "Epoch: 0 batch #: 35  of 300 sample #: 199 reconstruction error: 0.059539\n",
      "Epoch: 0 batch #: 36  of 300 sample #: 199 reconstruction error: 0.092507\n",
      "Epoch: 0 batch #: 37  of 300 sample #: 199 reconstruction error: 0.042410\n",
      "Epoch: 0 batch #: 38  of 300 sample #: 199 reconstruction error: 0.069648\n",
      "Epoch: 0 batch #: 39  of 300 sample #: 199 reconstruction error: 0.090971\n",
      "Epoch: 0 batch #: 40  of 300 sample #: 199 reconstruction error: 0.096858\n",
      "Epoch: 0 batch #: 41  of 300 sample #: 199 reconstruction error: 0.069985\n",
      "Epoch: 0 batch #: 42  of 300 sample #: 199 reconstruction error: 0.044701\n",
      "Epoch: 0 batch #: 43  of 300 sample #: 199 reconstruction error: 0.127624\n",
      "Epoch: 0 batch #: 44  of 300 sample #: 199 reconstruction error: 0.074806\n",
      "Epoch: 0 batch #: 45  of 300 sample #: 199 reconstruction error: 0.054845\n",
      "Epoch: 0 batch #: 46  of 300 sample #: 199 reconstruction error: 0.028400\n",
      "Epoch: 0 batch #: 47  of 300 sample #: 199 reconstruction error: 0.044372\n",
      "Epoch: 0 batch #: 48  of 300 sample #: 199 reconstruction error: 0.027146\n",
      "Epoch: 0 batch #: 49  of 300 sample #: 199 reconstruction error: 0.105320\n",
      "Epoch: 0 batch #: 50  of 300 sample #: 199 reconstruction error: 0.052804\n",
      "Epoch: 0 batch #: 51  of 300 sample #: 199 reconstruction error: 0.062636\n",
      "Epoch: 0 batch #: 52  of 300 sample #: 199 reconstruction error: 0.024971\n",
      "Epoch: 0 batch #: 53  of 300 sample #: 199 reconstruction error: 0.081182\n",
      "Epoch: 0 batch #: 54  of 300 sample #: 199 reconstruction error: 0.048143\n",
      "Epoch: 0 batch #: 55  of 300 sample #: 199 reconstruction error: 0.105533\n",
      "Epoch: 0 batch #: 56  of 300 sample #: 199 reconstruction error: 0.046337\n",
      "Epoch: 0 batch #: 57  of 300 sample #: 199 reconstruction error: 0.049395\n",
      "Epoch: 0 batch #: 58  of 300 sample #: 199 reconstruction error: 0.078799\n",
      "Epoch: 0 batch #: 59  of 300 sample #: 199 reconstruction error: 0.054355\n",
      "Epoch: 0 batch #: 60  of 300 sample #: 199 reconstruction error: 0.101077\n",
      "Epoch: 0 batch #: 61  of 300 sample #: 199 reconstruction error: 0.078571\n",
      "Epoch: 0 batch #: 62  of 300 sample #: 199 reconstruction error: 0.080313\n",
      "Epoch: 0 batch #: 63  of 300 sample #: 199 reconstruction error: 0.054121\n",
      "Epoch: 0 batch #: 64  of 300 sample #: 199 reconstruction error: 0.073257\n",
      "Epoch: 0 batch #: 65  of 300 sample #: 199 reconstruction error: 0.091227\n",
      "Epoch: 0 batch #: 66  of 300 sample #: 199 reconstruction error: 0.059185\n",
      "Epoch: 0 batch #: 67  of 300 sample #: 199 reconstruction error: 0.050750\n",
      "Epoch: 0 batch #: 68  of 300 sample #: 199 reconstruction error: 0.064199\n",
      "Epoch: 0 batch #: 69  of 300 sample #: 199 reconstruction error: 0.084113\n",
      "Epoch: 0 batch #: 70  of 300 sample #: 199 reconstruction error: 0.094192\n",
      "Epoch: 0 batch #: 71  of 300 sample #: 199 reconstruction error: 0.068132\n",
      "Epoch: 0 batch #: 72  of 300 sample #: 199 reconstruction error: 0.058314\n",
      "Epoch: 0 batch #: 73  of 300 sample #: 199 reconstruction error: 0.078955\n",
      "Epoch: 0 batch #: 74  of 300 sample #: 199 reconstruction error: 0.089257\n",
      "Epoch: 0 batch #: 75  of 300 sample #: 199 reconstruction error: 0.035113\n",
      "Epoch: 0 batch #: 76  of 300 sample #: 199 reconstruction error: 0.089761\n",
      "Epoch: 0 batch #: 77  of 300 sample #: 199 reconstruction error: 0.092240\n",
      "Epoch: 0 batch #: 78  of 300 sample #: 199 reconstruction error: 0.109641\n",
      "Epoch: 0 batch #: 79  of 300 sample #: 199 reconstruction error: 0.113364\n",
      "Epoch: 0 batch #: 80  of 300 sample #: 199 reconstruction error: 0.027179\n",
      "Epoch: 0 batch #: 81  of 300 sample #: 199 reconstruction error: 0.057737\n",
      "Epoch: 0 batch #: 82  of 300 sample #: 199 reconstruction error: 0.044562\n",
      "Epoch: 0 batch #: 83  of 300 sample #: 199 reconstruction error: 0.075830\n",
      "Epoch: 0 batch #: 84  of 300 sample #: 199 reconstruction error: 0.083575\n",
      "Epoch: 0 batch #: 85  of 300 sample #: 199 reconstruction error: 0.039035\n",
      "Epoch: 0 batch #: 86  of 300 sample #: 199 reconstruction error: 0.097323\n",
      "Epoch: 0 batch #: 87  of 300 sample #: 199 reconstruction error: 0.081853\n",
      "Epoch: 0 batch #: 88  of 300 sample #: 199 reconstruction error: 0.020604\n",
      "Epoch: 0 batch #: 89  of 300 sample #: 199 reconstruction error: 0.063885\n",
      "Epoch: 0 batch #: 90  of 300 sample #: 199 reconstruction error: 0.080827\n",
      "Epoch: 0 batch #: 91  of 300 sample #: 199 reconstruction error: 0.056879\n",
      "Epoch: 0 batch #: 92  of 300 sample #: 199 reconstruction error: 0.069810\n",
      "Epoch: 0 batch #: 93  of 300 sample #: 199 reconstruction error: 0.098351\n",
      "Epoch: 0 batch #: 94  of 300 sample #: 199 reconstruction error: 0.113510\n",
      "Epoch: 0 batch #: 95  of 300 sample #: 199 reconstruction error: 0.068582\n",
      "Epoch: 0 batch #: 96  of 300 sample #: 199 reconstruction error: 0.046807\n",
      "Epoch: 0 batch #: 97  of 300 sample #: 199 reconstruction error: 0.116800\n",
      "Epoch: 0 batch #: 98  of 300 sample #: 199 reconstruction error: 0.076399\n",
      "Epoch: 0 batch #: 99  of 300 sample #: 199 reconstruction error: 0.053319\n",
      "Epoch: 0 batch #: 100  of 300 sample #: 199 reconstruction error: 0.083478\n",
      "Epoch: 0 batch #: 101  of 300 sample #: 199 reconstruction error: 0.069205\n",
      "Epoch: 0 batch #: 102  of 300 sample #: 199 reconstruction error: 0.090775\n",
      "Epoch: 0 batch #: 103  of 300 sample #: 199 reconstruction error: 0.063128\n",
      "Epoch: 0 batch #: 104  of 300 sample #: 199 reconstruction error: 0.068371\n",
      "Epoch: 0 batch #: 105  of 300 sample #: 199 reconstruction error: 0.058700\n",
      "Epoch: 0 batch #: 106  of 300 sample #: 199 reconstruction error: 0.106877\n",
      "Epoch: 0 batch #: 107  of 300 sample #: 199 reconstruction error: 0.125778\n",
      "Epoch: 0 batch #: 108  of 300 sample #: 199 reconstruction error: 0.061169\n",
      "Epoch: 0 batch #: 109  of 300 sample #: 199 reconstruction error: 0.122630\n",
      "Epoch: 0 batch #: 110  of 300 sample #: 199 reconstruction error: 0.055705\n",
      "Epoch: 0 batch #: 111  of 300 sample #: 199 reconstruction error: 0.100697\n"
     ]
    },
    {
     "name": "stdout",
     "output_type": "stream",
     "text": [
      "Epoch: 0 batch #: 112  of 300 sample #: 199 reconstruction error: 0.044532\n",
      "Epoch: 0 batch #: 113  of 300 sample #: 199 reconstruction error: 0.074969\n",
      "Epoch: 0 batch #: 114  of 300 sample #: 199 reconstruction error: 0.080271\n",
      "Epoch: 0 batch #: 115  of 300 sample #: 199 reconstruction error: 0.053718\n",
      "Epoch: 0 batch #: 116  of 300 sample #: 199 reconstruction error: 0.043287\n",
      "Epoch: 0 batch #: 117  of 300 sample #: 199 reconstruction error: 0.046509\n",
      "Epoch: 0 batch #: 118  of 300 sample #: 199 reconstruction error: 0.082589\n",
      "Epoch: 0 batch #: 119  of 300 sample #: 199 reconstruction error: 0.122803\n",
      "Epoch: 0 batch #: 120  of 300 sample #: 199 reconstruction error: 0.086760\n",
      "Epoch: 0 batch #: 121  of 300 sample #: 199 reconstruction error: 0.041647\n",
      "Epoch: 0 batch #: 122  of 300 sample #: 199 reconstruction error: 0.075327\n",
      "Epoch: 0 batch #: 123  of 300 sample #: 199 reconstruction error: 0.066729\n",
      "Epoch: 0 batch #: 124  of 300 sample #: 199 reconstruction error: 0.050645\n",
      "Epoch: 0 batch #: 125  of 300 sample #: 199 reconstruction error: 0.049023\n",
      "Epoch: 0 batch #: 126  of 300 sample #: 199 reconstruction error: 0.088534\n",
      "Epoch: 0 batch #: 127  of 300 sample #: 199 reconstruction error: 0.081316\n",
      "Epoch: 0 batch #: 128  of 300 sample #: 199 reconstruction error: 0.064145\n",
      "Epoch: 0 batch #: 129  of 300 sample #: 199 reconstruction error: 0.072599\n",
      "Epoch: 0 batch #: 130  of 300 sample #: 199 reconstruction error: 0.084948\n",
      "Epoch: 0 batch #: 131  of 300 sample #: 199 reconstruction error: 0.059706\n",
      "Epoch: 0 batch #: 132  of 300 sample #: 199 reconstruction error: 0.038348\n",
      "Epoch: 0 batch #: 133  of 300 sample #: 199 reconstruction error: 0.066979\n",
      "Epoch: 0 batch #: 134  of 300 sample #: 199 reconstruction error: 0.088294\n",
      "Epoch: 0 batch #: 135  of 300 sample #: 199 reconstruction error: 0.092283\n",
      "Epoch: 0 batch #: 136  of 300 sample #: 199 reconstruction error: 0.077039\n",
      "Epoch: 0 batch #: 137  of 300 sample #: 199 reconstruction error: 0.074448\n",
      "Epoch: 0 batch #: 138  of 300 sample #: 199 reconstruction error: 0.087153\n",
      "Epoch: 0 batch #: 139  of 300 sample #: 199 reconstruction error: 0.099681\n",
      "Epoch: 0 batch #: 140  of 300 sample #: 199 reconstruction error: 0.071714\n",
      "Epoch: 0 batch #: 141  of 300 sample #: 199 reconstruction error: 0.075537\n",
      "Epoch: 0 batch #: 142  of 300 sample #: 199 reconstruction error: 0.078748\n",
      "Epoch: 0 batch #: 143  of 300 sample #: 199 reconstruction error: 0.049474\n",
      "Epoch: 0 batch #: 144  of 300 sample #: 199 reconstruction error: 0.054903\n",
      "Epoch: 0 batch #: 145  of 300 sample #: 199 reconstruction error: 0.084568\n",
      "Epoch: 0 batch #: 146  of 300 sample #: 199 reconstruction error: 0.120917\n",
      "Epoch: 0 batch #: 147  of 300 sample #: 199 reconstruction error: 0.074172\n",
      "Epoch: 0 batch #: 148  of 300 sample #: 199 reconstruction error: 0.102500\n",
      "Epoch: 0 batch #: 149  of 300 sample #: 199 reconstruction error: 0.043452\n",
      "Epoch: 0 batch #: 150  of 300 sample #: 199 reconstruction error: 0.048296\n",
      "Epoch: 0 batch #: 151  of 300 sample #: 199 reconstruction error: 0.093621\n",
      "Epoch: 0 batch #: 152  of 300 sample #: 199 reconstruction error: 0.094149\n",
      "Epoch: 0 batch #: 153  of 300 sample #: 199 reconstruction error: 0.053670\n",
      "Epoch: 0 batch #: 154  of 300 sample #: 199 reconstruction error: 0.069250\n",
      "Epoch: 0 batch #: 155  of 300 sample #: 199 reconstruction error: 0.061387\n",
      "Epoch: 0 batch #: 156  of 300 sample #: 199 reconstruction error: 0.089607\n",
      "Epoch: 0 batch #: 157  of 300 sample #: 199 reconstruction error: 0.079618\n",
      "Epoch: 0 batch #: 158  of 300 sample #: 199 reconstruction error: 0.068349\n",
      "Epoch: 0 batch #: 159  of 300 sample #: 199 reconstruction error: 0.053254\n",
      "Epoch: 0 batch #: 160  of 300 sample #: 199 reconstruction error: 0.047789\n",
      "Epoch: 0 batch #: 161  of 300 sample #: 199 reconstruction error: 0.084421\n",
      "Epoch: 0 batch #: 162  of 300 sample #: 199 reconstruction error: 0.105380\n",
      "Epoch: 0 batch #: 163  of 300 sample #: 199 reconstruction error: 0.036916\n",
      "Epoch: 0 batch #: 164  of 300 sample #: 199 reconstruction error: 0.065270\n",
      "Epoch: 0 batch #: 165  of 300 sample #: 199 reconstruction error: 0.083891\n",
      "Epoch: 0 batch #: 166  of 300 sample #: 199 reconstruction error: 0.058410\n",
      "Epoch: 0 batch #: 167  of 300 sample #: 199 reconstruction error: 0.096033\n",
      "Epoch: 0 batch #: 168  of 300 sample #: 199 reconstruction error: 0.040013\n",
      "Epoch: 0 batch #: 169  of 300 sample #: 199 reconstruction error: 0.031734\n",
      "Epoch: 0 batch #: 170  of 300 sample #: 199 reconstruction error: 0.051626\n",
      "Epoch: 0 batch #: 171  of 300 sample #: 199 reconstruction error: 0.026924\n",
      "Epoch: 0 batch #: 172  of 300 sample #: 199 reconstruction error: 0.049857\n",
      "Epoch: 0 batch #: 173  of 300 sample #: 199 reconstruction error: 0.076030\n",
      "Epoch: 0 batch #: 174  of 300 sample #: 199 reconstruction error: 0.133548\n",
      "Epoch: 0 batch #: 175  of 300 sample #: 199 reconstruction error: 0.061479\n",
      "Epoch: 0 batch #: 176  of 300 sample #: 199 reconstruction error: 0.055755\n",
      "Epoch: 0 batch #: 177  of 300 sample #: 199 reconstruction error: 0.043040\n",
      "Epoch: 0 batch #: 178  of 300 sample #: 199 reconstruction error: 0.113683\n",
      "Epoch: 0 batch #: 179  of 300 sample #: 199 reconstruction error: 0.068682\n",
      "Epoch: 0 batch #: 180  of 300 sample #: 199 reconstruction error: 0.090359\n",
      "Epoch: 0 batch #: 181  of 300 sample #: 199 reconstruction error: 0.090591\n",
      "Epoch: 0 batch #: 182  of 300 sample #: 199 reconstruction error: 0.076371\n",
      "Epoch: 0 batch #: 183  of 300 sample #: 199 reconstruction error: 0.108699\n",
      "Epoch: 0 batch #: 184  of 300 sample #: 199 reconstruction error: 0.071166\n",
      "Epoch: 0 batch #: 185  of 300 sample #: 199 reconstruction error: 0.085418\n",
      "Epoch: 0 batch #: 186  of 300 sample #: 199 reconstruction error: 0.092100\n",
      "Epoch: 0 batch #: 187  of 300 sample #: 199 reconstruction error: 0.057968\n",
      "Epoch: 0 batch #: 188  of 300 sample #: 199 reconstruction error: 0.121019\n",
      "Epoch: 0 batch #: 189  of 300 sample #: 199 reconstruction error: 0.069103\n",
      "Epoch: 0 batch #: 190  of 300 sample #: 199 reconstruction error: 0.050923\n",
      "Epoch: 0 batch #: 191  of 300 sample #: 199 reconstruction error: 0.096469\n",
      "Epoch: 0 batch #: 192  of 300 sample #: 199 reconstruction error: 0.128702\n",
      "Epoch: 0 batch #: 193  of 300 sample #: 199 reconstruction error: 0.099732\n",
      "Epoch: 0 batch #: 194  of 300 sample #: 199 reconstruction error: 0.082055\n",
      "Epoch: 0 batch #: 195  of 300 sample #: 199 reconstruction error: 0.054877\n",
      "Epoch: 0 batch #: 196  of 300 sample #: 199 reconstruction error: 0.056327\n",
      "Epoch: 0 batch #: 197  of 300 sample #: 199 reconstruction error: 0.062258\n",
      "Epoch: 0 batch #: 198  of 300 sample #: 199 reconstruction error: 0.085527\n",
      "Epoch: 0 batch #: 199  of 300 sample #: 199 reconstruction error: 0.070990\n",
      "Epoch: 0 batch #: 200  of 300 sample #: 199 reconstruction error: 0.108439\n",
      "Epoch: 0 batch #: 201  of 300 sample #: 199 reconstruction error: 0.082829\n",
      "Epoch: 0 batch #: 202  of 300 sample #: 199 reconstruction error: 0.028343\n",
      "Epoch: 0 batch #: 203  of 300 sample #: 199 reconstruction error: 0.098525\n",
      "Epoch: 0 batch #: 204  of 300 sample #: 199 reconstruction error: 0.054001\n",
      "Epoch: 0 batch #: 205  of 300 sample #: 199 reconstruction error: 0.019670\n",
      "Epoch: 0 batch #: 206  of 300 sample #: 199 reconstruction error: 0.055249\n",
      "Epoch: 0 batch #: 207  of 300 sample #: 199 reconstruction error: 0.086595\n",
      "Epoch: 0 batch #: 208  of 300 sample #: 199 reconstruction error: 0.049233\n",
      "Epoch: 0 batch #: 209  of 300 sample #: 199 reconstruction error: 0.030096\n",
      "Epoch: 0 batch #: 210  of 300 sample #: 199 reconstruction error: 0.102663\n",
      "Epoch: 0 batch #: 211  of 300 sample #: 199 reconstruction error: 0.102588\n",
      "Epoch: 0 batch #: 212  of 300 sample #: 199 reconstruction error: 0.096126\n",
      "Epoch: 0 batch #: 213  of 300 sample #: 199 reconstruction error: 0.095891\n",
      "Epoch: 0 batch #: 214  of 300 sample #: 199 reconstruction error: 0.081636\n",
      "Epoch: 0 batch #: 215  of 300 sample #: 199 reconstruction error: 0.025696\n",
      "Epoch: 0 batch #: 216  of 300 sample #: 199 reconstruction error: 0.089473\n",
      "Epoch: 0 batch #: 217  of 300 sample #: 199 reconstruction error: 0.065445\n",
      "Epoch: 0 batch #: 218  of 300 sample #: 199 reconstruction error: 0.056652\n",
      "Epoch: 0 batch #: 219  of 300 sample #: 199 reconstruction error: 0.067044\n",
      "Epoch: 0 batch #: 220  of 300 sample #: 199 reconstruction error: 0.060581\n",
      "Epoch: 0 batch #: 221  of 300 sample #: 199 reconstruction error: 0.083376\n"
     ]
    },
    {
     "name": "stdout",
     "output_type": "stream",
     "text": [
      "Epoch: 0 batch #: 222  of 300 sample #: 199 reconstruction error: 0.086486\n",
      "Epoch: 0 batch #: 223  of 300 sample #: 199 reconstruction error: 0.078725\n",
      "Epoch: 0 batch #: 224  of 300 sample #: 199 reconstruction error: 0.053517\n",
      "Epoch: 0 batch #: 225  of 300 sample #: 199 reconstruction error: 0.061505\n",
      "Epoch: 0 batch #: 226  of 300 sample #: 199 reconstruction error: 0.114857\n",
      "Epoch: 0 batch #: 227  of 300 sample #: 199 reconstruction error: 0.083303\n",
      "Epoch: 0 batch #: 228  of 300 sample #: 199 reconstruction error: 0.074174\n",
      "Epoch: 0 batch #: 229  of 300 sample #: 199 reconstruction error: 0.081942\n",
      "Epoch: 0 batch #: 230  of 300 sample #: 199 reconstruction error: 0.035124\n",
      "Epoch: 0 batch #: 231  of 300 sample #: 199 reconstruction error: 0.023899\n",
      "Epoch: 0 batch #: 232  of 300 sample #: 199 reconstruction error: 0.068933\n",
      "Epoch: 0 batch #: 233  of 300 sample #: 199 reconstruction error: 0.083840\n",
      "Epoch: 0 batch #: 234  of 300 sample #: 199 reconstruction error: 0.060700\n",
      "Epoch: 0 batch #: 235  of 300 sample #: 199 reconstruction error: 0.088788\n",
      "Epoch: 0 batch #: 236  of 300 sample #: 199 reconstruction error: 0.079928\n",
      "Epoch: 0 batch #: 237  of 300 sample #: 199 reconstruction error: 0.072592\n",
      "Epoch: 0 batch #: 238  of 300 sample #: 199 reconstruction error: 0.110889\n",
      "Epoch: 0 batch #: 239  of 300 sample #: 199 reconstruction error: 0.026244\n",
      "Epoch: 0 batch #: 240  of 300 sample #: 199 reconstruction error: 0.092284\n",
      "Epoch: 0 batch #: 241  of 300 sample #: 199 reconstruction error: 0.085156\n",
      "Epoch: 0 batch #: 242  of 300 sample #: 199 reconstruction error: 0.075537\n",
      "Epoch: 0 batch #: 243  of 300 sample #: 199 reconstruction error: 0.076262\n",
      "Epoch: 0 batch #: 244  of 300 sample #: 199 reconstruction error: 0.072955\n",
      "Epoch: 0 batch #: 245  of 300 sample #: 199 reconstruction error: 0.074903\n",
      "Epoch: 0 batch #: 246  of 300 sample #: 199 reconstruction error: 0.111284\n",
      "Epoch: 0 batch #: 247  of 300 sample #: 199 reconstruction error: 0.041793\n",
      "Epoch: 0 batch #: 248  of 300 sample #: 199 reconstruction error: 0.071894\n",
      "Epoch: 0 batch #: 249  of 300 sample #: 199 reconstruction error: 0.032071\n",
      "Epoch: 0 batch #: 250  of 300 sample #: 199 reconstruction error: 0.084595\n",
      "Epoch: 0 batch #: 251  of 300 sample #: 199 reconstruction error: 0.055009\n",
      "Epoch: 0 batch #: 252  of 300 sample #: 199 reconstruction error: 0.065695\n",
      "Epoch: 0 batch #: 253  of 300 sample #: 199 reconstruction error: 0.063363\n",
      "Epoch: 0 batch #: 254  of 300 sample #: 199 reconstruction error: 0.043673\n",
      "Epoch: 0 batch #: 255  of 300 sample #: 199 reconstruction error: 0.049845\n",
      "Epoch: 0 batch #: 256  of 300 sample #: 199 reconstruction error: 0.086408\n",
      "Epoch: 0 batch #: 257  of 300 sample #: 199 reconstruction error: 0.097226\n",
      "Epoch: 0 batch #: 258  of 300 sample #: 199 reconstruction error: 0.089974\n",
      "Epoch: 0 batch #: 259  of 300 sample #: 199 reconstruction error: 0.066615\n",
      "Epoch: 0 batch #: 260  of 300 sample #: 199 reconstruction error: 0.095297\n",
      "Epoch: 0 batch #: 261  of 300 sample #: 199 reconstruction error: 0.037238\n",
      "Epoch: 0 batch #: 262  of 300 sample #: 199 reconstruction error: 0.044734\n",
      "Epoch: 0 batch #: 263  of 300 sample #: 199 reconstruction error: 0.082349\n",
      "Epoch: 0 batch #: 264  of 300 sample #: 199 reconstruction error: 0.068237\n",
      "Epoch: 0 batch #: 265  of 300 sample #: 199 reconstruction error: 0.068438\n",
      "Epoch: 0 batch #: 266  of 300 sample #: 199 reconstruction error: 0.035599\n",
      "Epoch: 0 batch #: 267  of 300 sample #: 199 reconstruction error: 0.056402\n",
      "Epoch: 0 batch #: 268  of 300 sample #: 199 reconstruction error: 0.020338\n",
      "Epoch: 0 batch #: 269  of 300 sample #: 199 reconstruction error: 0.095571\n",
      "Epoch: 0 batch #: 270  of 300 sample #: 199 reconstruction error: 0.076979\n",
      "Epoch: 0 batch #: 271  of 300 sample #: 199 reconstruction error: 0.057548\n",
      "Epoch: 0 batch #: 272  of 300 sample #: 199 reconstruction error: 0.053032\n",
      "Epoch: 0 batch #: 273  of 300 sample #: 199 reconstruction error: 0.054662\n",
      "Epoch: 0 batch #: 274  of 300 sample #: 199 reconstruction error: 0.048569\n",
      "Epoch: 0 batch #: 275  of 300 sample #: 199 reconstruction error: 0.097715\n",
      "Epoch: 0 batch #: 276  of 300 sample #: 199 reconstruction error: 0.090518\n",
      "Epoch: 0 batch #: 277  of 300 sample #: 199 reconstruction error: 0.054311\n",
      "Epoch: 0 batch #: 278  of 300 sample #: 199 reconstruction error: 0.056349\n",
      "Epoch: 0 batch #: 279  of 300 sample #: 199 reconstruction error: 0.048890\n",
      "Epoch: 0 batch #: 280  of 300 sample #: 199 reconstruction error: 0.073272\n",
      "Epoch: 0 batch #: 281  of 300 sample #: 199 reconstruction error: 0.071863\n",
      "Epoch: 0 batch #: 282  of 300 sample #: 199 reconstruction error: 0.101174\n",
      "Epoch: 0 batch #: 283  of 300 sample #: 199 reconstruction error: 0.055440\n",
      "Epoch: 0 batch #: 284  of 300 sample #: 199 reconstruction error: 0.050783\n",
      "Epoch: 0 batch #: 285  of 300 sample #: 199 reconstruction error: 0.055031\n",
      "Epoch: 0 batch #: 286  of 300 sample #: 199 reconstruction error: 0.080878\n",
      "Epoch: 0 batch #: 287  of 300 sample #: 199 reconstruction error: 0.077102\n",
      "Epoch: 0 batch #: 288  of 300 sample #: 199 reconstruction error: 0.020850\n",
      "Epoch: 0 batch #: 289  of 300 sample #: 199 reconstruction error: 0.103294\n",
      "Epoch: 0 batch #: 290  of 300 sample #: 199 reconstruction error: 0.101820\n",
      "Epoch: 0 batch #: 291  of 300 sample #: 199 reconstruction error: 0.108823\n",
      "Epoch: 0 batch #: 292  of 300 sample #: 199 reconstruction error: 0.068246\n",
      "Epoch: 0 batch #: 293  of 300 sample #: 199 reconstruction error: 0.048557\n",
      "Epoch: 0 batch #: 294  of 300 sample #: 199 reconstruction error: 0.090704\n",
      "Epoch: 0 batch #: 295  of 300 sample #: 199 reconstruction error: 0.083651\n",
      "Epoch: 0 batch #: 296  of 300 sample #: 199 reconstruction error: 0.020306\n",
      "Epoch: 0 batch #: 297  of 300 sample #: 199 reconstruction error: 0.107303\n",
      "Epoch: 0 batch #: 298  of 300 sample #: 199 reconstruction error: 0.052387\n",
      "Epoch: 0 batch #: 299  of 300 sample #: 199 reconstruction error: 0.045584\n",
      "Epoch: 0 batch #: 300  of 300 sample #: 199 reconstruction error: 0.078823\n"
     ]
    }
   ],
   "source": [
    "#Parameters\n",
    "alpha = 0.01\n",
    "epochs = 1\n",
    "batchsize = 200\n",
    "weights = []\n",
    "errors = []\n",
    "batch_number = 0\n",
    "K = 1\n",
    "\n",
    "#creating datasets\n",
    "train_ds = \\\n",
    "    tf.data.Dataset.from_tensor_slices((trX, trY)).batch(batchsize)\n",
    "\n",
    "for epoch in range(epochs):\n",
    "    for batch_x, batch_y in train_ds:\n",
    "        batch_number += 1\n",
    "        for i_sample in range(batchsize):           \n",
    "            for k in range(K):\n",
    "                v0_state = batch_x[i_sample]\n",
    "                h0_state = hidden_layer(v0_state, W, hb)\n",
    "                v1_state = reconstructed_output(h0_state, W, vb)\n",
    "                h1_state = hidden_layer(v1_state, W, hb)\n",
    "\n",
    "                delta_W = tf.matmul(tf.transpose([v0_state]), h0_state) - tf.matmul(tf.transpose([v1_state]), h1_state)\n",
    "                W = W + alpha * delta_W\n",
    "\n",
    "                vb = vb + alpha * tf.reduce_mean(v0_state - v1_state, 0)\n",
    "                hb = hb + alpha * tf.reduce_mean(h0_state - h1_state, 0) \n",
    "\n",
    "                v0_state = v1_state\n",
    "\n",
    "            if i_sample == batchsize-1:\n",
    "                err = error(batch_x[i_sample], v1_state)\n",
    "                errors.append(err)\n",
    "                weights.append(W)\n",
    "                print ( 'Epoch: %d' % epoch, \n",
    "                       \"batch #: %i \" % batch_number, \"of %i\" % (60000/int(batchsize)), \n",
    "                       \"sample #: %i\" % i_sample,\n",
    "                       'reconstruction error: %f' % err)\n",
    "\n"
   ]
  },
  {
   "cell_type": "markdown",
   "metadata": {},
   "source": [
    "Let's take a look at the errors at the end of each batch:\n"
   ]
  },
  {
   "cell_type": "code",
   "execution_count": 38,
   "metadata": {},
   "outputs": [
    {
     "data": {
      "image/png": "[encoded data removed]",
      "text/plain": [
       "<Figure size 432x288 with 1 Axes>"
      ]
     },
     "metadata": {
      "needs_background": "light"
     },
     "output_type": "display_data"
    }
   ],
   "source": [
    "plt.plot(errors)\n",
    "plt.xlabel(\"Batch Number\")\n",
    "plt.ylabel(\"Error\")\n",
    "plt.show()"
   ]
  },
  {
   "cell_type": "markdown",
   "metadata": {},
   "source": [
    "What is the final weight matrix $W$ after training?\n"
   ]
  },
  {
   "cell_type": "code",
   "execution_count": 39,
   "metadata": {},
   "outputs": [
    {
     "name": "stdout",
     "output_type": "stream",
     "text": [
      "[[-0.34999993 -0.35999992 -0.41999987 ... -0.25000003 -0.4999998\n",
      "  -0.46999982]\n",
      " [-0.29       -0.42999986 -0.45999983 ... -0.21000002 -0.43999985\n",
      "  -0.3999999 ]\n",
      " [-0.25000003 -0.3799999  -0.41999987 ... -0.25000003 -0.5299998\n",
      "  -0.4899998 ]\n",
      " ...\n",
      " [-0.29       -0.42999986 -0.3999999  ... -0.24000004 -0.41999987\n",
      "  -0.42999986]\n",
      " [-0.29       -0.4899998  -0.36999992 ... -0.24000004 -0.57999974\n",
      "  -0.4899998 ]\n",
      " [-0.24000004 -0.4999998  -0.4999998  ... -0.25000003 -0.4799998\n",
      "  -0.44999984]]\n"
     ]
    }
   ],
   "source": [
    "print(W.numpy()) # a weight matrix of shape (50,784)"
   ]
  },
  {
   "cell_type": "markdown",
   "metadata": {},
   "source": [
    "<a id=\"ref5\"></a>\n",
    "\n",
    "<h3>Learned features</h3> \n"
   ]
  },
  {
   "cell_type": "markdown",
   "metadata": {},
   "source": [
    "We can take each hidden unit and visualize the connections between that hidden unit and each element in the input vector. In our case, we have 50 hidden units. Lets visualize those.\n"
   ]
  },
  {
   "cell_type": "markdown",
   "metadata": {},
   "source": [
    "Let's plot the current weights:\n",
    "<b>tile_raster_images</b> helps in generating an easy to grasp image from a set of samples or weights. It transforms the <b>uw</b> (with one flattened image per row of size 784), into an array (of size $28\\times28$) in which images are reshaped and laid out like tiles on a floor.\n"
   ]
  },
  {
   "cell_type": "code",
   "execution_count": 40,
   "metadata": {},
   "outputs": [
    {
     "data": {
      "image/png": "[encoded data removed]",
      "text/plain": [
       "<Figure size 1296x1296 with 1 Axes>"
      ]
     },
     "metadata": {
      "needs_background": "light"
     },
     "output_type": "display_data"
    }
   ],
   "source": [
    "tile_raster_images(X=W.numpy().T, img_shape=(28, 28), tile_shape=(5, 10), tile_spacing=(1, 1))\n",
    "import matplotlib.pyplot as plt\n",
    "from PIL import Image\n",
    "%matplotlib inline\n",
    "image = Image.fromarray(tile_raster_images(X=W.numpy().T, img_shape=(28, 28) ,tile_shape=(5, 10), tile_spacing=(1, 1)))\n",
    "### Plot image\n",
    "plt.rcParams['figure.figsize'] = (18.0, 18.0)\n",
    "imgplot = plt.imshow(image)\n",
    "imgplot.set_cmap('gray')  "
   ]
  },
  {
   "cell_type": "markdown",
   "metadata": {},
   "source": [
    "Each tile in the above visualization corresponds to a vector of connections between a hidden unit and visible layer's units. \n"
   ]
  },
  {
   "cell_type": "markdown",
   "metadata": {},
   "source": [
    "Let's look at one of the learned weights corresponding to one of hidden units for example. In this particular square, the gray color represents weight = 0, and the whiter it is, the more positive the weights are (closer to 1). Conversely, the darker pixels are, the more negative the weights. The positive pixels will increase the probability of activation in hidden units (after multiplying by input/visible pixels), and negative pixels will decrease the probability of a unit hidden to be 1 (activated). So, why is this important?  So we can see that this specific square (hidden unit) can detect a feature (e.g. a \"/\" shape) and if it exists in the input.\n"
   ]
  },
  {
   "cell_type": "code",
   "execution_count": 41,
   "metadata": {},
   "outputs": [
    {
     "data": {
      "image/png": "[encoded data removed]",
      "text/plain": [
       "<Figure size 288x288 with 1 Axes>"
      ]
     },
     "metadata": {
      "needs_background": "light"
     },
     "output_type": "display_data"
    }
   ],
   "source": [
    "from PIL import Image\n",
    "image = Image.fromarray(tile_raster_images(X =W.numpy().T[10:11], img_shape=(28, 28),tile_shape=(1, 1), tile_spacing=(1, 1)))\n",
    "### Plot image\n",
    "plt.rcParams['figure.figsize'] = (4.0, 4.0)\n",
    "imgplot = plt.imshow(image)\n",
    "imgplot.set_cmap('gray')  "
   ]
  },
  {
   "cell_type": "markdown",
   "metadata": {},
   "source": [
    "Let's look at the reconstruction of an image now. Imagine that we have a destructed image of figure 3. Lets see if our trained network can fix it:\n",
    "\n",
    "First we plot the image:\n"
   ]
  },
  {
   "cell_type": "code",
   "execution_count": 43,
   "metadata": {},
   "outputs": [
    {
     "data": {
      "image/png": "[encoded data removed]",
      "text/plain": [
       "<PIL.JpegImagePlugin.JpegImageFile image mode=RGB size=181x181 at 0x252026D1C88>"
      ]
     },
     "execution_count": 43,
     "metadata": {},
     "output_type": "execute_result"
    }
   ],
   "source": [
    "# !wget -O destructed3.jpg  https://ibm.box.com/shared/static/vvm1b63uvuxq88vbw9znpwu5ol380mco.jpg\n",
    "img = Image.open('destructed3.jpg')\n",
    "img"
   ]
  },
  {
   "cell_type": "markdown",
   "metadata": {},
   "source": [
    "Now let's pass this image through the neural net:\n"
   ]
  },
  {
   "cell_type": "code",
   "execution_count": 44,
   "metadata": {},
   "outputs": [],
   "source": [
    "# convert the image to a 1d numpy array\n",
    "sample_case = np.array(img.convert('I').resize((28,28))).ravel().reshape((1, -1))/255.0\n",
    "\n",
    "sample_case = tf.cast(sample_case, dtype=tf.float32)"
   ]
  },
  {
   "cell_type": "markdown",
   "metadata": {},
   "source": [
    "Feed the sample case into the network and reconstruct the output:\n"
   ]
  },
  {
   "cell_type": "code",
   "execution_count": 45,
   "metadata": {},
   "outputs": [
    {
     "name": "stdout",
     "output_type": "stream",
     "text": [
      "Probability nodes in hidden layer: tf.Tensor(\n",
      "[[4.4972512e-06 9.9998164e-01 6.1055720e-03 1.6267300e-03 3.7313777e-05\n",
      "  4.1838695e-07 9.9999285e-01 8.1095099e-04 5.0726155e-13 9.9776888e-01\n",
      "  9.9998808e-01 1.2544802e-01 6.3406867e-07 5.1709694e-01 1.0301797e-12\n",
      "  9.1738396e-12 3.3437197e-09 2.4038494e-02 7.9573274e-01 1.5742195e-01\n",
      "  9.9999905e-01 1.0000000e+00 5.3626520e-15 1.0017590e-06 1.0000000e+00\n",
      "  4.7571957e-03 1.2587742e-12 1.6027422e-11 9.9662697e-01 1.0000000e+00\n",
      "  9.9470305e-01 6.0382783e-03 5.3709093e-05 9.9991256e-01 5.8162707e-01\n",
      "  4.9589107e-05 1.4889240e-04 7.3728458e-13 3.6807344e-07 9.6437693e-01\n",
      "  3.9184093e-04 9.9999666e-01 8.6113622e-10 8.5775325e-09 9.5476878e-01\n",
      "  1.5412781e-14 2.4766791e-13 9.1058043e-11 1.0000000e+00 3.8036011e-05]], shape=(1, 50), dtype=float32)\n",
      "activated nodes in hidden layer: tf.Tensor(\n",
      "[[0. 1. 0. 0. 0. 0. 1. 0. 0. 1. 1. 0. 0. 1. 0. 0. 0. 0. 1. 0. 1. 1. 0. 0.\n",
      "  1. 0. 0. 0. 1. 1. 1. 0. 0. 1. 1. 0. 0. 0. 0. 1. 0. 1. 0. 0. 1. 0. 0. 0.\n",
      "  1. 0.]], shape=(1, 50), dtype=float32)\n",
      "tf.Tensor(\n",
      "[[4.23133373e-04 2.72631645e-04 2.80886889e-04 2.36958265e-04\n",
      "  2.54094601e-04 2.41756439e-04 1.90228224e-04 2.95251608e-04\n",
      "  1.95980072e-04 2.27689743e-04 2.41756439e-04 1.45196915e-04\n",
      "  2.76505947e-04 1.92821026e-04 2.30818987e-04 2.59608030e-04\n",
      "  1.63674355e-04 2.54094601e-04 2.44170427e-04 1.79141760e-04\n",
      "  3.75300646e-04 2.18749046e-04 2.61902809e-04 1.67012215e-04\n",
      "  2.51621008e-04 2.86519527e-04 2.61902809e-04 2.54094601e-04\n",
      "  1.58935785e-04 1.63674355e-04 1.48206949e-04 1.82718039e-04\n",
      "  1.62780285e-04 1.64389610e-04 4.43190336e-04 2.07096338e-04\n",
      "  2.21669674e-04 2.77817249e-04 3.72111797e-04 2.28822231e-04\n",
      "  2.62558460e-04 2.33829021e-04 2.18063593e-04 3.00914049e-04\n",
      "  2.77042389e-04 4.15235758e-04 2.51561403e-04 3.32653522e-04\n",
      "  1.72525644e-04 1.83165073e-04 2.32040882e-04 1.96725130e-04\n",
      "  2.44170427e-04 2.59339809e-04 2.67177820e-04 1.60485506e-04\n",
      "  1.77294016e-04 2.08109617e-04 1.87456608e-04 1.94549561e-04\n",
      "  1.59174204e-04 2.38120556e-04 2.94327736e-04 1.63406134e-04\n",
      "  2.15113163e-04 1.54674053e-04 7.71497798e-05 4.23622478e-05\n",
      "  3.47950954e-05 2.41087546e-05 4.40844378e-05 3.98001648e-05\n",
      "  4.31775043e-05 6.09770323e-05 6.57532510e-05 6.03037115e-05\n",
      "  1.04685911e-04 3.25441360e-04 6.13272190e-04 4.69386578e-04\n",
      "  2.61336565e-04 2.12758780e-04 1.95980072e-04 1.72108412e-04\n",
      "  2.34574080e-04 3.16679478e-04 2.81840563e-04 2.95430422e-04\n",
      "  2.45481730e-04 2.66283751e-04 2.45034695e-04 1.82896852e-04\n",
      "  1.55001879e-04 1.55270100e-04 1.77770853e-04 1.40130520e-04\n",
      "  1.41084194e-04 9.88321262e-05 9.79671022e-05 1.62392855e-04\n",
      "  1.48653984e-04 2.43842602e-04 2.05099583e-04 3.14265490e-04\n",
      "  1.80929899e-04 3.98486853e-04 4.79847193e-04 4.72247601e-04\n",
      "  5.53786755e-04 4.04328108e-04 1.91688538e-04 1.18882555e-04\n",
      "  1.73866749e-04 1.51485205e-04 2.74270773e-04 2.17556953e-04\n",
      "  5.35935163e-04 7.40259886e-04 6.30110502e-04 8.85784626e-04\n",
      "  1.22365355e-03 2.80636549e-03 6.41998649e-03 5.02374768e-03\n",
      "  2.56142020e-03 2.89762020e-03 5.92181087e-03 4.15536761e-03\n",
      "  7.27927685e-03 1.74403489e-02 9.61324573e-03 3.41573358e-03\n",
      "  1.84229016e-03 1.14029646e-03 6.80893660e-03 6.98155165e-03\n",
      "  3.79645824e-03 1.21459365e-03 2.25067139e-04 1.36494637e-04\n",
      "  2.61902809e-04 1.86413527e-04 4.39763069e-04 2.95162201e-04\n",
      "  7.36176968e-04 5.69432974e-04 2.04327703e-03 4.49970365e-03\n",
      "  2.87104845e-02 4.36013341e-02 9.99923944e-02 5.10827899e-02\n",
      "  6.56262338e-02 1.74936682e-01 3.70760798e-01 3.86914015e-01\n",
      "  5.97607017e-01 5.69031179e-01 3.56667399e-01 8.39892924e-02\n",
      "  2.55953670e-02 2.05392540e-02 2.68873870e-02 4.12594080e-02\n",
      "  5.41484356e-03 2.76297331e-03 1.53526664e-03 2.14099884e-04\n",
      "  2.69889832e-04 1.78337097e-04 2.84224749e-04 6.91801310e-04\n",
      "  2.19818950e-03 4.46900725e-03 2.26473212e-02 3.59260738e-02\n",
      "  1.18186712e-01 1.38305038e-01 2.10107595e-01 3.16129088e-01\n",
      "  6.01233184e-01 6.32254481e-01 8.36282849e-01 8.98283601e-01\n",
      "  9.56175804e-01 8.95851135e-01 8.29418421e-01 6.27943754e-01\n",
      "  3.58642846e-01 8.29078555e-02 8.84187520e-02 8.38091969e-02\n",
      "  2.17777491e-02 6.40189648e-03 1.53818727e-03 2.01821327e-04\n",
      "  2.00867653e-04 2.55942345e-04 4.61578369e-04 1.72206759e-03\n",
      "  5.86232543e-03 1.13420188e-02 4.93349731e-02 5.00011146e-02\n",
      "  8.42919350e-02 3.36829185e-01 3.51629615e-01 7.04553723e-01\n",
      "  8.09061766e-01 9.36319053e-01 9.68158484e-01 9.64430332e-01\n",
      "  9.58496451e-01 9.07843709e-01 8.99708807e-01 8.78343761e-01\n",
      "  6.82103753e-01 3.96546423e-01 8.06061924e-02 2.84837484e-02\n",
      "  1.87740624e-02 4.13823128e-03 1.19268894e-03 4.20391560e-04\n",
      "  2.93254852e-04 3.15010548e-04 1.63215399e-03 1.88758969e-03\n",
      "  3.39737535e-03 7.00774789e-03 2.42234766e-02 5.57413101e-02\n",
      "  1.28848076e-01 3.05254102e-01 4.53178972e-01 7.44977355e-01\n",
      "  8.34092617e-01 8.88940573e-01 8.68229508e-01 8.24950933e-01\n",
      "  7.46960044e-01 4.90589350e-01 4.64326024e-01 6.65044069e-01\n",
      "  7.51982272e-01 4.36229616e-01 1.08669877e-01 1.39309764e-02\n",
      "  4.67440486e-03 1.34053826e-03 5.95450401e-04 3.02284956e-04\n",
      "  1.95384026e-04 5.70774078e-04 1.09902024e-03 9.34958458e-04\n",
      "  3.43513489e-03 6.03845716e-03 5.92344999e-03 1.40103996e-02\n",
      "  3.83814871e-02 1.67069793e-01 1.77831501e-01 5.36930680e-01\n",
      "  3.35663587e-01 5.35099685e-01 2.40744859e-01 1.54440850e-01\n",
      "  1.26449049e-01 2.21583635e-01 5.70281863e-01 6.75309658e-01\n",
      "  6.27638400e-01 2.72834241e-01 2.32455730e-02 3.90487909e-03\n",
      "  1.52376294e-03 2.50726938e-04 3.38345766e-04 3.11225653e-04\n",
      "  1.91390514e-04 4.03165817e-04 8.65846872e-04 1.67968869e-03\n",
      "  1.00407004e-03 2.77841091e-03 2.82758474e-03 4.00465727e-03\n",
      "  1.59460604e-02 6.06160164e-02 1.12531662e-01 2.63540447e-01\n",
      "  2.39658207e-01 2.83155799e-01 1.74376935e-01 8.14188421e-02\n",
      "  1.44939572e-01 2.20502436e-01 7.65729547e-01 7.73399472e-01\n",
      "  8.02837372e-01 2.39939243e-01 1.10351443e-02 1.20350718e-03\n",
      "  3.38584185e-04 2.83956528e-04 5.22702932e-04 2.36272812e-04\n",
      "  2.06887722e-04 3.86476517e-04 8.56101513e-04 1.76188350e-03\n",
      "  1.23339891e-03 1.95410848e-03 2.05427408e-03 2.00095773e-03\n",
      "  1.43759847e-02 2.76061594e-02 8.13137293e-02 1.44656420e-01\n",
      "  4.74598706e-01 3.94408166e-01 1.15114182e-01 2.40525216e-01\n",
      "  3.00444663e-01 6.40328228e-01 7.97341108e-01 8.09650898e-01\n",
      "  3.94156635e-01 2.95619667e-02 1.41558051e-03 4.80979681e-04\n",
      "  1.81913376e-04 6.37948513e-04 3.52889299e-04 2.10404396e-04\n",
      "  2.17050314e-04 3.65316868e-04 1.17677450e-03 6.05136156e-04\n",
      "  8.41408968e-04 1.00189447e-03 1.03628635e-03 1.38425827e-03\n",
      "  4.47916985e-03 2.01525092e-02 6.42514229e-02 3.54879081e-01\n",
      "  6.86634779e-01 7.91446924e-01 6.58272743e-01 7.14365065e-01\n",
      "  7.09874749e-01 8.27054739e-01 6.48413062e-01 3.67730796e-01\n",
      "  1.05766356e-01 6.28468394e-03 5.43653965e-04 1.54495239e-04\n",
      "  2.13593245e-04 3.10301781e-04 3.83585691e-04 2.11507082e-04\n",
      "  1.94549561e-04 1.71571970e-04 7.32034445e-04 5.25623560e-04\n",
      "  8.35448503e-04 1.29538774e-03 8.09073448e-04 1.35302544e-03\n",
      "  4.79567051e-03 1.52083635e-02 1.06570333e-01 7.24329352e-01\n",
      "  9.25618589e-01 9.61928964e-01 9.27434087e-01 8.30521464e-01\n",
      "  8.46710503e-01 7.75015116e-01 5.87269545e-01 3.61226529e-01\n",
      "  2.97800004e-02 1.11863017e-03 2.83539295e-04 1.11496571e-04\n",
      "  1.50084496e-04 2.10314989e-04 3.21000814e-04 2.66522169e-04\n",
      "  2.04652548e-04 2.24471092e-04 3.68714333e-04 5.54084778e-04\n",
      "  8.02576542e-04 4.39971685e-04 9.17345285e-04 1.03470683e-03\n",
      "  4.55945730e-03 2.79514194e-02 1.55071676e-01 7.84968138e-01\n",
      "  9.21767414e-01 9.21874464e-01 8.75288129e-01 7.78053999e-01\n",
      "  7.82251954e-01 7.74157524e-01 6.25036776e-01 7.97715187e-02\n",
      "  9.98041034e-03 6.63101673e-04 2.17467546e-04 8.43857779e-05\n",
      "  6.08632181e-05 2.36839056e-04 3.25977802e-04 2.14427710e-04\n",
      "  2.14427710e-04 2.42292881e-04 4.46617603e-04 8.75353813e-04\n",
      "  1.23488903e-03 5.38110733e-04 7.43120909e-04 1.77419186e-03\n",
      "  1.15573406e-02 8.42124224e-03 5.39048910e-02 3.29387009e-01\n",
      "  4.48160917e-01 4.91667956e-01 1.96829647e-01 1.91181511e-01\n",
      "  6.09368443e-01 8.99708807e-01 7.34203458e-01 6.18588924e-02\n",
      "  3.25080752e-03 3.83228064e-04 2.46196985e-04 9.51794427e-05\n",
      "  6.26456313e-05 1.61707401e-04 3.75479460e-04 2.66522169e-04\n",
      "  2.66075134e-04 2.12907791e-04 5.84781170e-04 1.16157532e-03\n",
      "  1.73643231e-03 9.66459513e-04 1.98271871e-03 2.26894021e-03\n",
      "  1.02496743e-02 7.76845217e-03 2.05514431e-02 1.46239728e-01\n",
      "  1.42989457e-01 6.79934323e-02 1.78116858e-02 1.42673552e-01\n",
      "  6.42356277e-01 9.40671086e-01 7.32234180e-01 7.09827244e-02\n",
      "  1.32593513e-03 9.91404057e-04 2.50428915e-04 9.12473915e-05\n",
      "  6.04896413e-05 1.34021044e-04 3.64601612e-04 2.29001045e-04\n",
      "  2.01970339e-04 2.36719847e-04 1.08954310e-03 1.96424127e-03\n",
      "  4.16293740e-03 1.71980262e-03 5.34254313e-03 3.96081805e-03\n",
      "  6.61435723e-03 6.55612350e-03 7.27722049e-03 2.15035677e-02\n",
      "  2.33592689e-02 7.31417537e-03 4.83664870e-03 9.27180350e-02\n",
      "  6.70312166e-01 9.40665483e-01 7.68882275e-01 6.82614744e-02\n",
      "  3.94636393e-03 1.04463100e-03 9.88423824e-04 1.42991543e-04\n",
      "  2.23010778e-04 3.38822603e-04 3.43948603e-04 1.24484301e-04\n",
      "  1.89274549e-04 2.22682953e-04 1.36154890e-03 5.71140647e-03\n",
      "  8.80125165e-03 1.11535192e-02 1.30464137e-02 1.27627254e-02\n",
      "  6.56193495e-03 9.12907720e-03 4.16761637e-03 5.31366467e-03\n",
      "  4.36908007e-03 1.53297186e-03 5.72240353e-03 1.56316817e-01\n",
      "  7.26446867e-01 9.53712702e-01 7.40896523e-01 5.56283891e-02\n",
      "  9.16582346e-03 2.70655751e-03 5.17427921e-04 3.98129225e-04\n",
      "  1.81972980e-04 4.82022762e-04 4.56064939e-04 1.72466040e-04\n",
      "  1.47491693e-04 2.34156847e-04 2.52223015e-03 1.26578212e-02\n",
      "  1.75333917e-02 3.58260274e-02 4.06039953e-02 4.65964675e-02\n",
      "  1.15770102e-02 5.80593944e-03 2.98008323e-03 2.63148546e-03\n",
      "  3.86017561e-03 9.45672393e-03 3.34818363e-02 2.78709948e-01\n",
      "  9.16068435e-01 8.99215341e-01 6.99441612e-01 1.02226436e-01\n",
      "  5.94761968e-03 1.00970268e-03 7.64280558e-04 1.89930201e-04\n",
      "  4.49120998e-04 2.85834074e-04 4.21702862e-04 2.92152166e-04\n",
      "  2.12252140e-04 3.26484442e-04 4.67905402e-03 4.90005612e-02\n",
      "  7.52067864e-02 5.86991012e-02 1.85642600e-01 2.07039803e-01\n",
      "  9.33537185e-02 3.82390916e-02 1.22958422e-02 1.23938322e-02\n",
      "  4.42040563e-02 4.79345024e-02 1.43439680e-01 6.58151031e-01\n",
      "  8.67068887e-01 8.81215811e-01 3.60810637e-01 5.39833605e-02\n",
      "  5.11872768e-03 7.55399466e-04 7.30037689e-04 4.19676304e-04\n",
      "  4.65273857e-04 7.47293234e-04 4.58896160e-04 2.14219093e-04\n",
      "  1.94549561e-04 2.41249800e-04 3.13445926e-03 5.61846197e-02\n",
      "  5.04935682e-02 1.64086580e-01 4.41610426e-01 5.55729330e-01\n",
      "  3.61226559e-01 2.42807925e-01 1.97376877e-01 1.78835839e-01\n",
      "  2.11621761e-01 3.09341669e-01 4.84315157e-01 6.61518157e-01\n",
      "  8.38183165e-01 5.38387477e-01 1.40597671e-01 1.36849284e-02\n",
      "  1.96987391e-03 2.61694193e-04 1.75029039e-04 4.23580408e-04\n",
      "  4.41879034e-04 1.02135539e-03 2.28404999e-04 1.77979469e-04\n",
      "  2.57283449e-04 2.55763531e-04 1.73974037e-03 4.18190062e-02\n",
      "  1.39200389e-01 2.28243262e-01 5.01006007e-01 8.85313749e-01\n",
      "  7.91203976e-01 7.23262250e-01 6.85032904e-01 7.65972972e-01\n",
      "  7.42075205e-01 7.58988440e-01 6.10697687e-01 6.13154113e-01\n",
      "  4.33542699e-01 1.54557824e-01 6.81594312e-02 5.60513139e-03\n",
      "  7.46011734e-04 1.98721886e-04 4.33474779e-04 3.14384699e-04\n",
      "  7.55488873e-04 5.00261784e-04 2.95996666e-04 1.76548958e-04\n",
      "  1.84565783e-04 2.61902809e-04 9.18567181e-04 1.00430548e-02\n",
      "  8.58088732e-02 2.65772909e-01 4.26075846e-01 7.96161294e-01\n",
      "  9.23410416e-01 9.50759470e-01 9.75927114e-01 9.60785985e-01\n",
      "  9.09450769e-01 6.85535669e-01 5.23894131e-01 3.56110126e-01\n",
      "  1.53879404e-01 5.60988188e-02 1.19389594e-02 1.65435672e-03\n",
      "  6.61730766e-04 2.30044127e-04 6.83546066e-04 7.71254301e-04\n",
      "  8.90851021e-04 4.03463840e-04 2.64257193e-04 2.41816044e-04\n",
      "  3.19868326e-04 2.34574080e-04 2.32368708e-04 1.07315183e-03\n",
      "  1.12700164e-02 9.10420120e-02 3.04462612e-01 4.11459595e-01\n",
      "  8.19410920e-01 9.12659168e-01 8.92175794e-01 8.03432584e-01\n",
      "  6.83753073e-01 2.23809719e-01 6.87476397e-02 6.81998730e-02\n",
      "  2.83330381e-02 5.96845150e-03 5.92854619e-03 8.68111849e-04\n",
      "  8.03530216e-04 3.24338675e-04 3.70711088e-04 5.55992126e-04\n",
      "  4.88698483e-04 2.34395266e-04 1.64300203e-04 2.25424767e-04\n",
      "  1.31368637e-04 2.72631645e-04 2.42352486e-04 2.83241272e-04\n",
      "  7.77006149e-04 1.71953440e-03 3.96868587e-03 2.92487144e-02\n",
      "  6.26277924e-02 9.88388062e-02 5.87126911e-02 1.19400263e-01\n",
      "  2.98151076e-02 7.25659728e-03 2.08997726e-03 2.14192271e-03\n",
      "  6.76709414e-03 1.73157454e-03 1.08119845e-03 1.01801753e-03\n",
      "  3.82333994e-04 2.58654356e-04 4.78714705e-04 3.66359949e-04\n",
      "  1.78784132e-04 2.80439854e-04 2.36630440e-04 2.18749046e-04\n",
      "  1.92105770e-04 2.98321247e-04 1.21284196e-04 2.03073025e-04\n",
      "  4.81009483e-04 5.26666641e-04 6.47127628e-04 4.84764576e-04\n",
      "  5.97566366e-04 1.07511878e-03 2.28139758e-03 1.58539414e-03\n",
      "  8.02099705e-04 4.85122204e-04 5.44190407e-04 1.24278665e-03\n",
      "  1.09836459e-03 2.86862254e-03 1.25616789e-03 7.10517168e-04\n",
      "  5.74171543e-04 2.13444233e-04 2.23547220e-04 1.77025795e-04\n",
      "  1.68442726e-04 1.84714794e-04 2.05963850e-04 1.68681145e-04\n",
      "  1.92105770e-04 2.01970339e-04 1.92105770e-04 2.29954720e-04\n",
      "  2.36988068e-04 1.50859356e-04 3.19272280e-04 4.60624695e-04\n",
      "  6.11364841e-04 1.36569142e-03 1.64988637e-03 1.40658021e-03\n",
      "  6.11007214e-04 6.96390867e-04 2.75850296e-04 6.67333603e-04\n",
      "  1.58274174e-03 1.17564201e-03 3.71456146e-04 3.28153372e-04\n",
      "  2.86906958e-04 3.02165747e-04 2.43306160e-04 3.11702490e-04\n",
      "  1.62094831e-04 2.80886889e-04 1.72138214e-04 1.90228224e-04]], shape=(1, 784), dtype=float32)\n"
     ]
    }
   ],
   "source": [
    "hh0_p = tf.nn.sigmoid(tf.matmul(sample_case, W) + hb)\n",
    "hh0_s = tf.round(hh0_p)\n",
    "\n",
    "print(\"Probability nodes in hidden layer:\" ,hh0_p)\n",
    "print(\"activated nodes in hidden layer:\" ,hh0_s)\n",
    "\n",
    "# reconstruct\n",
    "vv1_p = tf.nn.sigmoid(tf.matmul(hh0_s, tf.transpose(W)) + vb)\n",
    "\n",
    "print(vv1_p)\n",
    "#rec_prob = sess.run(vv1_p, feed_dict={ hh0_s: hh0_s_val, W: prv_w, vb: prv_vb})"
   ]
  },
  {
   "cell_type": "markdown",
   "metadata": {},
   "source": [
    "Here we plot the reconstructed image:\n"
   ]
  },
  {
   "cell_type": "code",
   "execution_count": 46,
   "metadata": {},
   "outputs": [
    {
     "data": {
      "image/png": "[encoded data removed]",
      "text/plain": [
       "<Figure size 288x288 with 1 Axes>"
      ]
     },
     "metadata": {
      "needs_background": "light"
     },
     "output_type": "display_data"
    }
   ],
   "source": [
    "img = Image.fromarray(tile_raster_images(X=vv1_p.numpy(), img_shape=(28, 28),tile_shape=(1, 1), tile_spacing=(1, 1)))\n",
    "plt.rcParams['figure.figsize'] = (4.0, 4.0)\n",
    "imgplot = plt.imshow(img)\n",
    "imgplot.set_cmap('gray') "
   ]
  },
  {
   "cell_type": "markdown",
   "metadata": {},
   "source": [
    "### References:\n",
    "\n",
    "[https://en.wikipedia.org/wiki/Restricted_Boltzmann_machine](https://en.wikipedia.org/wiki/Restricted_Boltzmann_machine?cm_mmc=Email_Newsletter-_-Developer_Ed%2BTech-_-WW_WW-_-SkillsNetwork-Courses-IBMDeveloperSkillsNetwork-DL0120EN-SkillsNetwork-20629446&cm_mmca1=000026UJ&cm_mmca2=10006555&cm_mmca3=M12345678&cvosrc=email.Newsletter.M12345678&cvo_campaign=000026UJ)  \n",
    "[http://deeplearning.net/tutorial/rbm.html](http://deeplearning.net/tutorial/rbm.html?cm_mmc=Email_Newsletter-_-Developer_Ed%2BTech-_-WW_WW-_-SkillsNetwork-Courses-IBMDeveloperSkillsNetwork-DL0120EN-SkillsNetwork-20629446&cm_mmca1=000026UJ&cm_mmca2=10006555&cm_mmca3=M12345678&cvosrc=email.Newsletter.M12345678&cvo_campaign=000026UJ&cm_mmc=Email_Newsletter-_-Developer_Ed%2BTech-_-WW_WW-_-SkillsNetwork-Courses-IBMDeveloperSkillsNetwork-DL0120EN-SkillsNetwork-20629446&cm_mmca1=000026UJ&cm_mmca2=10006555&cm_mmca3=M12345678&cvosrc=email.Newsletter.M12345678&cvo_campaign=000026UJ)  \n",
    "[http://www.cs.utoronto.ca/~hinton/absps/netflixICML.pdf](http://www.cs.utoronto.ca/~hinton/absps/netflixICML.pdf?cm_mmc=Email_Newsletter-_-Developer_Ed%2BTech-_-WW_WW-_-SkillsNetwork-Courses-IBMDeveloperSkillsNetwork-DL0120EN-SkillsNetwork-20629446&cm_mmca1=000026UJ&cm_mmca2=10006555&cm_mmca3=M12345678&cvosrc=email.Newsletter.M12345678&cvo_campaign=000026UJ&cm_mmc=Email_Newsletter-_-Developer_Ed%2BTech-_-WW_WW-_-SkillsNetwork-Courses-IBMDeveloperSkillsNetwork-DL0120EN-SkillsNetwork-20629446&cm_mmca1=000026UJ&cm_mmca2=10006555&cm_mmca3=M12345678&cvosrc=email.Newsletter.M12345678&cvo_campaign=000026UJ)<br>\n",
    "<http://imonad.com/rbm/restricted-boltzmann-machine/>  \n",
    "[https://www.coursera.org/learn/building-deep-learning-models-with-tensorflow](https://www.coursera.org/learn/building-deep-learning-models-with-tensorflow)"
   ]
  }
 ],
 "metadata": {
  "kernelspec": {
   "display_name": "Python 3",
   "language": "python",
   "name": "python3"
  },
  "language_info": {
   "codemirror_mode": {
    "name": "ipython",
    "version": 3
   },
   "file_extension": ".py",
   "mimetype": "text/x-python",
   "name": "python",
   "nbconvert_exporter": "python",
   "pygments_lexer": "ipython3",
   "version": "3.7.3"
  },
  "widgets": {
   "state": {},
   "version": "1.1.2"
  }
 },
 "nbformat": 4,
 "nbformat_minor": 4
}
