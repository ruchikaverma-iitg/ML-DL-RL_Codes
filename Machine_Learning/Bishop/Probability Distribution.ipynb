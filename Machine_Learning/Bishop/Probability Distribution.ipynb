{
 "cells": [
  {
   "cell_type": "markdown",
   "metadata": {},
   "source": [
    "# Topic: Probability Distribution and Maximal Likelihood Estimation (MLE)\n",
    "- Probability Mass Function for a discrete variable\n",
    "- Probability Density Function for a continuous variable"
   ]
  },
  {
   "cell_type": "code",
   "execution_count": 1,
   "metadata": {},
   "outputs": [],
   "source": [
    "# !pip install seaborn #Uncomment and run to install seaborn"
   ]
  },
  {
   "cell_type": "code",
   "execution_count": 2,
   "metadata": {},
   "outputs": [],
   "source": [
    "import numpy as np\n",
    "import matplotlib.pyplot as plt\n",
    "import seaborn as sns"
   ]
  },
  {
   "cell_type": "markdown",
   "metadata": {},
   "source": [
    "# Probability Mass Function"
   ]
  },
  {
   "cell_type": "code",
   "execution_count": 3,
   "metadata": {},
   "outputs": [
    {
     "data": {
      "text/plain": [
       "array([0., 0., 0., 0., 0., 0., 0., 0., 0., 0., 0., 0., 0., 0., 0., 0., 0.,\n",
       "       0., 0., 0., 0., 0., 0., 0., 0., 0., 0., 0., 0., 0., 0., 0., 0., 0.,\n",
       "       0., 0., 0., 0., 0., 0., 0., 0., 0., 0., 0., 0., 0., 0., 0., 0., 0.,\n",
       "       0., 0., 0., 0., 0., 0., 0., 0., 0., 0., 0., 0., 0., 0., 0., 0., 0.,\n",
       "       0., 0., 0., 0., 0., 0., 0., 0., 0., 0., 0., 0., 0., 0., 0., 0., 0.,\n",
       "       0., 0., 0., 0., 0., 0., 0., 0., 0., 0., 0., 0., 0., 0., 0., 0., 0.,\n",
       "       ..................................................................,\n",
       "       ..................................................................,\n",      
       "       0., 0., 0., 0., 0., 0., 0., 0., 0., 0., 0., 0., 0., 0., 0., 0., 0.,\n",
       "       0., 0., 0., 0., 0., 0., 0., 0., 0., 0., 0., 0., 0., 0., 0., 0., 0.,\n",
       "       0., 0., 0., 0., 0., 0., 0., 0., 0., 0., 0., 0., 0., 0., 0., 0., 0.,\n",
       "       0., 0., 0., 0., 0., 0., 0., 0., 0., 0., 0., 0., 0., 0., 0., 0., 0.,\n",
       "       0., 0., 0., 0., 0., 0., 0., 0., 0., 0., 0., 0., 0., 0.])"
      ]
     },
     "execution_count": 3,
     "metadata": {},
     "output_type": "execute_result"
    }
   ],
   "source": [
    "# Let's suppose a dice is thrown 1000 times\n",
    "num_throws = 1000\n",
    "outcomes = np.zeros(num_throws) #Dice outcomes\n",
    "outcomes"
   ]
  },
  {
   "cell_type": "code",
   "execution_count": 4,
   "metadata": {},
   "outputs": [
    {
     "data": {
      "text/plain": [
       "4"
      ]
     },
     "execution_count": 4,
     "metadata": {},
     "output_type": "execute_result"
    }
   ],
   "source": [
    "outcome = np.random.choice(range(1,7))# Dice will give a random number between 1-6\n",
    "outcome"
   ]
  },
  {
   "cell_type": "code",
   "execution_count": 5,
   "metadata": {},
   "outputs": [
    {
     "data": {
      "text/plain": [
       "array([5., 3., 5., 4., 3., 3., 5., 6., 5., 1., 2., 6., 1., 2., 1., 4., 4.,\n",
       "       5., 6., 2., 4., 5., 3., 5., 2., 5., 5., 6., 5., 2., 5., 2., 6., 5.,\n",
       "       4., 6., 6., 5., 1., 2., 5., 3., 4., 4., 6., 4., 5., 4., 5., 4., 1.,\n",
       "       3., 1., 2., 5., 4., 1., 4., 4., 1., 5., 3., 4., 5., 5., 4., 4., 2.,\n",
       "       6., 4., 5., 6., 1., 2., 5., 1., 1., 4., 4., 3., 4., 1., 3., 4., 6.,\n",
       "       2., 6., 1., 1., 1., 5., 5., 5., 4., 6., 2., 2., 6., 1., 5., 2., 3.,\n",
       "       2., 2., 2., 2., 1., 5., 1., 1., 3., 1., 1., 5., 6., 3., 5., 5., 4.,\n",
       "       3., 4., 5., 2., 6., 6., 5., 2., 5., 1., 4., 4., 1., 3., 3., 5., 2.,\n",
       "       ..................................................................,\n",
       "       ..................................................................,\n", 
       "       5., 4., 1., 1., 6., 2., 5., 4., 4., 1., 5., 5., 4., 4., 1., 5., 6.,\n",
       "       4., 5., 1., 2., 4., 2., 4., 3., 6., 1., 6., 5., 3., 5., 1., 1., 6.,\n",
       "       1., 3., 2., 4., 1., 4., 3., 5., 6., 2., 6., 6., 2., 4., 2., 3., 4.,\n",
       "       1., 6., 3., 4., 3., 6., 3., 2., 2., 2., 5., 3., 2., 3., 2., 2., 5.,\n",
       "       3., 5., 2., 1., 6., 6., 3., 1., 3., 3., 5., 2., 5., 6., 6., 2., 6.,\n",
       "       5., 6., 4., 1., 2., 4., 1., 1., 1., 2., 6., 6., 6., 5., 1., 1., 2.,\n",
       "       6., 6., 1., 6., 5., 3., 4., 1., 3., 6., 5., 1., 2., 4., 2., 1., 4.,\n",
       "       6., 3., 4., 3., 1., 1., 2., 3., 2., 4., 2., 5., 1., 6., 6., 5., 1.,\n",
       "       5., 2., 1., 1., 4., 2., 6., 1., 6., 4., 4., 1., 2., 2., 5., 1., 6.,\n",
       "       3., 3., 2., 4., 5., 2., 3., 2., 1., 1., 5., 2., 2., 6., 1., 1., 1.,\n",
       "       2., 5., 6., 1., 2., 6., 3., 6., 4., 6., 4., 3., 4., 4., 3., 3., 5.,\n",
       "       1., 5., 4., 2., 3., 4., 6., 2., 4., 6., 6., 3., 6., 4.])"
      ]
     },
     "execution_count": 5,
     "metadata": {},
     "output_type": "execute_result"
    }
   ],
   "source": [
    "for i in range(num_throws):\n",
    "    # let's roll the die\n",
    "    outcome = np.random.choice(range(1,7))# Dice will give a random number between 1-6\n",
    "    outcomes[i] = outcome\n",
    "outcomes"
   ]
  },
  {
   "cell_type": "code",
   "execution_count": 6,
   "metadata": {},
   "outputs": [
    {
     "data": {
      "image/png": "[encoded data removed]",
      "text/plain": [
       "<Figure size 432x288 with 1 Axes>"
      ]
     },
     "metadata": {
      "needs_background": "light"
     },
     "output_type": "display_data"
    }
   ],
   "source": [
    "val, count = np.unique(outcomes, return_counts=True)\n",
    "Prob = count / len(outcomes) \n",
    "\n",
    "# Now that we have rolled our die 10000 times, let's plot the results\n",
    "plt.bar(val, Prob)\n",
    "plt.ylabel(\"Probability\")\n",
    "plt.xlabel(\"Dice Outcome\")\n",
    "plt.show()\n"
   ]
  },
  {
   "cell_type": "markdown",
   "metadata": {},
   "source": [
    "# Probability Density Function"
   ]
  },
  {
   "cell_type": "code",
   "execution_count": 7,
   "metadata": {},
   "outputs": [
    {
     "data": {
      "text/plain": [
       "array([3.56653449e-01, 8.10047083e-03, 4.08429508e-01, 2.91617571e-01,\n",
       "       2.04381253e-01, 3.76055827e-02, 2.23061607e-01, 1.58590045e-01,\n",
       "       2.25600801e-01, 2.48625648e-03, 1.89804965e-01, 1.31122178e-01,\n",
       "       3.62443778e-01, 3.45389846e-01, 2.28246687e-01, 4.30030436e-01,\n",
       "       3.69672137e-01, 4.32141052e-01, 2.46244471e-01, 3.96869098e-01,\n",
       "       3.07484107e-02, 3.26681713e-01, 2.44926259e-01, 1.24066874e-01,\n",
       "       1.58384693e-02, 1.97071855e-01, 3.42614158e-01, 1.29142299e-01,\n",
       "       ..............................................................,\n",
       "       ..............................................................,\n", 
       "       9.98563321e-02, 2.45469819e-01, 2.73351831e-01, 3.02529696e-01,\n",
       "       4.36103895e-01, 1.88448947e-01, 4.50203422e-01, 1.08263293e-02,\n",
       "       2.97061131e-01, 2.68061638e-01, 4.62001125e-01, 2.51319427e-01,\n",
       "       4.35511388e-01, 2.40605701e-01, 2.57198746e-01, 5.71687695e-02,\n",
       "       1.66128479e-01, 4.94815900e-01, 4.45262876e-01, 6.75777474e-02,\n",
       "       2.63026201e-01, 2.75112094e-01, 3.55166535e-01, 3.39455228e-01,\n",
       "       4.10306701e-01, 6.83900775e-02, 4.19738598e-01, 2.43509507e-01,\n",
       "       4.28491729e-01, 3.77426807e-02, 9.99952883e-02, 5.95460890e-02,\n",
       "       3.03010646e-01, 4.04774254e-02, 8.04882145e-02, 2.83959184e-02,\n",
       "       4.68717258e-01, 2.34545190e-02, 1.51672326e-01, 2.12584982e-01,\n",
       "       1.75238172e-02, 3.16407081e-01, 2.11139498e-02, 1.26345459e-01,\n",
       "       1.43007875e-01, 3.25020734e-01, 1.24509798e-01, 6.59139586e-02,\n",
       "       1.06439994e-01, 2.70017432e-01, 1.10578010e-02, 4.32157957e-01,\n",
       "       1.08973488e-01, 4.35985220e-01, 2.14324919e-01, 4.37302510e-01,\n",
       "       1.10405008e-01, 4.03252752e-01, 6.15419855e-02, 1.00180597e-01,\n",
       "       4.78232652e-01, 3.04833406e-01, 2.08561216e-01, 3.71744589e-01])"
      ]
     },
     "execution_count": 7,
     "metadata": {},
     "output_type": "execute_result"
    }
   ],
   "source": [
    "# Uniform Distribution\n",
    "x = np.random.uniform(0, 0.5, 1000)\n",
    "x"
   ]
  },
  {
   "cell_type": "code",
   "execution_count": 8,
   "metadata": {},
   "outputs": [
    {
     "data": {
      "text/plain": [
       "array([3.50046543e-05, 9.06720633e-04, 1.18776874e-03, 1.82477503e-03,\n",
       "       2.48625648e-03, 3.02255349e-03, 4.43788772e-03, 4.45865101e-03,\n",
       "       4.49096184e-03, 4.62997255e-03, 5.53098776e-03, 5.55092330e-03,\n",
       "       6.11094868e-03, 6.26481970e-03, 7.91275317e-03, 8.10047083e-03,\n",
       "       8.16558098e-03, 8.68035168e-03, 8.87291417e-03, 8.93277293e-03,\n",
       "       8.95660594e-03, 9.11323393e-03, 9.47168735e-03, 9.80320003e-03,\n",
       "       1.01721955e-02, 1.02957009e-02, 1.08263293e-02, 1.10578010e-02,\n",
       "       1.25627386e-02, 1.32448927e-02, 1.32842895e-02, 1.33998171e-02,\n",
       "       1.38325406e-02, 1.41183084e-02, 1.41945023e-02, 1.42247306e-02,\n",
       "       1.43997927e-02, 1.48662990e-02, 1.48783639e-02, 1.50121423e-02,\n",
       "       1.54142187e-02, 1.58384693e-02, 1.75238172e-02, 1.78333613e-02,\n",
       "       1.95635331e-02, 2.01034369e-02, 2.04220653e-02, 2.11038015e-02,\n",
       "       2.11139498e-02, 2.16963680e-02, 2.20468026e-02, 2.30655062e-02,\n",
       "       2.33161695e-02, 2.34545190e-02, 2.37072712e-02, 2.42246152e-02,\n",
       "       ..............................................................,\n",
       "       ..............................................................,\n", 
       "       1.30725347e-01, 1.31122178e-01, 1.31342534e-01, 1.32466072e-01,\n",
       "       1.33118575e-01, 1.34057113e-01, 1.34486981e-01, 1.34719661e-01,\n",
       "       1.35116671e-01, 1.36178537e-01, 1.36199356e-01, 1.37257803e-01,\n",
       "       1.37656576e-01, 1.37741696e-01, 1.38493142e-01, 1.38569015e-01,\n",
       "       1.39098270e-01, 1.39116085e-01, 1.39746397e-01, 1.39929371e-01,\n",
       "       1.40476277e-01, 1.40870652e-01, 1.41522270e-01, 1.41615258e-01,\n",
       "       1.41753997e-01, 1.42026675e-01, 1.42356889e-01, 1.42877853e-01,\n",
       "       1.42892188e-01, 1.43007875e-01, 1.43430446e-01, 1.43858489e-01,\n",
       "       1.43996625e-01, 1.44432002e-01, 1.45067746e-01, 1.45206406e-01,\n",
       "       1.45599798e-01, 1.45777093e-01, 1.46946336e-01, 1.47059244e-01,\n",
       "       1.47071571e-01, 1.47517708e-01, 1.48261556e-01, 1.48396549e-01,\n",
       "       1.49345547e-01, 1.49903471e-01, 1.51672326e-01, 1.52301902e-01,\n",
       "       1.52349964e-01, 1.52582878e-01, 1.53154799e-01, 1.53316874e-01,\n",
       "       4.81449685e-01, 4.81471198e-01, 4.82009061e-01, 4.82570256e-01,\n",
       "       4.83768585e-01, 4.84347421e-01, 4.85180983e-01, 4.85813666e-01,\n",
       "       4.86386272e-01, 4.86999977e-01, 4.87590915e-01, 4.87656200e-01,\n",
       "       4.87962604e-01, 4.89455342e-01, 4.90049220e-01, 4.90261714e-01,\n",
       "       4.90398559e-01, 4.90963104e-01, 4.91057702e-01, 4.91103596e-01,\n",
       "       4.91710390e-01, 4.93471156e-01, 4.94815900e-01, 4.94889542e-01,\n",
       "       4.95288715e-01, 4.95654293e-01, 4.96863201e-01, 4.98255422e-01,\n",
       "       4.98538326e-01, 4.99260237e-01, 4.99312345e-01, 4.99879259e-01])"
      ]
     },
     "execution_count": 8,
     "metadata": {},
     "output_type": "execute_result"
    }
   ],
   "source": [
    "np.unique(x)"
   ]
  },
  {
   "cell_type": "code",
   "execution_count": 9,
   "metadata": {},
   "outputs": [
    {
     "data": {
      "image/png": "[encoded data removed]",
      "text/plain": [
       "<Figure size 432x288 with 1 Axes>"
      ]
     },
     "metadata": {
      "needs_background": "light"
     },
     "output_type": "display_data"
    }
   ],
   "source": [
    "plt.figure\n",
    "sns.distplot(x,color=\"g\")\n",
    "plt.title('Uniform Distribution')\n",
    "plt.show()"
   ]
  },
  {
   "cell_type": "code",
   "execution_count": 10,
   "metadata": {},
   "outputs": [
    {
     "name": "stdout",
     "output_type": "stream",
     "text": [
      "(1000,)\n"
     ]
    },
    {
     "data": {
      "text/plain": [
       "array([-0.91992205, -0.83091762, -1.18707935, -0.69085597,  0.66583049,\n",
       "       -1.49025479,  0.53156058, -2.03278075,  1.1257419 ,  1.56602733])"
      ]
     },
     "execution_count": 10,
     "metadata": {},
     "output_type": "execute_result"
    }
   ],
   "source": [
    "# Gaussian Distribution\n",
    "x = np.random.normal(0,1,1000) #0 mean unit standard deviation\n",
    "print(x.shape)\n",
    "x[:10]"
   ]
  },
  {
   "cell_type": "code",
   "execution_count": 11,
   "metadata": {},
   "outputs": [
    {
     "data": {
      "text/plain": [
       "Text(0.5, 1.0, 'Gaussian Distribution')"
      ]
     },
     "execution_count": 11,
     "metadata": {},
     "output_type": "execute_result"
    },
    {
     "data": {
      "image/png": "[encoded data removed]",
      "text/plain": [
       "<Figure size 432x288 with 1 Axes>"
      ]
     },
     "metadata": {
      "needs_background": "light"
     },
     "output_type": "display_data"
    }
   ],
   "source": [
    "plt.figure\n",
    "ax = sns.distplot(x,color=\"m\")\n",
    "plt.title('Gaussian Distribution')"
   ]
  },
  {
   "cell_type": "code",
   "execution_count": 12,
   "metadata": {},
   "outputs": [
    {
     "data": {
      "text/plain": [
       "Text(0.5, 1.0, 'Gaussian Distribution')"
      ]
     },
     "execution_count": 12,
     "metadata": {},
     "output_type": "execute_result"
    },
    {
     "data": {
      "image/png": "[encoded data removed]",
      "text/plain": [
       "<Figure size 432x288 with 1 Axes>"
      ]
     },
     "metadata": {
      "needs_background": "light"
     },
     "output_type": "display_data"
    }
   ],
   "source": [
    "# Remove histogram\n",
    "ax = sns.distplot(x, hist=False,color=\"m\")\n",
    "plt.figure\n",
    "plt.title('Gaussian Distribution')"
   ]
  },
  {
   "cell_type": "markdown",
   "metadata": {},
   "source": [
    "# Maximum Likelihood Estimation (MLE)"
   ]
  },
  {
   "cell_type": "code",
   "execution_count": 13,
   "metadata": {},
   "outputs": [
    {
     "data": {
      "image/png": "[encoded data removed]",
      "text/plain": [
       "<Figure size 432x288 with 1 Axes>"
      ]
     },
     "metadata": {
      "needs_background": "light"
     },
     "output_type": "display_data"
    }
   ],
   "source": [
    "mean = 0\n",
    "std = 5\n",
    "N_points = 1000\n",
    "data = np.random.normal(mean, std, N_points)#Gaussian distribution with mean 2 and standard deviation 3\n",
    "ax = sns.distplot(data, hist = False, color=\"green\")"
   ]
  },
  {
   "cell_type": "code",
   "execution_count": 14,
   "metadata": {},
   "outputs": [
    {
     "name": "stdout",
     "output_type": "stream",
     "text": [
      "True mean is 0 and variance is 25\n"
     ]
    }
   ],
   "source": [
    "print('True mean is '+str(mean) + ' and variance is ' + str(std**2))"
   ]
  },
  {
   "cell_type": "markdown",
   "metadata": {},
   "source": [
    "\\begin{equation*}\n",
    "\\mu_{ML} = \\frac{1}{N}\\sum_{n=1}^N x_n\n",
    "\\end{equation*}"
   ]
  },
  {
   "cell_type": "code",
   "execution_count": 15,
   "metadata": {},
   "outputs": [
    {
     "name": "stdout",
     "output_type": "stream",
     "text": [
      "Maximum likelihood estimation of mean is -0.08242948810797099\n"
     ]
    }
   ],
   "source": [
    "mu_ML = 1/N_points*sum(data)\n",
    "print('Maximum likelihood estimation of mean is '+str(mu_ML))"
   ]
  },
  {
   "cell_type": "markdown",
   "metadata": {},
   "source": [
    "\\begin{equation*}\n",
    "\\sigma^2_{ML} = \\frac{1}{N}\\sum_{n=1}^N (x_n - \\mu_{ML})^2\n",
    "\\end{equation*}"
   ]
  },
  {
   "cell_type": "code",
   "execution_count": 16,
   "metadata": {},
   "outputs": [
    {
     "name": "stdout",
     "output_type": "stream",
     "text": [
      "Maximum likelihood estimation of variance is 24.0404484622248\n"
     ]
    }
   ],
   "source": [
    "var_ML = (1/N_points)*sum([(x-mu_ML)**2 for x in data])\n",
    "print('Maximum likelihood estimation of variance is ' + str(var_ML))"
   ]
  },
  {
   "cell_type": "code",
   "execution_count": null,
   "metadata": {},
   "outputs": [],
   "source": []
  }
 ],
 "metadata": {
  "kernelspec": {
   "display_name": "Python 3",
   "language": "python",
   "name": "python3"
  },
  "language_info": {
   "codemirror_mode": {
    "name": "ipython",
    "version": 3
   },
   "file_extension": ".py",
   "mimetype": "text/x-python",
   "name": "python",
   "nbconvert_exporter": "python",
   "pygments_lexer": "ipython3",
   "version": "3.7.0"
  }
 },
 "nbformat": 4,
 "nbformat_minor": 4
}
