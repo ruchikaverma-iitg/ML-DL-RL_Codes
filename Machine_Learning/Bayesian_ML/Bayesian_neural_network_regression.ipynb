{
  "nbformat": 4,
  "nbformat_minor": 0,
  "metadata": {
    "colab": {
      "name": "Bayesian_neural_network_regression.ipynb",
      "provenance": [],
      "authorship_tag": "ABX9TyOKmlWBoWAuf9QyyXK7vBDS",
      "include_colab_link": true
    },
    "kernelspec": {
      "name": "python3",
      "display_name": "Python 3"
    },
    "language_info": {
      "name": "python"
    }
  },
  "cells": [
    {
      "cell_type": "markdown",
      "metadata": {
        "id": "view-in-github",
        "colab_type": "text"
      },
      "source": [
        "<a href=\"https://colab.research.google.com/github/ruchikaverma-iitg/ML-DL-RL_Codes/blob/master/Machine_Learning/Bayesian_ML/Bayesian_neural_network_regression.ipynb\" target=\"_parent\"><img src=\"https://colab.research.google.com/assets/colab-badge.svg\" alt=\"Open In Colab\"/></a>"
      ]
    },
    {
      "cell_type": "code",
      "metadata": {
        "colab": {
          "base_uri": "https://localhost:8080/"
        },
        "id": "8lk4McOrJTV7",
        "outputId": "9eaca3c5-44df-4c31-e7a2-43f9dd514322"
      },
      "source": [
        "pip install torchbnn"
      ],
      "execution_count": 85,
      "outputs": [
        {
          "output_type": "stream",
          "text": [
            "Collecting torchbnn\n",
            "  Downloading https://files.pythonhosted.org/packages/68/47/4629eb37ec9e28d162f76cc44a988bb1f29c7fb2598918b29a06e342fa0d/torchbnn-1.2-py3-none-any.whl\n",
            "Installing collected packages: torchbnn\n",
            "Successfully installed torchbnn-1.2\n"
          ],
          "name": "stdout"
        }
      ]
    },
    {
      "cell_type": "code",
      "metadata": {
        "id": "jNYoDcqtR-Cg"
      },
      "source": [
        "import numpy as np\n",
        "from sklearn import datasets\n",
        "\n",
        "import torch\n",
        "import torch.nn as nn\n",
        "import torch.optim as optim\n",
        "\n",
        "import torchbnn as bnn"
      ],
      "execution_count": 119,
      "outputs": []
    },
    {
      "cell_type": "code",
      "metadata": {
        "id": "0gGl4bOGRNRU"
      },
      "source": [
        "import matplotlib.pyplot as plt\n",
        "%matplotlib inline"
      ],
      "execution_count": 120,
      "outputs": []
    },
    {
      "cell_type": "markdown",
      "metadata": {
        "id": "jk1qRGgySJma"
      },
      "source": [
        "# Generate sample data"
      ]
    },
    {
      "cell_type": "code",
      "metadata": {
        "colab": {
          "base_uri": "https://localhost:8080/",
          "height": 298
        },
        "id": "D42OL1miRN5S",
        "outputId": "0585fc0b-43f1-49fd-9ca9-d4ff2404d332"
      },
      "source": [
        "\n",
        "x = torch.linspace(-2, 2, 500)\n",
        "y = x.pow(3) - x.pow(2) + 3*torch.rand(x.size())\n",
        "x = torch.unsqueeze(x, dim=1)\n",
        "y = torch.unsqueeze(y, dim=1)\n",
        "\n",
        "print(x.size())\n",
        "print(y.size())\n",
        "plt.scatter(x.data.numpy(), y.data.numpy())\n",
        "plt.show()"
      ],
      "execution_count": 121,
      "outputs": [
        {
          "output_type": "stream",
          "text": [
            "torch.Size([500, 1])\n",
            "torch.Size([500, 1])\n"
          ],
          "name": "stdout"
        },
        {
          "output_type": "display_data",
          "data": {
            "image/png": "[encoded data removed]",
            "text/plain": [
              "<Figure size 432x288 with 1 Axes>"
            ]
          },
          "metadata": {
            "tags": [],
            "needs_background": "light"
          }
        }
      ]
    },
    {
      "cell_type": "markdown",
      "metadata": {
        "id": "1ALBS8RLS0F8"
      },
      "source": [
        "# Model Definition"
      ]
    },
    {
      "cell_type": "code",
      "metadata": {
        "colab": {
          "base_uri": "https://localhost:8080/"
        },
        "id": "zlAPaMIzSNeO",
        "outputId": "809b56f7-f29a-4f6a-8e42-f0557e59c075"
      },
      "source": [
        "model = nn.Sequential(\n",
        "    bnn.BayesLinear(prior_mu=0, prior_sigma=0.1, in_features=1, out_features=100),\n",
        "    nn.ReLU(),\n",
        "    bnn.BayesLinear(prior_mu=0, prior_sigma=0.1, in_features=100, out_features=1),\n",
        ")\n",
        "model"
      ],
      "execution_count": 122,
      "outputs": [
        {
          "output_type": "execute_result",
          "data": {
            "text/plain": [
              "Sequential(\n",
              "  (0): BayesLinear(prior_mu=0, prior_sigma=0.1, in_features=1, out_features=100, bias=True)\n",
              "  (1): ReLU()\n",
              "  (2): BayesLinear(prior_mu=0, prior_sigma=0.1, in_features=100, out_features=1, bias=True)\n",
              ")"
            ]
          },
          "metadata": {
            "tags": []
          },
          "execution_count": 122
        }
      ]
    },
    {
      "cell_type": "code",
      "metadata": {
        "id": "alzB56jXSxx6"
      },
      "source": [
        "mse_loss = nn.MSELoss()\n",
        "kl_loss = bnn.BKLLoss(reduction='mean', last_layer_only=False)\n",
        "kl_weight = 0.01\n",
        "\n",
        "optimizer = optim.Adam(model.parameters(), lr=0.01)"
      ],
      "execution_count": 123,
      "outputs": []
    },
    {
      "cell_type": "code",
      "metadata": {
        "id": "eW5t65JIS7Jy"
      },
      "source": [
        "# Model Training"
      ],
      "execution_count": 124,
      "outputs": []
    },
    {
      "cell_type": "code",
      "metadata": {
        "colab": {
          "base_uri": "https://localhost:8080/"
        },
        "id": "m7Q7TYolX4_f",
        "outputId": "25e224f7-8d88-424b-fcf8-1efe31e0745c"
      },
      "source": [
        "kl_weight = 0.1\n",
        "\n",
        "\n",
        "for step in range(3000):\n",
        "    pre = model(x)\n",
        "    mse = mse_loss(pre, y)\n",
        "    kl = kl_loss(model)\n",
        "    cost = mse + kl_weight*kl\n",
        "    \n",
        "    optimizer.zero_grad()\n",
        "    cost.backward()\n",
        "    optimizer.step()\n",
        "    \n",
        "print('MSE : %2.2f, KL : %2.2f' % (mse.item(), kl.item()))"
      ],
      "execution_count": 125,
      "outputs": [
        {
          "output_type": "stream",
          "text": [
            "MSE : 0.96, KL : 5.59\n"
          ],
          "name": "stdout"
        }
      ]
    },
    {
      "cell_type": "markdown",
      "metadata": {
        "id": "FZfz8NEidxT2"
      },
      "source": [
        "# Test Model"
      ]
    },
    {
      "cell_type": "code",
      "metadata": {
        "id": "1vdMzA_0X88P"
      },
      "source": [
        "x_test = torch.linspace(-2, 2, 500)\n",
        "y_test = x_test.pow(3) - x_test.pow(2) + 3*torch.rand(x_test.size())\n",
        "\n",
        "x_test = torch.unsqueeze(x_test, dim=1)\n",
        "y_test = torch.unsqueeze(y_test, dim=1)"
      ],
      "execution_count": 126,
      "outputs": []
    },
    {
      "cell_type": "code",
      "metadata": {
        "colab": {
          "base_uri": "https://localhost:8080/",
          "height": 281
        },
        "id": "0GoyItsLd1rb",
        "outputId": "64b7e41e-ba11-4b67-b43e-6cf7551c0edd"
      },
      "source": [
        "plt.xlabel(r'$x$')\n",
        "plt.ylabel(r'$y$')\n",
        "\n",
        "plt.scatter(x_test.data.numpy(), y_test.data.numpy(), color='k', s=3) \n",
        "\n",
        "y_predict = model(x_test)\n",
        "plt.plot(x_test.data.numpy(), y_predict.data.numpy(), 'r-', linewidth=5, label='First Prediction')\n",
        "\n",
        "y_predict = model(x_test)\n",
        "plt.plot(x_test.data.numpy(), y_predict.data.numpy(), 'b-', linewidth=5, label='Second Prediction')\n",
        "\n",
        "y_predict = model(x_test)\n",
        "plt.plot(x_test.data.numpy(), y_predict.data.numpy(), 'g-', linewidth=5, label='Third Prediction')\n",
        "\n",
        "plt.legend()\n",
        "\n",
        "plt.show()"
      ],
      "execution_count": 131,
      "outputs": [
        {
          "output_type": "display_data",
          "data": {
            "image/png": "[encoded data removed]",
            "text/plain": [
              "<Figure size 432x288 with 1 Axes>"
            ]
          },
          "metadata": {
            "tags": [],
            "needs_background": "light"
          }
        }
      ]
    },
    {
      "cell_type": "code",
      "metadata": {
        "id": "RpLaU7r4fMIH"
      },
      "source": [
        ""
      ],
      "execution_count": null,
      "outputs": []
    }
  ]
}