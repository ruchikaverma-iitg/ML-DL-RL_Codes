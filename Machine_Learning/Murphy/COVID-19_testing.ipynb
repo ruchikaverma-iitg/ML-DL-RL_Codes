{
  "nbformat": 4,
  "nbformat_minor": 0,
  "metadata": {
    "colab": {
      "name": "Untitled0.ipynb",
      "provenance": [],
      "collapsed_sections": [],
      "authorship_tag": "ABX9TyPpSZdxcP3I9Mgi2DgBSmU2",
      "include_colab_link": true
    },
    "kernelspec": {
      "name": "python3",
      "display_name": "Python 3"
    },
    "language_info": {
      "name": "python"
    }
  },
  "cells": [
    {
      "cell_type": "markdown",
      "metadata": {
        "id": "view-in-github",
        "colab_type": "text"
      },
      "source": [
        "<a href=\"https://colab.research.google.com/github/ruchikaverma-iitg/ML-DL-RL_Codes/blob/master/Machine_Learning/Murphy/COVID-19_testing.ipynb\" target=\"_parent\"><img src=\"https://colab.research.google.com/assets/colab-badge.svg\" alt=\"Open In Colab\"/></a>"
      ]
    },
    {
      "cell_type": "markdown",
      "metadata": {
        "id": "Ox7u-4IJ6H7Z"
      },
      "source": [
        "# 2.3.1 Example: Bayes rule for COVID-19 diagnosis\n",
        "\n",
        "Consider estimating if someone has COVID $H=1$ or not $H=0$ on the basis of a PCR test. The test can either return a positive result $Y=1$ or a negative result $Y=0$. The reliability of the test is given by the following observation model.\n",
        "\n",
        "p(Y = 1 | H = 1) = True Positive Rate (TPR) = Sensitivity\n",
        "\n",
        "P(Y = 0 | H = 0) = True Negative Rate (TNR) = Specificity\n",
        "\n",
        "P(Y = 1 | H = 0) = False Positive Rate (FPR) = 1-TNR\n",
        "\n",
        "P(Y = 0 | H = 1) = False Negative Rate (FNR) = 1-TPR"
      ]
    },
    {
      "cell_type": "markdown",
      "metadata": {
        "id": "gziJEAgS6x7e"
      },
      "source": [
        "Using data from https://www.nytimes.com/2020/08/04/science/coronavirus-bayes-statistics-math.html, we set sensitivity to 87.5% and the specificity to 97.5%.\n",
        "\n",
        "We also need to specify the prior probability  𝑝(𝐻=1) ; this is known as the prevalence. This varies over time and place, but let's pick  𝑝(𝐻=1)=0.1  as a reasonable estimate."
      ]
    },
    {
      "cell_type": "markdown",
      "metadata": {
        "id": "PHVYrqQd7RB8"
      },
      "source": [
        "If you test positive:\n",
        "\n",
        "\\begin{align}\n",
        "p(H=1|Y=1) \n",
        " &= \\frac{p(Y=1|H=1) p(H=1)}\n",
        "{p(Y=1|H=1) p(H=1) + p(Y=1|H=0) p(H=0)}\n",
        "= \\frac{TPR * prior}\n",
        "{TPR* prior + FPR* (1-prior)}\n",
        "= 0.795\n",
        "\\end{align}\n",
        "\n",
        "If you test negative:\n",
        "\\begin{align}\n",
        "p(H=1|Y=0) \n",
        " &= \\frac{p(Y=0|H=1) p(H=1)}\n",
        "{p(Y=0|H=1) p(H=1) + p(Y=0|H=0) p(H=0)}\n",
        "= \\frac{FNR * prior}\n",
        "{FNR * prior + TNR*(1-prior)}\n",
        "=0.014\n",
        "\\end{align}"
      ]
    },
    {
      "cell_type": "code",
      "metadata": {
        "id": "w5yvB2Y27RoF"
      },
      "source": [
        "import numpy as np\n",
        "\n",
        "def normalize(x):\n",
        "  return x / np.sum(x)\n",
        "\n",
        "def posterior_covid(observed, prevalence=None, sensitivity=None):\n",
        "  # Y (test result): observed = 0 for negative test, 1 for positive test\n",
        "  # H (actual state - infected/not infected): hidden state = 0 if no-covid, 1 if have-covid\n",
        "\n",
        "  if sensitivity is None:\n",
        "    sensitivity = 0.875\n",
        "\n",
        "  specificity = 0.975\n",
        "\n",
        "  TPR = sensitivity; \n",
        "  FNR = 1-TPR\n",
        "  TNR = specificity\n",
        "  FPR = 1-TNR\n",
        "\n",
        "  # prior(hidden)\n",
        "  if prevalence is None:\n",
        "    prevalence = 0.1\n",
        "\n",
        "  # likelihood(hidden, obs)\n",
        "  likelihood_fn = np.array([[TNR, FPR], [FNR, TPR]])# 2x2 matrix where test results are on x - axis and ground-truth on y-axis\n",
        "\n",
        "  prior = np.array([1-prevalence, prevalence])\n",
        "  likelihood = likelihood_fn[:, observed].T\n",
        "  posterior = normalize(prior * likelihood)\n",
        "  return posterior"
      ],
      "execution_count": 15,
      "outputs": []
    },
    {
      "cell_type": "markdown",
      "metadata": {
        "id": "Bb468TO48QWK"
      },
      "source": [
        "For a prevalence of  p(H=1)=0.1"
      ]
    },
    {
      "cell_type": "code",
      "metadata": {
        "colab": {
          "base_uri": "https://localhost:8080/"
        },
        "id": "FrrPyHaY7mVZ",
        "outputId": "b2a9f41f-6ace-4174-905d-e474caa10b0e"
      },
      "source": [
        "print(f\"Probability of being infected (H=1) given the test is positive (Y=1), {posterior_covid(observed=1)[1]*100}\")\n",
        "print(f\"Probability of being infected (H=1) given the test is negative (Y=0), {posterior_covid(observed=0)[1]*100}\")"
      ],
      "execution_count": 16,
      "outputs": [
        {
          "output_type": "stream",
          "text": [
            "Probability of being infected (H=1) given the test is positive (Y=1), 79.54545454545453\n",
            "Probability of being infected (H=1) given the test is negative (Y=0), 1.4044943820224722\n"
          ],
          "name": "stdout"
        }
      ]
    },
    {
      "cell_type": "markdown",
      "metadata": {
        "id": "HcORCMtiEMTC"
      },
      "source": [
        "For a prevalence of  p(H=1)=0.01"
      ]
    },
    {
      "cell_type": "code",
      "metadata": {
        "colab": {
          "base_uri": "https://localhost:8080/"
        },
        "id": "PtqpkDX48TL9",
        "outputId": "9f5a63f0-1e43-41b3-ce92-45b6718aa25f"
      },
      "source": [
        "print(f\"Probability of being infected (H=1) given the test is positive (Y=1),{posterior_covid(observed = 1, prevalence = 0.01)[1]*100}\") # positive test \n",
        "print(f\"Probability of being infected (H=1) given the test is negative (Y=0), {posterior_covid(observed = 0, prevalence=0.01)[1]*100}\") # negative test"
      ],
      "execution_count": 17,
      "outputs": [
        {
          "output_type": "stream",
          "text": [
            "Probability of being infected (H=1) given the test is positive (Y=1),26.119402985074615\n",
            "Probability of being infected (H=1) given the test is negative (Y=0), 0.12933264355923438\n"
          ],
          "name": "stdout"
        }
      ]
    },
    {
      "cell_type": "code",
      "metadata": {
        "colab": {
          "base_uri": "https://localhost:8080/"
        },
        "id": "Mce9eP4bEoxj",
        "outputId": "adc823df-302a-4614-aa29-71d2f808aee9"
      },
      "source": [
        "pop = 100000 #population\n",
        "infected = 0.01*pop #Total positives (H=1)\n",
        "print(f\"Infected \", infected)\n",
        "sens = 87.5/100\n",
        "spec = 97.5/100\n",
        "FPR = 1-spec\n",
        "FNR = 1-sens\n",
        "print(f\"FPR and FNR - {[FPR, FNR]}\")\n",
        "\n",
        "true_pos = sens * infected\n",
        "false_pos = FPR * (pop-infected)\n",
        "\n",
        "print(f\"TP and FP - {[true_pos, false_pos]}\")\n",
        "\n",
        "num_pos = true_pos + false_pos\n",
        "posterior = true_pos/num_pos\n",
        "print(f\"#Positives and Posterior-{[num_pos, posterior]}\")"
      ],
      "execution_count": 26,
      "outputs": [
        {
          "output_type": "stream",
          "text": [
            "Infected  1000.0\n",
            "FPR and FNR - [0.025000000000000022, 0.125]\n",
            "TP and FP - [875.0, 2475.0000000000023]\n",
            "#Positives and Posterior-[3350.0000000000023, 0.2611940298507461]\n"
          ],
          "name": "stdout"
        }
      ]
    },
    {
      "cell_type": "code",
      "metadata": {
        "id": "Ojp1rQg0FPC3"
      },
      "source": [
        ""
      ],
      "execution_count": null,
      "outputs": []
    }
  ]
}